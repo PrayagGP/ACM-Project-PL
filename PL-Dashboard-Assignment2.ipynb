{
  "nbformat": 4,
  "nbformat_minor": 0,
  "metadata": {
    "colab": {
      "provenance": []
    },
    "kernelspec": {
      "name": "python3",
      "display_name": "Python 3"
    },
    "language_info": {
      "name": "python"
    }
  },
  "cells": [
    {
      "cell_type": "code",
      "execution_count": 129,
      "metadata": {
        "id": "4Y4QTcwFUL8x",
        "colab": {
          "base_uri": "https://localhost:8080/",
          "height": 245
        },
        "outputId": "3f3da54b-455b-41d2-ade1-f04456bd2243"
      },
      "outputs": [
        {
          "output_type": "error",
          "ename": "IndexError",
          "evalue": "ignored",
          "traceback": [
            "\u001b[0;31m---------------------------------------------------------------------------\u001b[0m",
            "\u001b[0;31mIndexError\u001b[0m                                Traceback (most recent call last)",
            "\u001b[0;32m<ipython-input-129-a3bc0d376d50>\u001b[0m in \u001b[0;36m<cell line: 7>\u001b[0;34m()\u001b[0m\n\u001b[1;32m      5\u001b[0m \u001b[0;32mfrom\u001b[0m \u001b[0mbs4\u001b[0m \u001b[0;32mimport\u001b[0m \u001b[0mBeautifulSoup\u001b[0m\u001b[0;34m\u001b[0m\u001b[0;34m\u001b[0m\u001b[0m\n\u001b[1;32m      6\u001b[0m \u001b[0msoup\u001b[0m\u001b[0;34m=\u001b[0m\u001b[0mBeautifulSoup\u001b[0m\u001b[0;34m(\u001b[0m\u001b[0mdata\u001b[0m\u001b[0;34m.\u001b[0m\u001b[0mtext\u001b[0m\u001b[0;34m)\u001b[0m\u001b[0;34m\u001b[0m\u001b[0;34m\u001b[0m\u001b[0m\n\u001b[0;32m----> 7\u001b[0;31m \u001b[0mstandings_table\u001b[0m\u001b[0;34m=\u001b[0m\u001b[0msoup\u001b[0m\u001b[0;34m.\u001b[0m\u001b[0mselect\u001b[0m\u001b[0;34m(\u001b[0m\u001b[0;34m'table.stats_table'\u001b[0m\u001b[0;34m)\u001b[0m\u001b[0;34m[\u001b[0m\u001b[0;36m0\u001b[0m\u001b[0;34m]\u001b[0m\u001b[0;34m\u001b[0m\u001b[0;34m\u001b[0m\u001b[0m\n\u001b[0m\u001b[1;32m      8\u001b[0m \u001b[0mlinks\u001b[0m\u001b[0;34m=\u001b[0m\u001b[0mstandings_table\u001b[0m\u001b[0;34m.\u001b[0m\u001b[0mfind_all\u001b[0m\u001b[0;34m(\u001b[0m\u001b[0;34m'a'\u001b[0m\u001b[0;34m)\u001b[0m\u001b[0;34m\u001b[0m\u001b[0;34m\u001b[0m\u001b[0m\n\u001b[1;32m      9\u001b[0m \u001b[0mlinks\u001b[0m\u001b[0;34m=\u001b[0m\u001b[0;34m[\u001b[0m\u001b[0ml\u001b[0m\u001b[0;34m.\u001b[0m\u001b[0mget\u001b[0m\u001b[0;34m(\u001b[0m\u001b[0;34m\"href\"\u001b[0m\u001b[0;34m)\u001b[0m \u001b[0;32mfor\u001b[0m \u001b[0ml\u001b[0m \u001b[0;32min\u001b[0m \u001b[0mlinks\u001b[0m\u001b[0;34m]\u001b[0m\u001b[0;34m\u001b[0m\u001b[0;34m\u001b[0m\u001b[0m\n",
            "\u001b[0;31mIndexError\u001b[0m: list index out of range"
          ]
        }
      ],
      "source": [
        "import requests\n",
        "standings_url=\"https://fbref.com/en/comps/9/2018-2019/2018-2019-Premier-League-Stats\"\n",
        "data=requests.get(standings_url)\n",
        "data.text\n",
        "from bs4 import BeautifulSoup\n",
        "soup=BeautifulSoup(data.text)\n",
        "standings_table=soup.select('table.stats_table')[0]\n",
        "links=standings_table.find_all('a')\n",
        "links=[l.get(\"href\") for l in links]\n",
        "links = [l for l in links if '/squads' in l]\n",
        "team_urls=[f\"https://fbref.com{l}\" for l in links]\n",
        "team_url=team_urls[0]\n",
        "data=requests.get(team_url)\n",
        "import pandas as pd\n",
        "matches=pd.read_html(data.text,match=\"Scores & Fixtures\")\n",
        "\n",
        "\n"
      ]
    },
    {
      "cell_type": "code",
      "source": [
        "soup=BeautifulSoup(data.text)\n",
        "links=soup.find_all('a')\n",
        "links=[l.get(\"href\") for l in links]\n",
        "links = [l for l in links if l and  'all_comps/shooting/' in l]\n",
        "data=requests.get(f\"https://fbref.com{links[0]}\")\n",
        "shooting =pd.read_html(data.text,match=\"Shooting\")[0]\n"
      ],
      "metadata": {
        "id": "EolSiT4oZHT6"
      },
      "execution_count": null,
      "outputs": []
    },
    {
      "cell_type": "code",
      "source": [
        "shooting.columns=shooting.columns.droplevel()"
      ],
      "metadata": {
        "id": "W0Sc4QGcaD6z"
      },
      "execution_count": null,
      "outputs": []
    },
    {
      "cell_type": "code",
      "source": [
        "team_data=matches[0].merge(shooting[[\"Date\",\"Sh\",\"SoT\",\"Dist\",\"FK\",\"PK\",\"PKatt\"]],on=\"Date\")\n",
        "team_data=team_data[team_data[\"Comp\"] == \"Premier League\"]\n",
        "team_data"
      ],
      "metadata": {
        "id": "RiGCUnBEbrXi"
      },
      "execution_count": null,
      "outputs": []
    },
    {
      "cell_type": "code",
      "execution_count": null,
      "metadata": {
        "id": "hyxO4xwm2HdT"
      },
      "outputs": [],
      "source": [
        "standings_url=\"https://fbref.com/en/comps/9/2018-2019/2018-2019-Premier-League-Stats\"\n",
        "data=requests.get(standings_url)\n",
        "data.text\n",
        "from bs4 import BeautifulSoup\n",
        "soup=BeautifulSoup(data.text)\n",
        "standings_table=soup.select('table.stats_table')[0]\n",
        "links=standings_table.find_all('a')\n",
        "links=[l.get(\"href\") for l in links]\n",
        "links = [l for l in links if '/squads' in l]\n",
        "team_urls=[f\"https://fbref.com{l}\" for l in links]\n",
        "team_url=team_urls[1]\n",
        "data=requests.get(team_url)\n",
        "import pandas as pd\n",
        "matches=pd.read_html(data.text,match=\"Scores & Fixtures\")\n",
        "\n",
        "\n"
      ]
    },
    {
      "cell_type": "code",
      "source": [
        "soup=BeautifulSoup(data.text)\n",
        "links=soup.find_all('a')\n",
        "links=[l.get(\"href\") for l in links]\n",
        "links = [l for l in links if l and  'all_comps/shooting/' in l]\n",
        "data=requests.get(f\"https://fbref.com{links[0]}\")\n",
        "shooting =pd.read_html(data.text,match=\"Shooting\")[0]\n"
      ],
      "metadata": {
        "id": "HMpMQXNM2HdU"
      },
      "execution_count": null,
      "outputs": []
    },
    {
      "cell_type": "code",
      "source": [
        "shooting.columns=shooting.columns.droplevel()\n"
      ],
      "metadata": {
        "id": "HPCLOi0m2HdU"
      },
      "execution_count": null,
      "outputs": []
    },
    {
      "cell_type": "code",
      "source": [
        "team1_data=matches[0].merge(shooting[[\"Date\",\"Sh\",\"SoT\",\"Dist\",\"FK\",\"PK\",\"PKatt\"]],on=\"Date\")\n",
        "team1_data=team1_data[team1_data[\"Comp\"] == \"Premier League\"]\n",
        "team1_data"
      ],
      "metadata": {
        "id": "z7DyjEoG2HdV"
      },
      "execution_count": null,
      "outputs": []
    },
    {
      "cell_type": "code",
      "execution_count": null,
      "metadata": {
        "id": "6gcL9tqZ3Gnz"
      },
      "outputs": [],
      "source": [
        "import requests\n",
        "standings_url=\"https://fbref.com/en/comps/9/2018-2019/2018-2019-Premier-League-Stats\"\n",
        "data=requests.get(standings_url)\n",
        "data.text\n",
        "from bs4 import BeautifulSoup\n",
        "soup=BeautifulSoup(data.text)\n",
        "standings_table=soup.select('table.stats_table')[0]\n",
        "links=standings_table.find_all('a')\n",
        "links=[l.get(\"href\") for l in links]\n",
        "links = [l for l in links if '/squads' in l]\n",
        "team_urls=[f\"https://fbref.com{l}\" for l in links]\n",
        "team_url=team_urls[2]\n",
        "data=requests.get(team_url)\n",
        "import pandas as pd\n",
        "matches=pd.read_html(data.text,match=\"Scores & Fixtures\")\n",
        "\n",
        "\n"
      ]
    },
    {
      "cell_type": "code",
      "source": [
        "soup=BeautifulSoup(data.text)\n",
        "links=soup.find_all('a')\n",
        "links=[l.get(\"href\") for l in links]\n",
        "links = [l for l in links if l and  'all_comps/shooting/' in l]\n",
        "data=requests.get(f\"https://fbref.com{links[0]}\")\n",
        "shooting =pd.read_html(data.text,match=\"Shooting\")[0]\n"
      ],
      "metadata": {
        "id": "Z-h5kM3y3Gnz"
      },
      "execution_count": null,
      "outputs": []
    },
    {
      "cell_type": "code",
      "source": [
        "shooting.columns=shooting.columns.droplevel()\n"
      ],
      "metadata": {
        "id": "b8KnfBbL3Gnz"
      },
      "execution_count": null,
      "outputs": []
    },
    {
      "cell_type": "code",
      "source": [
        "team2_data=matches[0].merge(shooting[[\"Date\",\"Sh\",\"SoT\",\"Dist\",\"FK\",\"PK\",\"PKatt\"]],on=\"Date\")\n",
        "team2_data=team2_data[team2_data[\"Comp\"] == \"Premier League\"]\n",
        "team2_data"
      ],
      "metadata": {
        "id": "y-dkUpn63Gn0"
      },
      "execution_count": null,
      "outputs": []
    },
    {
      "cell_type": "code",
      "execution_count": null,
      "metadata": {
        "id": "sd3uQNKi3I0S"
      },
      "outputs": [],
      "source": [
        "import requests\n",
        "standings_url=\"https://fbref.com/en/comps/9/2018-2019/2018-2019-Premier-League-Stats\"\n",
        "data=requests.get(standings_url)\n",
        "data.text\n",
        "from bs4 import BeautifulSoup\n",
        "soup=BeautifulSoup(data.text)\n",
        "standings_table=soup.select('table.stats_table')[0]\n",
        "links=standings_table.find_all('a')\n",
        "links=[l.get(\"href\") for l in links]\n",
        "links = [l for l in links if '/squads' in l]\n",
        "team_urls=[f\"https://fbref.com{l}\" for l in links]\n",
        "team_url=team_urls[3]\n",
        "data=requests.get(team_url)\n",
        "import pandas as pd\n",
        "matches=pd.read_html(data.text,match=\"Scores & Fixtures\")\n",
        "\n",
        "\n"
      ]
    },
    {
      "cell_type": "code",
      "source": [
        "soup=BeautifulSoup(data.text)\n",
        "links=soup.find_all('a')\n",
        "links=[l.get(\"href\") for l in links]\n",
        "links = [l for l in links if l and  'all_comps/shooting/' in l]\n",
        "data=requests.get(f\"https://fbref.com{links[0]}\")\n",
        "shooting =pd.read_html(data.text,match=\"Shooting\")[0]\n"
      ],
      "metadata": {
        "id": "K5TKKmGC3I0T"
      },
      "execution_count": null,
      "outputs": []
    },
    {
      "cell_type": "code",
      "source": [
        "shooting.columns=shooting.columns.droplevel()\n"
      ],
      "metadata": {
        "id": "VjdNziYC3I0T"
      },
      "execution_count": null,
      "outputs": []
    },
    {
      "cell_type": "code",
      "source": [
        "team_data=matches[0].merge(shooting[[\"Date\",\"Sh\",\"SoT\",\"Dist\",\"FK\",\"PK\",\"PKatt\"]],on=\"Date\")\n",
        "team_data=team_data[team_data[\"Comp\"] == \"Premier League\"]\n",
        "team_data"
      ],
      "metadata": {
        "id": "0im1udK23I0U"
      },
      "execution_count": null,
      "outputs": []
    },
    {
      "cell_type": "code",
      "execution_count": null,
      "metadata": {
        "id": "tdA0nkEk3I74"
      },
      "outputs": [],
      "source": [
        "import requests\n",
        "standings_url=\"https://fbref.com/en/comps/9/2018-2019/2018-2019-Premier-League-Stats\"\n",
        "data=requests.get(standings_url)\n",
        "data.text\n",
        "from bs4 import BeautifulSoup\n",
        "soup=BeautifulSoup(data.text)\n",
        "standings_table=soup.select('table.stats_table')[0]\n",
        "links=standings_table.find_all('a')\n",
        "links=[l.get(\"href\") for l in links]\n",
        "links = [l for l in links if '/squads' in l]\n",
        "team_urls=[f\"https://fbref.com{l}\" for l in links]\n",
        "team_url=team_urls[4]\n",
        "data=requests.get(team_url)\n",
        "import pandas as pd\n",
        "matches=pd.read_html(data.text,match=\"Scores & Fixtures\")\n",
        "\n",
        "\n"
      ]
    },
    {
      "cell_type": "code",
      "source": [
        "soup=BeautifulSoup(data.text)\n",
        "links=soup.find_all('a')\n",
        "links=[l.get(\"href\") for l in links]\n",
        "links = [l for l in links if l and  'all_comps/shooting/' in l]\n",
        "data=requests.get(f\"https://fbref.com{links[0]}\")\n",
        "shooting =pd.read_html(data.text,match=\"Shooting\")[0]\n"
      ],
      "metadata": {
        "id": "OazZeVfD3I75"
      },
      "execution_count": null,
      "outputs": []
    },
    {
      "cell_type": "code",
      "source": [
        "shooting.columns=shooting.columns.droplevel()\n"
      ],
      "metadata": {
        "id": "HL6DsteN3I75"
      },
      "execution_count": null,
      "outputs": []
    },
    {
      "cell_type": "code",
      "source": [
        "team_data=matches[0].merge(shooting[[\"Date\",\"Sh\",\"SoT\",\"Dist\",\"FK\",\"PK\",\"PKatt\"]],on=\"Date\")\n",
        "team_data=team_data[team_data[\"Comp\"] == \"Premier League\"]\n",
        "team_data"
      ],
      "metadata": {
        "id": "iMWK-KnD3I75"
      },
      "execution_count": null,
      "outputs": []
    },
    {
      "cell_type": "code",
      "execution_count": null,
      "metadata": {
        "id": "epHS8A-Q3JC8"
      },
      "outputs": [],
      "source": [
        "import requests\n",
        "standings_url=\"https://fbref.com/en/comps/9/2018-2019/2018-2019-Premier-League-Stats\"\n",
        "data=requests.get(standings_url)\n",
        "data.text\n",
        "from bs4 import BeautifulSoup\n",
        "soup=BeautifulSoup(data.text)\n",
        "standings_table=soup.select('table.stats_table')[0]\n",
        "links=standings_table.find_all('a')\n",
        "links=[l.get(\"href\") for l in links]\n",
        "links = [l for l in links if '/squads' in l]\n",
        "team_urls=[f\"https://fbref.com{l}\" for l in links]\n",
        "team_url=team_urls[5]\n",
        "data=requests.get(team_url)\n",
        "import pandas as pd\n",
        "matches=pd.read_html(data.text,match=\"Scores & Fixtures\")\n",
        "\n",
        "\n"
      ]
    },
    {
      "cell_type": "code",
      "source": [
        "soup=BeautifulSoup(data.text)\n",
        "links=soup.find_all('a')\n",
        "links=[l.get(\"href\") for l in links]\n",
        "links = [l for l in links if l and  'all_comps/shooting/' in l]\n",
        "data=requests.get(f\"https://fbref.com{links[0]}\")\n",
        "shooting =pd.read_html(data.text,match=\"Shooting\")[0]\n"
      ],
      "metadata": {
        "id": "QXJsnldr3JC8"
      },
      "execution_count": null,
      "outputs": []
    },
    {
      "cell_type": "code",
      "source": [
        "shooting.columns=shooting.columns.droplevel()\n"
      ],
      "metadata": {
        "id": "mjAv8aqs3JC8"
      },
      "execution_count": null,
      "outputs": []
    },
    {
      "cell_type": "code",
      "source": [
        "team_data=matches[0].merge(shooting[[\"Date\",\"Sh\",\"SoT\",\"Dist\",\"FK\",\"PK\",\"PKatt\"]],on=\"Date\")\n",
        "team_data=team_data[team_data[\"Comp\"] == \"Premier League\"]\n",
        "team_data"
      ],
      "metadata": {
        "id": "ZDFTRcU73JC8"
      },
      "execution_count": null,
      "outputs": []
    },
    {
      "cell_type": "code",
      "execution_count": null,
      "metadata": {
        "id": "cBilbzP23JRN"
      },
      "outputs": [],
      "source": [
        "import requests\n",
        "standings_url=\"https://fbref.com/en/comps/9/2018-2019/2018-2019-Premier-League-Stats\"\n",
        "data=requests.get(standings_url)\n",
        "data.text\n",
        "from bs4 import BeautifulSoup\n",
        "soup=BeautifulSoup(data.text)\n",
        "standings_table=soup.select('table.stats_table')[0]\n",
        "links=standings_table.find_all('a')\n",
        "links=[l.get(\"href\") for l in links]\n",
        "links = [l for l in links if '/squads' in l]\n",
        "team_urls=[f\"https://fbref.com{l}\" for l in links]\n",
        "team_url=team_urls[6]\n",
        "data=requests.get(team_url)\n",
        "import pandas as pd\n",
        "matches=pd.read_html(data.text,match=\"Scores & Fixtures\")\n",
        "\n",
        "\n"
      ]
    },
    {
      "cell_type": "code",
      "source": [
        "soup=BeautifulSoup(data.text)\n",
        "links=soup.find_all('a')\n",
        "links=[l.get(\"href\") for l in links]\n",
        "links = [l for l in links if l and  'all_comps/shooting/' in l]\n",
        "data=requests.get(f\"https://fbref.com{links[0]}\")\n",
        "shooting =pd.read_html(data.text,match=\"Shooting\")[0]\n"
      ],
      "metadata": {
        "id": "HhzeeOGs3JRO"
      },
      "execution_count": null,
      "outputs": []
    },
    {
      "cell_type": "code",
      "source": [
        "shooting.columns=shooting.columns.droplevel()\n"
      ],
      "metadata": {
        "id": "sn5h52n83JRO"
      },
      "execution_count": null,
      "outputs": []
    },
    {
      "cell_type": "code",
      "source": [
        "team_data=matches[0].merge(shooting[[\"Date\",\"Sh\",\"SoT\",\"Dist\",\"FK\",\"PK\",\"PKatt\"]],on=\"Date\")\n",
        "team_data=team_data[team_data[\"Comp\"] == \"Premier League\"]\n",
        "team_data"
      ],
      "metadata": {
        "id": "y_wxij3L3JRO"
      },
      "execution_count": null,
      "outputs": []
    },
    {
      "cell_type": "code",
      "execution_count": null,
      "metadata": {
        "id": "vdIr6JJl3JYR"
      },
      "outputs": [],
      "source": [
        "import requests\n",
        "standings_url=\"https://fbref.com/en/comps/9/2018-2019/2018-2019-Premier-League-Stats\"\n",
        "data=requests.get(standings_url)\n",
        "data.text\n",
        "from bs4 import BeautifulSoup\n",
        "soup=BeautifulSoup(data.text)\n",
        "standings_table=soup.select('table.stats_table')[0]\n",
        "links=standings_table.find_all('a')\n",
        "links=[l.get(\"href\") for l in links]\n",
        "links = [l for l in links if '/squads' in l]\n",
        "team_urls=[f\"https://fbref.com{l}\" for l in links]\n",
        "team_url=team_urls[7]\n",
        "data=requests.get(team_url)\n",
        "import pandas as pd\n",
        "matches=pd.read_html(data.text,match=\"Scores & Fixtures\")\n",
        "\n",
        "\n"
      ]
    },
    {
      "cell_type": "code",
      "source": [
        "soup=BeautifulSoup(data.text)\n",
        "links=soup.find_all('a')\n",
        "links=[l.get(\"href\") for l in links]\n",
        "links = [l for l in links if l and  'all_comps/shooting/' in l]\n",
        "data=requests.get(f\"https://fbref.com{links[0]}\")\n",
        "shooting =pd.read_html(data.text,match=\"Shooting\")[0]\n"
      ],
      "metadata": {
        "id": "CzjwOrMf3JYS"
      },
      "execution_count": null,
      "outputs": []
    },
    {
      "cell_type": "code",
      "source": [
        "shooting.columns=shooting.columns.droplevel()\n"
      ],
      "metadata": {
        "id": "x74LojtO3JYT"
      },
      "execution_count": null,
      "outputs": []
    },
    {
      "cell_type": "code",
      "source": [
        "team_data=matches[0].merge(shooting[[\"Date\",\"Sh\",\"SoT\",\"Dist\",\"FK\",\"PK\",\"PKatt\"]],on=\"Date\")\n",
        "team_data=team_data[team_data[\"Comp\"] == \"Premier League\"]\n",
        "team_data"
      ],
      "metadata": {
        "id": "SQQnyA7-3JYU"
      },
      "execution_count": null,
      "outputs": []
    },
    {
      "cell_type": "code",
      "execution_count": null,
      "metadata": {
        "id": "3gsQP5XU3Jfc"
      },
      "outputs": [],
      "source": [
        "import requests\n",
        "standings_url=\"https://fbref.com/en/comps/9/2018-2019/2018-2019-Premier-League-Stats\"\n",
        "data=requests.get(standings_url)\n",
        "data.text\n",
        "from bs4 import BeautifulSoup\n",
        "soup=BeautifulSoup(data.text)\n",
        "standings_table=soup.select('table.stats_table')[0]\n",
        "links=standings_table.find_all('a')\n",
        "links=[l.get(\"href\") for l in links]\n",
        "links = [l for l in links if '/squads' in l]\n",
        "team_urls=[f\"https://fbref.com{l}\" for l in links]\n",
        "team_url=team_urls[8]\n",
        "data=requests.get(team_url)\n",
        "import pandas as pd\n",
        "matches=pd.read_html(data.text,match=\"Scores & Fixtures\")\n",
        "\n",
        "\n"
      ]
    },
    {
      "cell_type": "code",
      "source": [
        "soup=BeautifulSoup(data.text)\n",
        "links=soup.find_all('a')\n",
        "links=[l.get(\"href\") for l in links]\n",
        "links = [l for l in links if l and  'all_comps/shooting/' in l]\n",
        "data=requests.get(f\"https://fbref.com{links[0]}\")\n",
        "shooting =pd.read_html(data.text,match=\"Shooting\")[0]\n"
      ],
      "metadata": {
        "id": "GD9Zig5C3Jfc"
      },
      "execution_count": null,
      "outputs": []
    },
    {
      "cell_type": "code",
      "source": [
        "shooting.columns=shooting.columns.droplevel()\n"
      ],
      "metadata": {
        "id": "PkSJhVY53Jfd"
      },
      "execution_count": null,
      "outputs": []
    },
    {
      "cell_type": "code",
      "source": [
        "team_data=matches[0].merge(shooting[[\"Date\",\"Sh\",\"SoT\",\"Dist\",\"FK\",\"PK\",\"PKatt\"]],on=\"Date\")\n",
        "team_data=team_data[team_data[\"Comp\"] == \"Premier League\"]\n",
        "team_data"
      ],
      "metadata": {
        "id": "XuI-eXTX3Jfd"
      },
      "execution_count": null,
      "outputs": []
    },
    {
      "cell_type": "code",
      "execution_count": null,
      "metadata": {
        "id": "QrHUdeRn3Jmo"
      },
      "outputs": [],
      "source": [
        "import requests\n",
        "standings_url=\"https://fbref.com/en/comps/9/2018-2019/2018-2019-Premier-League-Stats\"\n",
        "data=requests.get(standings_url)\n",
        "data.text\n",
        "from bs4 import BeautifulSoup\n",
        "soup=BeautifulSoup(data.text)\n",
        "standings_table=soup.select('table.stats_table')[0]\n",
        "links=standings_table.find_all('a')\n",
        "links=[l.get(\"href\") for l in links]\n",
        "links = [l for l in links if '/squads' in l]\n",
        "team_urls=[f\"https://fbref.com{l}\" for l in links]\n",
        "team_url=team_urls[9]\n",
        "data=requests.get(team_url)\n",
        "import pandas as pd\n",
        "matches=pd.read_html(data.text,match=\"Scores & Fixtures\")\n",
        "\n",
        "\n"
      ]
    },
    {
      "cell_type": "code",
      "source": [
        "soup=BeautifulSoup(data.text)\n",
        "links=soup.find_all('a')\n",
        "links=[l.get(\"href\") for l in links]\n",
        "links = [l for l in links if l and  'all_comps/shooting/' in l]\n",
        "data=requests.get(f\"https://fbref.com{links[0]}\")\n",
        "shooting =pd.read_html(data.text,match=\"Shooting\")[0]\n"
      ],
      "metadata": {
        "id": "crfa2OgE3Jmp"
      },
      "execution_count": null,
      "outputs": []
    },
    {
      "cell_type": "code",
      "source": [
        "shooting.columns=shooting.columns.droplevel()\n"
      ],
      "metadata": {
        "id": "trpdBsaH3Jmp"
      },
      "execution_count": null,
      "outputs": []
    },
    {
      "cell_type": "code",
      "source": [
        "team_data=matches[0].merge(shooting[[\"Date\",\"Sh\",\"SoT\",\"Dist\",\"FK\",\"PK\",\"PKatt\"]],on=\"Date\")\n",
        "team_data=team_data[team_data[\"Comp\"] == \"Premier League\"]\n",
        "team_data"
      ],
      "metadata": {
        "id": "6fPOEUrr3Jmp"
      },
      "execution_count": null,
      "outputs": []
    },
    {
      "cell_type": "code",
      "execution_count": null,
      "metadata": {
        "id": "_mt4HVzU3JuO"
      },
      "outputs": [],
      "source": [
        "import requests\n",
        "standings_url=\"https://fbref.com/en/comps/9/2018-2019/2018-2019-Premier-League-Stats\"\n",
        "data=requests.get(standings_url)\n",
        "data.text\n",
        "from bs4 import BeautifulSoup\n",
        "soup=BeautifulSoup(data.text)\n",
        "standings_table=soup.select('table.stats_table')[0]\n",
        "links=standings_table.find_all('a')\n",
        "links=[l.get(\"href\") for l in links]\n",
        "links = [l for l in links if '/squads' in l]\n",
        "team_urls=[f\"https://fbref.com{l}\" for l in links]\n",
        "team_url=team_urls[10]\n",
        "data=requests.get(team_url)\n",
        "import pandas as pd\n",
        "matches=pd.read_html(data.text,match=\"Scores & Fixtures\")\n",
        "\n",
        "\n"
      ]
    },
    {
      "cell_type": "code",
      "source": [
        "soup=BeautifulSoup(data.text)\n",
        "links=soup.find_all('a')\n",
        "links=[l.get(\"href\") for l in links]\n",
        "links = [l for l in links if l and  'all_comps/shooting/' in l]\n",
        "data=requests.get(f\"https://fbref.com{links[0]}\")\n",
        "shooting =pd.read_html(data.text,match=\"Shooting\")[0]\n"
      ],
      "metadata": {
        "id": "mgaYBuKA3JuP"
      },
      "execution_count": null,
      "outputs": []
    },
    {
      "cell_type": "code",
      "source": [
        "shooting.columns=shooting.columns.droplevel()\n"
      ],
      "metadata": {
        "id": "3CU3P9nk3JuP"
      },
      "execution_count": null,
      "outputs": []
    },
    {
      "cell_type": "code",
      "source": [
        "team_data=matches[0].merge(shooting[[\"Date\",\"Sh\",\"SoT\",\"Dist\",\"FK\",\"PK\",\"PKatt\"]],on=\"Date\")\n",
        "team_data=team_data[team_data[\"Comp\"] == \"Premier League\"]\n",
        "team_data"
      ],
      "metadata": {
        "id": "-QPtnc9v3JuP"
      },
      "execution_count": null,
      "outputs": []
    },
    {
      "cell_type": "code",
      "execution_count": null,
      "metadata": {
        "id": "cOoLn-443J1R"
      },
      "outputs": [],
      "source": [
        "import requests\n",
        "standings_url=\"https://fbref.com/en/comps/9/2018-2019/2018-2019-Premier-League-Stats\"\n",
        "data=requests.get(standings_url)\n",
        "data.text\n",
        "from bs4 import BeautifulSoup\n",
        "soup=BeautifulSoup(data.text)\n",
        "standings_table=soup.select('table.stats_table')[0]\n",
        "links=standings_table.find_all('a')\n",
        "links=[l.get(\"href\") for l in links]\n",
        "links = [l for l in links if '/squads' in l]\n",
        "team_urls=[f\"https://fbref.com{l}\" for l in links]\n",
        "team_url=team_urls[11]\n",
        "data=requests.get(team_url)\n",
        "import pandas as pd\n",
        "matches=pd.read_html(data.text,match=\"Scores & Fixtures\")\n",
        "\n",
        "\n"
      ]
    },
    {
      "cell_type": "code",
      "source": [
        "soup=BeautifulSoup(data.text)\n",
        "links=soup.find_all('a')\n",
        "links=[l.get(\"href\") for l in links]\n",
        "links = [l for l in links if l and  'all_comps/shooting/' in l]\n",
        "data=requests.get(f\"https://fbref.com{links[0]}\")\n",
        "shooting =pd.read_html(data.text,match=\"Shooting\")[0]\n"
      ],
      "metadata": {
        "id": "HaA7sDPk3J1S"
      },
      "execution_count": null,
      "outputs": []
    },
    {
      "cell_type": "code",
      "source": [
        "shooting.columns=shooting.columns.droplevel()\n"
      ],
      "metadata": {
        "id": "vLVRpnb93J1S"
      },
      "execution_count": null,
      "outputs": []
    },
    {
      "cell_type": "code",
      "source": [
        "team_data=matches[0].merge(shooting[[\"Date\",\"Sh\",\"SoT\",\"Dist\",\"FK\",\"PK\",\"PKatt\"]],on=\"Date\")\n",
        "team_data=team_data[team_data[\"Comp\"] == \"Premier League\"]\n",
        "team_data"
      ],
      "metadata": {
        "id": "dLSwtxNt3J1S"
      },
      "execution_count": null,
      "outputs": []
    },
    {
      "cell_type": "code",
      "execution_count": null,
      "metadata": {
        "id": "Y9mJO40u3J8a"
      },
      "outputs": [],
      "source": [
        "import requests\n",
        "standings_url=\"https://fbref.com/en/comps/9/2018-2019/2018-2019-Premier-League-Stats\"\n",
        "data=requests.get(standings_url)\n",
        "data.text\n",
        "from bs4 import BeautifulSoup\n",
        "soup=BeautifulSoup(data.text)\n",
        "standings_table=soup.select('table.stats_table')[0]\n",
        "links=standings_table.find_all('a')\n",
        "links=[l.get(\"href\") for l in links]\n",
        "links = [l for l in links if '/squads' in l]\n",
        "team_urls=[f\"https://fbref.com{l}\" for l in links]\n",
        "team_url=team_urls[12]\n",
        "data=requests.get(team_url)\n",
        "import pandas as pd\n",
        "matches=pd.read_html(data.text,match=\"Scores & Fixtures\")\n",
        "\n",
        "\n"
      ]
    },
    {
      "cell_type": "code",
      "source": [
        "soup=BeautifulSoup(data.text)\n",
        "links=soup.find_all('a')\n",
        "links=[l.get(\"href\") for l in links]\n",
        "links = [l for l in links if l and  'all_comps/shooting/' in l]\n",
        "data=requests.get(f\"https://fbref.com{links[0]}\")\n",
        "shooting =pd.read_html(data.text,match=\"Shooting\")[0]\n"
      ],
      "metadata": {
        "id": "B5Goc-nx3J8a"
      },
      "execution_count": null,
      "outputs": []
    },
    {
      "cell_type": "code",
      "source": [
        "shooting.columns=shooting.columns.droplevel()\n"
      ],
      "metadata": {
        "id": "t0xxg-_q3J8b"
      },
      "execution_count": null,
      "outputs": []
    },
    {
      "cell_type": "code",
      "source": [
        "team_data=matches[0].merge(shooting[[\"Date\",\"Sh\",\"SoT\",\"Dist\",\"FK\",\"PK\",\"PKatt\"]],on=\"Date\")\n",
        "team_data=team_data[team_data[\"Comp\"] == \"Premier League\"]\n",
        "team_data"
      ],
      "metadata": {
        "id": "tvbW4sY63J8b"
      },
      "execution_count": null,
      "outputs": []
    },
    {
      "cell_type": "code",
      "execution_count": null,
      "metadata": {
        "id": "pYDxLPzs3KCz"
      },
      "outputs": [],
      "source": [
        "import requests\n",
        "standings_url=\"https://fbref.com/en/comps/9/2018-2019/2018-2019-Premier-League-Stats\"\n",
        "data=requests.get(standings_url)\n",
        "data.text\n",
        "from bs4 import BeautifulSoup\n",
        "soup=BeautifulSoup(data.text)\n",
        "standings_table=soup.select('table.stats_table')[0]\n",
        "links=standings_table.find_all('a')\n",
        "links=[l.get(\"href\") for l in links]\n",
        "links = [l for l in links if '/squads' in l]\n",
        "team_urls=[f\"https://fbref.com{l}\" for l in links]\n",
        "team_url=team_urls[13]\n",
        "data=requests.get(team_url)\n",
        "import pandas as pd\n",
        "matches=pd.read_html(data.text,match=\"Scores & Fixtures\")\n",
        "\n",
        "\n"
      ]
    },
    {
      "cell_type": "code",
      "source": [
        "soup=BeautifulSoup(data.text)\n",
        "links=soup.find_all('a')\n",
        "links=[l.get(\"href\") for l in links]\n",
        "links = [l for l in links if l and  'all_comps/shooting/' in l]\n",
        "data=requests.get(f\"https://fbref.com{links[0]}\")\n",
        "shooting =pd.read_html(data.text,match=\"Shooting\")[0]\n"
      ],
      "metadata": {
        "id": "CUYEWUhD3KC0"
      },
      "execution_count": null,
      "outputs": []
    },
    {
      "cell_type": "code",
      "source": [
        "shooting.columns=shooting.columns.droplevel()\n"
      ],
      "metadata": {
        "id": "sT0ccwsR3KC0"
      },
      "execution_count": null,
      "outputs": []
    },
    {
      "cell_type": "code",
      "source": [
        "team_data=matches[0].merge(shooting[[\"Date\",\"Sh\",\"SoT\",\"Dist\",\"FK\",\"PK\",\"PKatt\"]],on=\"Date\")\n",
        "team_data=team_data[team_data[\"Comp\"] == \"Premier League\"]\n",
        "team_data"
      ],
      "metadata": {
        "id": "jHU1xNJj3KC0"
      },
      "execution_count": null,
      "outputs": []
    },
    {
      "cell_type": "code",
      "execution_count": null,
      "metadata": {
        "id": "VdQwsy5i3KKA"
      },
      "outputs": [],
      "source": [
        "import requests\n",
        "standings_url=\"https://fbref.com/en/comps/9/2018-2019/2018-2019-Premier-League-Stats\"\n",
        "data=requests.get(standings_url)\n",
        "data.text\n",
        "from bs4 import BeautifulSoup\n",
        "soup=BeautifulSoup(data.text)\n",
        "standings_table=soup.select('table.stats_table')[0]\n",
        "links=standings_table.find_all('a')\n",
        "links=[l.get(\"href\") for l in links]\n",
        "links = [l for l in links if '/squads' in l]\n",
        "team_urls=[f\"https://fbref.com{l}\" for l in links]\n",
        "team_url=team_urls[14]\n",
        "data=requests.get(team_url)\n",
        "import pandas as pd\n",
        "matches=pd.read_html(data.text,match=\"Scores & Fixtures\")\n",
        "\n",
        "\n"
      ]
    },
    {
      "cell_type": "code",
      "source": [
        "soup=BeautifulSoup(data.text)\n",
        "links=soup.find_all('a')\n",
        "links=[l.get(\"href\") for l in links]\n",
        "links = [l for l in links if l and  'all_comps/shooting/' in l]\n",
        "data=requests.get(f\"https://fbref.com{links[0]}\")\n",
        "shooting =pd.read_html(data.text,match=\"Shooting\")[0]\n"
      ],
      "metadata": {
        "id": "om6ZIiAh3KKB"
      },
      "execution_count": null,
      "outputs": []
    },
    {
      "cell_type": "code",
      "source": [
        "shooting.columns=shooting.columns.droplevel()\n"
      ],
      "metadata": {
        "id": "UcQbKDUn3KKB"
      },
      "execution_count": null,
      "outputs": []
    },
    {
      "cell_type": "code",
      "source": [
        "team_data=matches[0].merge(shooting[[\"Date\",\"Sh\",\"SoT\",\"Dist\",\"FK\",\"PK\",\"PKatt\"]],on=\"Date\")\n",
        "team_data=team_data[team_data[\"Comp\"] == \"Premier League\"]\n",
        "team_data"
      ],
      "metadata": {
        "id": "UcgjXxFk3KKB"
      },
      "execution_count": null,
      "outputs": []
    },
    {
      "cell_type": "code",
      "execution_count": null,
      "metadata": {
        "id": "hjey1Sdo3KQy"
      },
      "outputs": [],
      "source": [
        "import requests\n",
        "standings_url=\"https://fbref.com/en/comps/9/2018-2019/2018-2019-Premier-League-Stats\"\n",
        "data=requests.get(standings_url)\n",
        "data.text\n",
        "from bs4 import BeautifulSoup\n",
        "soup=BeautifulSoup(data.text)\n",
        "standings_table=soup.select('table.stats_table')[0]\n",
        "links=standings_table.find_all('a')\n",
        "links=[l.get(\"href\") for l in links]\n",
        "links = [l for l in links if '/squads' in l]\n",
        "team_urls=[f\"https://fbref.com{l}\" for l in links]\n",
        "team_url=team_urls[15]\n",
        "data=requests.get(team_url)\n",
        "import pandas as pd\n",
        "matches=pd.read_html(data.text,match=\"Scores & Fixtures\")\n",
        "\n",
        "\n"
      ]
    },
    {
      "cell_type": "code",
      "source": [
        "soup=BeautifulSoup(data.text)\n",
        "links=soup.find_all('a')\n",
        "links=[l.get(\"href\") for l in links]\n",
        "links = [l for l in links if l and  'all_comps/shooting/' in l]\n",
        "data=requests.get(f\"https://fbref.com{links[0]}\")\n",
        "shooting =pd.read_html(data.text,match=\"Shooting\")[0]\n"
      ],
      "metadata": {
        "id": "xEbjmqRp3KQz"
      },
      "execution_count": null,
      "outputs": []
    },
    {
      "cell_type": "code",
      "source": [
        "shooting.columns=shooting.columns.droplevel()\n"
      ],
      "metadata": {
        "id": "nmbRJjgr3KQz"
      },
      "execution_count": null,
      "outputs": []
    },
    {
      "cell_type": "code",
      "source": [
        "team_data=matches[0].merge(shooting[[\"Date\",\"Sh\",\"SoT\",\"Dist\",\"FK\",\"PK\",\"PKatt\"]],on=\"Date\")\n",
        "team_data=team_data[team_data[\"Comp\"] == \"Premier League\"]\n",
        "team_data"
      ],
      "metadata": {
        "id": "vdsWWZiQ3KQz"
      },
      "execution_count": null,
      "outputs": []
    },
    {
      "cell_type": "code",
      "execution_count": null,
      "metadata": {
        "id": "my7NiYMc3KXc"
      },
      "outputs": [],
      "source": [
        "import requests\n",
        "standings_url=\"https://fbref.com/en/comps/9/2018-2019/2018-2019-Premier-League-Stats\"\n",
        "data=requests.get(standings_url)\n",
        "data.text\n",
        "from bs4 import BeautifulSoup\n",
        "soup=BeautifulSoup(data.text)\n",
        "standings_table=soup.select('table.stats_table')[0]\n",
        "links=standings_table.find_all('a')\n",
        "links=[l.get(\"href\") for l in links]\n",
        "links = [l for l in links if '/squads' in l]\n",
        "team_urls=[f\"https://fbref.com{l}\" for l in links]\n",
        "team_url=team_urls[16]\n",
        "data=requests.get(team_url)\n",
        "import pandas as pd\n",
        "matches=pd.read_html(data.text,match=\"Scores & Fixtures\")\n",
        "\n",
        "\n"
      ]
    },
    {
      "cell_type": "code",
      "source": [
        "soup=BeautifulSoup(data.text)\n",
        "links=soup.find_all('a')\n",
        "links=[l.get(\"href\") for l in links]\n",
        "links = [l for l in links if l and  'all_comps/shooting/' in l]\n",
        "data=requests.get(f\"https://fbref.com{links[0]}\")\n",
        "shooting =pd.read_html(data.text,match=\"Shooting\")[0]\n"
      ],
      "metadata": {
        "id": "2_8PFFCL3KXc"
      },
      "execution_count": null,
      "outputs": []
    },
    {
      "cell_type": "code",
      "source": [
        "shooting.columns=shooting.columns.droplevel()\n"
      ],
      "metadata": {
        "id": "tG558Zze3KXc"
      },
      "execution_count": null,
      "outputs": []
    },
    {
      "cell_type": "code",
      "source": [
        "team_data=matches[0].merge(shooting[[\"Date\",\"Sh\",\"SoT\",\"Dist\",\"FK\",\"PK\",\"PKatt\"]],on=\"Date\")\n",
        "team_data=team_data[team_data[\"Comp\"] == \"Premier League\"]\n",
        "team_data"
      ],
      "metadata": {
        "id": "3QwXufQM3KXd"
      },
      "execution_count": null,
      "outputs": []
    },
    {
      "cell_type": "code",
      "execution_count": null,
      "metadata": {
        "id": "hpUAqL6e3Keb"
      },
      "outputs": [],
      "source": [
        "import requests\n",
        "standings_url=\"https://fbref.com/en/comps/9/2018-2019/2018-2019-Premier-League-Stats\"\n",
        "data=requests.get(standings_url)\n",
        "data.text\n",
        "from bs4 import BeautifulSoup\n",
        "soup=BeautifulSoup(data.text)\n",
        "standings_table=soup.select('table.stats_table')[0]\n",
        "links=standings_table.find_all('a')\n",
        "links=[l.get(\"href\") for l in links]\n",
        "links = [l for l in links if '/squads' in l]\n",
        "team_urls=[f\"https://fbref.com{l}\" for l in links]\n",
        "team_url=team_urls[17]\n",
        "data=requests.get(team_url)\n",
        "import pandas as pd\n",
        "matches=pd.read_html(data.text,match=\"Scores & Fixtures\")\n",
        "\n",
        "\n"
      ]
    },
    {
      "cell_type": "code",
      "source": [
        "soup=BeautifulSoup(data.text)\n",
        "links=soup.find_all('a')\n",
        "links=[l.get(\"href\") for l in links]\n",
        "links = [l for l in links if l and  'all_comps/shooting/' in l]\n",
        "data=requests.get(f\"https://fbref.com{links[0]}\")\n",
        "shooting =pd.read_html(data.text,match=\"Shooting\")[0]\n"
      ],
      "metadata": {
        "id": "MeJ5HAuv3Kec"
      },
      "execution_count": null,
      "outputs": []
    },
    {
      "cell_type": "code",
      "source": [
        "shooting.columns=shooting.columns.droplevel()\n"
      ],
      "metadata": {
        "id": "rvpI9C8t3Ked"
      },
      "execution_count": null,
      "outputs": []
    },
    {
      "cell_type": "code",
      "source": [
        "team_data=matches[0].merge(shooting[[\"Date\",\"Sh\",\"SoT\",\"Dist\",\"FK\",\"PK\",\"PKatt\"]],on=\"Date\")\n",
        "team_data=team_data[team_data[\"Comp\"] == \"Premier League\"]\n",
        "team_data"
      ],
      "metadata": {
        "id": "MPnjMOtj3Ked"
      },
      "execution_count": null,
      "outputs": []
    },
    {
      "cell_type": "code",
      "execution_count": null,
      "metadata": {
        "id": "PdjIdZ9y3KlO"
      },
      "outputs": [],
      "source": [
        "import requests\n",
        "standings_url=\"https://fbref.com/en/comps/9/2018-2019/2018-2019-Premier-League-Stats\"\n",
        "data=requests.get(standings_url)\n",
        "data.text\n",
        "from bs4 import BeautifulSoup\n",
        "soup=BeautifulSoup(data.text)\n",
        "standings_table=soup.select('table.stats_table')[0]\n",
        "links=standings_table.find_all('a')\n",
        "links=[l.get(\"href\") for l in links]\n",
        "links = [l for l in links if '/squads' in l]\n",
        "team_urls=[f\"https://fbref.com{l}\" for l in links]\n",
        "team_url=team_urls[18]\n",
        "data=requests.get(team_url)\n",
        "import pandas as pd\n",
        "matches=pd.read_html(data.text,match=\"Scores & Fixtures\")\n",
        "\n",
        "\n"
      ]
    },
    {
      "cell_type": "code",
      "source": [
        "soup=BeautifulSoup(data.text)\n",
        "links=soup.find_all('a')\n",
        "links=[l.get(\"href\") for l in links]\n",
        "links = [l for l in links if l and  'all_comps/shooting/' in l]\n",
        "data=requests.get(f\"https://fbref.com{links[0]}\")\n",
        "shooting =pd.read_html(data.text,match=\"Shooting\")[0]\n"
      ],
      "metadata": {
        "id": "1Mu7pv9g3KlP"
      },
      "execution_count": null,
      "outputs": []
    },
    {
      "cell_type": "code",
      "source": [
        "shooting.columns=shooting.columns.droplevel()\n"
      ],
      "metadata": {
        "id": "XYBkZv2Y3KlP"
      },
      "execution_count": null,
      "outputs": []
    },
    {
      "cell_type": "code",
      "source": [
        "team_data=matches[0].merge(shooting[[\"Date\",\"Sh\",\"SoT\",\"Dist\",\"FK\",\"PK\",\"PKatt\"]],on=\"Date\")\n",
        "team_data=team_data[team_data[\"Comp\"] == \"Premier League\"]\n",
        "team_data"
      ],
      "metadata": {
        "id": "UV1dHsuW3KlP"
      },
      "execution_count": null,
      "outputs": []
    },
    {
      "cell_type": "code",
      "source": [],
      "metadata": {
        "id": "ckK9pmfB2soI"
      },
      "execution_count": null,
      "outputs": []
    },
    {
      "cell_type": "code",
      "execution_count": null,
      "metadata": {
        "id": "icVBHflu4Uu-"
      },
      "outputs": [],
      "source": [
        "import requests\n",
        "standings_url=\"https://fbref.com/en/comps/9/2018-2019/2018-2019-Premier-League-Stats\"\n",
        "data=requests.get(standings_url)\n",
        "data.text\n",
        "from bs4 import BeautifulSoup\n",
        "soup=BeautifulSoup(data.text)\n",
        "standings_table=soup.select('table.stats_table')[0]\n",
        "links=standings_table.find_all('a')\n",
        "links=[l.get(\"href\") for l in links]\n",
        "links = [l for l in links if '/squads' in l]\n",
        "team_urls=[f\"https://fbref.com{l}\" for l in links]\n",
        "team_url=team_urls[19]\n",
        "data=requests.get(team_url)\n",
        "import pandas as pd\n",
        "matches=pd.read_html(data.text,match=\"Scores & Fixtures\")\n",
        "\n",
        "\n"
      ]
    },
    {
      "cell_type": "code",
      "source": [
        "soup=BeautifulSoup(data.text)\n",
        "links=soup.find_all('a')\n",
        "links=[l.get(\"href\") for l in links]\n",
        "links = [l for l in links if l and  'all_comps/shooting/' in l]\n",
        "data=requests.get(f\"https://fbref.com{links[0]}\")\n",
        "shooting =pd.read_html(data.text,match=\"Shooting\")[0]\n"
      ],
      "metadata": {
        "id": "jTIofp-c4Uu-"
      },
      "execution_count": null,
      "outputs": []
    },
    {
      "cell_type": "code",
      "source": [
        "shooting.columns=shooting.columns.droplevel()\n"
      ],
      "metadata": {
        "id": "U6Nk_s-V4Uu_"
      },
      "execution_count": null,
      "outputs": []
    },
    {
      "cell_type": "code",
      "source": [
        "team_data=matches[0].merge(shooting[[\"Date\",\"Sh\",\"SoT\",\"Dist\",\"FK\",\"PK\",\"PKatt\"]],on=\"Date\")\n",
        "team_data=team_data[team_data[\"Comp\"] == \"Premier League\"]\n",
        "team_data"
      ],
      "metadata": {
        "id": "XyUnuSNi4Uu_"
      },
      "execution_count": null,
      "outputs": []
    },
    {
      "cell_type": "code",
      "execution_count": null,
      "metadata": {
        "id": "Kx58hzmH_DJb"
      },
      "outputs": [],
      "source": [
        "import requests\n",
        "standings_url=\"https://fbref.com/en/comps/9/2019-2020/2019-2020-Premier-League-Stats\"\n",
        "data=requests.get(standings_url)\n",
        "data.text\n",
        "from bs4 import BeautifulSoup\n",
        "soup=BeautifulSoup(data.text)\n",
        "standings_table=soup.select('table.stats_table')[0]\n",
        "links=standings_table.find_all('a')\n",
        "links=[l.get(\"href\") for l in links]\n",
        "links = [l for l in links if '/squads' in l]\n",
        "team_urls=[f\"https://fbref.com{l}\" for l in links]\n",
        "team_url=team_urls[0]\n",
        "data=requests.get(team_url)\n",
        "import pandas as pd\n",
        "matches=pd.read_html(data.text,match=\"Scores & Fixtures\")\n",
        "\n",
        "\n"
      ]
    },
    {
      "cell_type": "code",
      "source": [
        "soup=BeautifulSoup(data.text)\n",
        "links=soup.find_all('a')\n",
        "links=[l.get(\"href\") for l in links]\n",
        "links = [l for l in links if l and  'all_comps/shooting/' in l]\n",
        "data=requests.get(f\"https://fbref.com{links[0]}\")\n",
        "shooting =pd.read_html(data.text,match=\"Shooting\")[0]\n"
      ],
      "metadata": {
        "id": "H5GizuOv_DJi"
      },
      "execution_count": null,
      "outputs": []
    },
    {
      "cell_type": "code",
      "source": [
        "shooting.columns=shooting.columns.droplevel()"
      ],
      "metadata": {
        "id": "wVPYKncq_DJi"
      },
      "execution_count": null,
      "outputs": []
    },
    {
      "cell_type": "code",
      "source": [
        "team_data=matches[0].merge(shooting[[\"Date\",\"Sh\",\"SoT\",\"Dist\",\"FK\",\"PK\",\"PKatt\"]],on=\"Date\")\n",
        "team_data=team_data[team_data[\"Comp\"] == \"Premier League\"]\n",
        "team_data"
      ],
      "metadata": {
        "id": "1N-DEVzS_DJj"
      },
      "execution_count": null,
      "outputs": []
    },
    {
      "cell_type": "code",
      "execution_count": null,
      "metadata": {
        "id": "KYbhqd2Z_DJj"
      },
      "outputs": [],
      "source": [
        "standings_url=\"https://fbref.com/en/comps/9/2019-2020/2019-2020-Premier-League-Stats\"\n",
        "data=requests.get(standings_url)\n",
        "data.text\n",
        "from bs4 import BeautifulSoup\n",
        "soup=BeautifulSoup(data.text)\n",
        "standings_table=soup.select('table.stats_table')[0]\n",
        "links=standings_table.find_all('a')\n",
        "links=[l.get(\"href\") for l in links]\n",
        "links = [l for l in links if '/squads' in l]\n",
        "team_urls=[f\"https://fbref.com{l}\" for l in links]\n",
        "team_url=team_urls[1]\n",
        "data=requests.get(team_url)\n",
        "import pandas as pd\n",
        "matches=pd.read_html(data.text,match=\"Scores & Fixtures\")\n",
        "\n",
        "\n"
      ]
    },
    {
      "cell_type": "code",
      "source": [
        "soup=BeautifulSoup(data.text)\n",
        "links=soup.find_all('a')\n",
        "links=[l.get(\"href\") for l in links]\n",
        "links = [l for l in links if l and  'all_comps/shooting/' in l]\n",
        "data=requests.get(f\"https://fbref.com{links[0]}\")\n",
        "shooting =pd.read_html(data.text,match=\"Shooting\")[0]\n"
      ],
      "metadata": {
        "id": "fA3xoev9_DJj"
      },
      "execution_count": null,
      "outputs": []
    },
    {
      "cell_type": "code",
      "source": [
        "shooting.columns=shooting.columns.droplevel()\n"
      ],
      "metadata": {
        "id": "2S0NH1vz_DJj"
      },
      "execution_count": null,
      "outputs": []
    },
    {
      "cell_type": "code",
      "source": [
        "team1_data=matches[0].merge(shooting[[\"Date\",\"Sh\",\"SoT\",\"Dist\",\"FK\",\"PK\",\"PKatt\"]],on=\"Date\")\n",
        "team1_data=team1_data[team1_data[\"Comp\"] == \"Premier League\"]\n",
        "team1_data"
      ],
      "metadata": {
        "id": "NNcUiCB2_DJk"
      },
      "execution_count": null,
      "outputs": []
    },
    {
      "cell_type": "code",
      "execution_count": null,
      "metadata": {
        "id": "b6ltBc3C_DJk"
      },
      "outputs": [],
      "source": [
        "import requests\n",
        "standings_url=\"https://fbref.com/en/comps/9/2019-2020/2019-2020-Premier-League-Stats\"\n",
        "data=requests.get(standings_url)\n",
        "data.text\n",
        "from bs4 import BeautifulSoup\n",
        "soup=BeautifulSoup(data.text)\n",
        "standings_table=soup.select('table.stats_table')[0]\n",
        "links=standings_table.find_all('a')\n",
        "links=[l.get(\"href\") for l in links]\n",
        "links = [l for l in links if '/squads' in l]\n",
        "team_urls=[f\"https://fbref.com{l}\" for l in links]\n",
        "team_url=team_urls[2]\n",
        "data=requests.get(team_url)\n",
        "import pandas as pd\n",
        "matches=pd.read_html(data.text,match=\"Scores & Fixtures\")\n",
        "\n",
        "\n"
      ]
    },
    {
      "cell_type": "code",
      "source": [
        "soup=BeautifulSoup(data.text)\n",
        "links=soup.find_all('a')\n",
        "links=[l.get(\"href\") for l in links]\n",
        "links = [l for l in links if l and  'all_comps/shooting/' in l]\n",
        "data=requests.get(f\"https://fbref.com{links[0]}\")\n",
        "shooting =pd.read_html(data.text,match=\"Shooting\")[0]\n"
      ],
      "metadata": {
        "id": "6MIdDYBB_DJk"
      },
      "execution_count": null,
      "outputs": []
    },
    {
      "cell_type": "code",
      "source": [
        "shooting.columns=shooting.columns.droplevel()\n"
      ],
      "metadata": {
        "id": "RV7ltto1_DJk"
      },
      "execution_count": null,
      "outputs": []
    },
    {
      "cell_type": "code",
      "source": [
        "team2_data=matches[0].merge(shooting[[\"Date\",\"Sh\",\"SoT\",\"Dist\",\"FK\",\"PK\",\"PKatt\"]],on=\"Date\")\n",
        "team2_data=team2_data[team2_data[\"Comp\"] == \"Premier League\"]\n",
        "team2_data"
      ],
      "metadata": {
        "id": "gGEjaETq_DJl"
      },
      "execution_count": null,
      "outputs": []
    },
    {
      "cell_type": "code",
      "execution_count": null,
      "metadata": {
        "id": "34BKqVLm_DJl"
      },
      "outputs": [],
      "source": [
        "import requests\n",
        "standings_url=\"https://fbref.com/en/comps/9/2019-2020/2019-2020-Premier-League-Stats\"\n",
        "data=requests.get(standings_url)\n",
        "data.text\n",
        "from bs4 import BeautifulSoup\n",
        "soup=BeautifulSoup(data.text)\n",
        "standings_table=soup.select('table.stats_table')[0]\n",
        "links=standings_table.find_all('a')\n",
        "links=[l.get(\"href\") for l in links]\n",
        "links = [l for l in links if '/squads' in l]\n",
        "team_urls=[f\"https://fbref.com{l}\" for l in links]\n",
        "team_url=team_urls[3]\n",
        "data=requests.get(team_url)\n",
        "import pandas as pd\n",
        "matches=pd.read_html(data.text,match=\"Scores & Fixtures\")\n",
        "\n",
        "\n"
      ]
    },
    {
      "cell_type": "code",
      "source": [
        "soup=BeautifulSoup(data.text)\n",
        "links=soup.find_all('a')\n",
        "links=[l.get(\"href\") for l in links]\n",
        "links = [l for l in links if l and  'all_comps/shooting/' in l]\n",
        "data=requests.get(f\"https://fbref.com{links[0]}\")\n",
        "shooting =pd.read_html(data.text,match=\"Shooting\")[0]\n"
      ],
      "metadata": {
        "id": "w595cPPz_DJl"
      },
      "execution_count": null,
      "outputs": []
    },
    {
      "cell_type": "code",
      "source": [
        "shooting.columns=shooting.columns.droplevel()\n"
      ],
      "metadata": {
        "id": "DIj5f-k__DJl"
      },
      "execution_count": null,
      "outputs": []
    },
    {
      "cell_type": "code",
      "source": [
        "team_data=matches[0].merge(shooting[[\"Date\",\"Sh\",\"SoT\",\"Dist\",\"FK\",\"PK\",\"PKatt\"]],on=\"Date\")\n",
        "team_data=team_data[team_data[\"Comp\"] == \"Premier League\"]\n",
        "team_data"
      ],
      "metadata": {
        "id": "rbjMpQ4w_DJl"
      },
      "execution_count": null,
      "outputs": []
    },
    {
      "cell_type": "code",
      "execution_count": null,
      "metadata": {
        "id": "kIDAjUyP_DJl"
      },
      "outputs": [],
      "source": [
        "import requests\n",
        "standings_url=\"https://fbref.com/en/comps/9/2019-2020/2019-2020-Premier-League-Stats\"\n",
        "data=requests.get(standings_url)\n",
        "data.text\n",
        "from bs4 import BeautifulSoup\n",
        "soup=BeautifulSoup(data.text)\n",
        "standings_table=soup.select('table.stats_table')[0]\n",
        "links=standings_table.find_all('a')\n",
        "links=[l.get(\"href\") for l in links]\n",
        "links = [l for l in links if '/squads' in l]\n",
        "team_urls=[f\"https://fbref.com{l}\" for l in links]\n",
        "team_url=team_urls[4]\n",
        "data=requests.get(team_url)\n",
        "import pandas as pd\n",
        "matches=pd.read_html(data.text,match=\"Scores & Fixtures\")\n",
        "\n",
        "\n"
      ]
    },
    {
      "cell_type": "code",
      "source": [
        "soup=BeautifulSoup(data.text)\n",
        "links=soup.find_all('a')\n",
        "links=[l.get(\"href\") for l in links]\n",
        "links = [l for l in links if l and  'all_comps/shooting/' in l]\n",
        "data=requests.get(f\"https://fbref.com{links[0]}\")\n",
        "shooting =pd.read_html(data.text,match=\"Shooting\")[0]\n"
      ],
      "metadata": {
        "id": "8jOcHL0M_DJm"
      },
      "execution_count": null,
      "outputs": []
    },
    {
      "cell_type": "code",
      "source": [
        "shooting.columns=shooting.columns.droplevel()\n"
      ],
      "metadata": {
        "id": "UZoxTHo__DJm"
      },
      "execution_count": null,
      "outputs": []
    },
    {
      "cell_type": "code",
      "source": [
        "team_data=matches[0].merge(shooting[[\"Date\",\"Sh\",\"SoT\",\"Dist\",\"FK\",\"PK\",\"PKatt\"]],on=\"Date\")\n",
        "team_data=team_data[team_data[\"Comp\"] == \"Premier League\"]\n",
        "team_data"
      ],
      "metadata": {
        "id": "p9P-l5Gy_DJm"
      },
      "execution_count": null,
      "outputs": []
    },
    {
      "cell_type": "code",
      "execution_count": null,
      "metadata": {
        "id": "416mCi6w_DJm"
      },
      "outputs": [],
      "source": [
        "import requests\n",
        "standings_url=\"https://fbref.com/en/comps/9/2019-2020/2019-2020-Premier-League-Stats\"\n",
        "data=requests.get(standings_url)\n",
        "data.text\n",
        "from bs4 import BeautifulSoup\n",
        "soup=BeautifulSoup(data.text)\n",
        "standings_table=soup.select('table.stats_table')[0]\n",
        "links=standings_table.find_all('a')\n",
        "links=[l.get(\"href\") for l in links]\n",
        "links = [l for l in links if '/squads' in l]\n",
        "team_urls=[f\"https://fbref.com{l}\" for l in links]\n",
        "team_url=team_urls[5]\n",
        "data=requests.get(team_url)\n",
        "import pandas as pd\n",
        "matches=pd.read_html(data.text,match=\"Scores & Fixtures\")\n",
        "\n",
        "\n"
      ]
    },
    {
      "cell_type": "code",
      "source": [
        "soup=BeautifulSoup(data.text)\n",
        "links=soup.find_all('a')\n",
        "links=[l.get(\"href\") for l in links]\n",
        "links = [l for l in links if l and  'all_comps/shooting/' in l]\n",
        "data=requests.get(f\"https://fbref.com{links[0]}\")\n",
        "shooting =pd.read_html(data.text,match=\"Shooting\")[0]\n"
      ],
      "metadata": {
        "id": "-fVMU_tc_DJm"
      },
      "execution_count": null,
      "outputs": []
    },
    {
      "cell_type": "code",
      "source": [
        "shooting.columns=shooting.columns.droplevel()\n"
      ],
      "metadata": {
        "id": "2Vvz-H5d_DJn"
      },
      "execution_count": null,
      "outputs": []
    },
    {
      "cell_type": "code",
      "source": [
        "team_data=matches[0].merge(shooting[[\"Date\",\"Sh\",\"SoT\",\"Dist\",\"FK\",\"PK\",\"PKatt\"]],on=\"Date\")\n",
        "team_data=team_data[team_data[\"Comp\"] == \"Premier League\"]\n",
        "team_data"
      ],
      "metadata": {
        "id": "pofgAxcS_DJn"
      },
      "execution_count": null,
      "outputs": []
    },
    {
      "cell_type": "code",
      "execution_count": null,
      "metadata": {
        "id": "iYQO8SdP_DJn"
      },
      "outputs": [],
      "source": [
        "import requests\n",
        "standings_url=\"https://fbref.com/en/comps/9/2019-2020/2019-2020-Premier-League-Stats\"\n",
        "data=requests.get(standings_url)\n",
        "data.text\n",
        "from bs4 import BeautifulSoup\n",
        "soup=BeautifulSoup(data.text)\n",
        "standings_table=soup.select('table.stats_table')[0]\n",
        "links=standings_table.find_all('a')\n",
        "links=[l.get(\"href\") for l in links]\n",
        "links = [l for l in links if '/squads' in l]\n",
        "team_urls=[f\"https://fbref.com{l}\" for l in links]\n",
        "team_url=team_urls[6]\n",
        "data=requests.get(team_url)\n",
        "import pandas as pd\n",
        "matches=pd.read_html(data.text,match=\"Scores & Fixtures\")\n",
        "\n",
        "\n"
      ]
    },
    {
      "cell_type": "code",
      "source": [
        "soup=BeautifulSoup(data.text)\n",
        "links=soup.find_all('a')\n",
        "links=[l.get(\"href\") for l in links]\n",
        "links = [l for l in links if l and  'all_comps/shooting/' in l]\n",
        "data=requests.get(f\"https://fbref.com{links[0]}\")\n",
        "shooting =pd.read_html(data.text,match=\"Shooting\")[0]\n"
      ],
      "metadata": {
        "id": "M0tmPI2I_DJn"
      },
      "execution_count": null,
      "outputs": []
    },
    {
      "cell_type": "code",
      "source": [
        "shooting.columns=shooting.columns.droplevel()\n"
      ],
      "metadata": {
        "id": "F2U2lKjx_DJn"
      },
      "execution_count": null,
      "outputs": []
    },
    {
      "cell_type": "code",
      "source": [
        "team_data=matches[0].merge(shooting[[\"Date\",\"Sh\",\"SoT\",\"Dist\",\"FK\",\"PK\",\"PKatt\"]],on=\"Date\")\n",
        "team_data=team_data[team_data[\"Comp\"] == \"Premier League\"]\n",
        "team_data"
      ],
      "metadata": {
        "id": "2z06e51i_DJn"
      },
      "execution_count": null,
      "outputs": []
    },
    {
      "cell_type": "code",
      "execution_count": null,
      "metadata": {
        "id": "dIWndsYF_DJo"
      },
      "outputs": [],
      "source": [
        "import requests\n",
        "standings_url=\"https://fbref.com/en/comps/9/2019-2020/2019-2020-Premier-League-Stats\"\n",
        "data=requests.get(standings_url)\n",
        "data.text\n",
        "from bs4 import BeautifulSoup\n",
        "soup=BeautifulSoup(data.text)\n",
        "standings_table=soup.select('table.stats_table')[0]\n",
        "links=standings_table.find_all('a')\n",
        "links=[l.get(\"href\") for l in links]\n",
        "links = [l for l in links if '/squads' in l]\n",
        "team_urls=[f\"https://fbref.com{l}\" for l in links]\n",
        "team_url=team_urls[7]\n",
        "data=requests.get(team_url)\n",
        "import pandas as pd\n",
        "matches=pd.read_html(data.text,match=\"Scores & Fixtures\")\n",
        "\n",
        "\n"
      ]
    },
    {
      "cell_type": "code",
      "source": [
        "soup=BeautifulSoup(data.text)\n",
        "links=soup.find_all('a')\n",
        "links=[l.get(\"href\") for l in links]\n",
        "links = [l for l in links if l and  'all_comps/shooting/' in l]\n",
        "data=requests.get(f\"https://fbref.com{links[0]}\")\n",
        "shooting =pd.read_html(data.text,match=\"Shooting\")[0]\n"
      ],
      "metadata": {
        "id": "SdvvUkDJ_DJo"
      },
      "execution_count": null,
      "outputs": []
    },
    {
      "cell_type": "code",
      "source": [
        "shooting.columns=shooting.columns.droplevel()\n"
      ],
      "metadata": {
        "id": "f1EYfp6k_DJo"
      },
      "execution_count": null,
      "outputs": []
    },
    {
      "cell_type": "code",
      "source": [
        "team_data=matches[0].merge(shooting[[\"Date\",\"Sh\",\"SoT\",\"Dist\",\"FK\",\"PK\",\"PKatt\"]],on=\"Date\")\n",
        "team_data=team_data[team_data[\"Comp\"] == \"Premier League\"]\n",
        "team_data"
      ],
      "metadata": {
        "id": "j1i_f2sS_DJo"
      },
      "execution_count": null,
      "outputs": []
    },
    {
      "cell_type": "code",
      "execution_count": null,
      "metadata": {
        "id": "4YAl23nE_DJp"
      },
      "outputs": [],
      "source": [
        "import requests\n",
        "standings_url=\"https://fbref.com/en/comps/9/2019-2020/2019-2020-Premier-League-Stats\"\n",
        "data=requests.get(standings_url)\n",
        "data.text\n",
        "from bs4 import BeautifulSoup\n",
        "soup=BeautifulSoup(data.text)\n",
        "standings_table=soup.select('table.stats_table')[0]\n",
        "links=standings_table.find_all('a')\n",
        "links=[l.get(\"href\") for l in links]\n",
        "links = [l for l in links if '/squads' in l]\n",
        "team_urls=[f\"https://fbref.com{l}\" for l in links]\n",
        "team_url=team_urls[8]\n",
        "data=requests.get(team_url)\n",
        "import pandas as pd\n",
        "matches=pd.read_html(data.text,match=\"Scores & Fixtures\")\n",
        "\n",
        "\n"
      ]
    },
    {
      "cell_type": "code",
      "source": [
        "soup=BeautifulSoup(data.text)\n",
        "links=soup.find_all('a')\n",
        "links=[l.get(\"href\") for l in links]\n",
        "links = [l for l in links if l and  'all_comps/shooting/' in l]\n",
        "data=requests.get(f\"https://fbref.com{links[0]}\")\n",
        "shooting =pd.read_html(data.text,match=\"Shooting\")[0]\n"
      ],
      "metadata": {
        "id": "qolf5tnx_DJp"
      },
      "execution_count": null,
      "outputs": []
    },
    {
      "cell_type": "code",
      "source": [
        "shooting.columns=shooting.columns.droplevel()\n"
      ],
      "metadata": {
        "id": "11r-31uH_DJp"
      },
      "execution_count": null,
      "outputs": []
    },
    {
      "cell_type": "code",
      "source": [
        "team_data=matches[0].merge(shooting[[\"Date\",\"Sh\",\"SoT\",\"Dist\",\"FK\",\"PK\",\"PKatt\"]],on=\"Date\")\n",
        "team_data=team_data[team_data[\"Comp\"] == \"Premier League\"]\n",
        "team_data"
      ],
      "metadata": {
        "id": "hAcM98Z7_DJp"
      },
      "execution_count": null,
      "outputs": []
    },
    {
      "cell_type": "code",
      "execution_count": null,
      "metadata": {
        "id": "1kaJi4GM_DJp"
      },
      "outputs": [],
      "source": [
        "import requests\n",
        "standings_url=\"https://fbref.com/en/comps/9/2019-2020/2019-2020-Premier-League-Stats\"\n",
        "data=requests.get(standings_url)\n",
        "data.text\n",
        "from bs4 import BeautifulSoup\n",
        "soup=BeautifulSoup(data.text)\n",
        "standings_table=soup.select('table.stats_table')[0]\n",
        "links=standings_table.find_all('a')\n",
        "links=[l.get(\"href\") for l in links]\n",
        "links = [l for l in links if '/squads' in l]\n",
        "team_urls=[f\"https://fbref.com{l}\" for l in links]\n",
        "team_url=team_urls[9]\n",
        "data=requests.get(team_url)\n",
        "import pandas as pd\n",
        "matches=pd.read_html(data.text,match=\"Scores & Fixtures\")\n",
        "\n",
        "\n"
      ]
    },
    {
      "cell_type": "code",
      "source": [
        "soup=BeautifulSoup(data.text)\n",
        "links=soup.find_all('a')\n",
        "links=[l.get(\"href\") for l in links]\n",
        "links = [l for l in links if l and  'all_comps/shooting/' in l]\n",
        "data=requests.get(f\"https://fbref.com{links[0]}\")\n",
        "shooting =pd.read_html(data.text,match=\"Shooting\")[0]\n"
      ],
      "metadata": {
        "id": "r7j6DLuS_DJq"
      },
      "execution_count": null,
      "outputs": []
    },
    {
      "cell_type": "code",
      "source": [
        "shooting.columns=shooting.columns.droplevel()\n"
      ],
      "metadata": {
        "id": "HEr4HB4X_DJq"
      },
      "execution_count": null,
      "outputs": []
    },
    {
      "cell_type": "code",
      "source": [
        "team_data=matches[0].merge(shooting[[\"Date\",\"Sh\",\"SoT\",\"Dist\",\"FK\",\"PK\",\"PKatt\"]],on=\"Date\")\n",
        "team_data=team_data[team_data[\"Comp\"] == \"Premier League\"]\n",
        "team_data"
      ],
      "metadata": {
        "id": "37fU3lTo_DJq"
      },
      "execution_count": null,
      "outputs": []
    },
    {
      "cell_type": "code",
      "execution_count": null,
      "metadata": {
        "id": "LzCgcKla_DJq"
      },
      "outputs": [],
      "source": [
        "import requests\n",
        "standings_url=\"https://fbref.com/en/comps/9/2019-2020/2019-2020-Premier-League-Stats\"\n",
        "data=requests.get(standings_url)\n",
        "data.text\n",
        "from bs4 import BeautifulSoup\n",
        "soup=BeautifulSoup(data.text)\n",
        "standings_table=soup.select('table.stats_table')[0]\n",
        "links=standings_table.find_all('a')\n",
        "links=[l.get(\"href\") for l in links]\n",
        "links = [l for l in links if '/squads' in l]\n",
        "team_urls=[f\"https://fbref.com{l}\" for l in links]\n",
        "team_url=team_urls[10]\n",
        "data=requests.get(team_url)\n",
        "import pandas as pd\n",
        "matches=pd.read_html(data.text,match=\"Scores & Fixtures\")\n",
        "\n",
        "\n"
      ]
    },
    {
      "cell_type": "code",
      "source": [
        "soup=BeautifulSoup(data.text)\n",
        "links=soup.find_all('a')\n",
        "links=[l.get(\"href\") for l in links]\n",
        "links = [l for l in links if l and  'all_comps/shooting/' in l]\n",
        "data=requests.get(f\"https://fbref.com{links[0]}\")\n",
        "shooting =pd.read_html(data.text,match=\"Shooting\")[0]\n"
      ],
      "metadata": {
        "id": "6e3DYRIt_DJq"
      },
      "execution_count": null,
      "outputs": []
    },
    {
      "cell_type": "code",
      "source": [
        "shooting.columns=shooting.columns.droplevel()\n"
      ],
      "metadata": {
        "id": "AbuNGqWI_DJr"
      },
      "execution_count": null,
      "outputs": []
    },
    {
      "cell_type": "code",
      "source": [
        "team_data=matches[0].merge(shooting[[\"Date\",\"Sh\",\"SoT\",\"Dist\",\"FK\",\"PK\",\"PKatt\"]],on=\"Date\")\n",
        "team_data=team_data[team_data[\"Comp\"] == \"Premier League\"]\n",
        "team_data"
      ],
      "metadata": {
        "id": "QYTZzqKZ_DJr"
      },
      "execution_count": null,
      "outputs": []
    },
    {
      "cell_type": "code",
      "execution_count": null,
      "metadata": {
        "id": "EFZ6_cOd_DJr"
      },
      "outputs": [],
      "source": [
        "import requests\n",
        "standings_url=\"https://fbref.com/en/comps/9/2019-2020/2019-2020-Premier-League-Stats\"\n",
        "data=requests.get(standings_url)\n",
        "data.text\n",
        "from bs4 import BeautifulSoup\n",
        "soup=BeautifulSoup(data.text)\n",
        "standings_table=soup.select('table.stats_table')[0]\n",
        "links=standings_table.find_all('a')\n",
        "links=[l.get(\"href\") for l in links]\n",
        "links = [l for l in links if '/squads' in l]\n",
        "team_urls=[f\"https://fbref.com{l}\" for l in links]\n",
        "team_url=team_urls[11]\n",
        "data=requests.get(team_url)\n",
        "import pandas as pd\n",
        "matches=pd.read_html(data.text,match=\"Scores & Fixtures\")\n",
        "\n",
        "\n"
      ]
    },
    {
      "cell_type": "code",
      "source": [
        "soup=BeautifulSoup(data.text)\n",
        "links=soup.find_all('a')\n",
        "links=[l.get(\"href\") for l in links]\n",
        "links = [l for l in links if l and  'all_comps/shooting/' in l]\n",
        "data=requests.get(f\"https://fbref.com{links[0]}\")\n",
        "shooting =pd.read_html(data.text,match=\"Shooting\")[0]\n"
      ],
      "metadata": {
        "id": "jaU2bZXf_DJr"
      },
      "execution_count": null,
      "outputs": []
    },
    {
      "cell_type": "code",
      "source": [
        "shooting.columns=shooting.columns.droplevel()\n"
      ],
      "metadata": {
        "id": "iTKjnB7A_DJr"
      },
      "execution_count": null,
      "outputs": []
    },
    {
      "cell_type": "code",
      "source": [
        "team_data=matches[0].merge(shooting[[\"Date\",\"Sh\",\"SoT\",\"Dist\",\"FK\",\"PK\",\"PKatt\"]],on=\"Date\")\n",
        "team_data=team_data[team_data[\"Comp\"] == \"Premier League\"]\n",
        "team_data"
      ],
      "metadata": {
        "id": "Y4pmuYgc_DJs"
      },
      "execution_count": null,
      "outputs": []
    },
    {
      "cell_type": "code",
      "execution_count": null,
      "metadata": {
        "id": "1hKqpiod_DJs"
      },
      "outputs": [],
      "source": [
        "import requests\n",
        "standings_url=\"https://fbref.com/en/comps/9/2019-2020/2019-2020-Premier-League-Stats\"\n",
        "data=requests.get(standings_url)\n",
        "data.text\n",
        "from bs4 import BeautifulSoup\n",
        "soup=BeautifulSoup(data.text)\n",
        "standings_table=soup.select('table.stats_table')[0]\n",
        "links=standings_table.find_all('a')\n",
        "links=[l.get(\"href\") for l in links]\n",
        "links = [l for l in links if '/squads' in l]\n",
        "team_urls=[f\"https://fbref.com{l}\" for l in links]\n",
        "team_url=team_urls[12]\n",
        "data=requests.get(team_url)\n",
        "import pandas as pd\n",
        "matches=pd.read_html(data.text,match=\"Scores & Fixtures\")\n",
        "\n",
        "\n"
      ]
    },
    {
      "cell_type": "code",
      "source": [
        "soup=BeautifulSoup(data.text)\n",
        "links=soup.find_all('a')\n",
        "links=[l.get(\"href\") for l in links]\n",
        "links = [l for l in links if l and  'all_comps/shooting/' in l]\n",
        "data=requests.get(f\"https://fbref.com{links[0]}\")\n",
        "shooting =pd.read_html(data.text,match=\"Shooting\")[0]\n"
      ],
      "metadata": {
        "id": "-GDIsWqL_DJs"
      },
      "execution_count": null,
      "outputs": []
    },
    {
      "cell_type": "code",
      "source": [
        "shooting.columns=shooting.columns.droplevel()\n"
      ],
      "metadata": {
        "id": "jxxxHNxV_DJs"
      },
      "execution_count": null,
      "outputs": []
    },
    {
      "cell_type": "code",
      "source": [
        "team_data=matches[0].merge(shooting[[\"Date\",\"Sh\",\"SoT\",\"Dist\",\"FK\",\"PK\",\"PKatt\"]],on=\"Date\")\n",
        "team_data=team_data[team_data[\"Comp\"] == \"Premier League\"]\n",
        "team_data"
      ],
      "metadata": {
        "id": "7b7oCJ73_DJs"
      },
      "execution_count": null,
      "outputs": []
    },
    {
      "cell_type": "code",
      "execution_count": null,
      "metadata": {
        "id": "4RJ2hAoX_DJt"
      },
      "outputs": [],
      "source": [
        "import requests\n",
        "standings_url=\"https://fbref.com/en/comps/9/2019-2020/2019-2020-Premier-League-Stats\"\n",
        "data=requests.get(standings_url)\n",
        "data.text\n",
        "from bs4 import BeautifulSoup\n",
        "soup=BeautifulSoup(data.text)\n",
        "standings_table=soup.select('table.stats_table')[0]\n",
        "links=standings_table.find_all('a')\n",
        "links=[l.get(\"href\") for l in links]\n",
        "links = [l for l in links if '/squads' in l]\n",
        "team_urls=[f\"https://fbref.com{l}\" for l in links]\n",
        "team_url=team_urls[13]\n",
        "data=requests.get(team_url)\n",
        "import pandas as pd\n",
        "matches=pd.read_html(data.text,match=\"Scores & Fixtures\")\n",
        "\n",
        "\n"
      ]
    },
    {
      "cell_type": "code",
      "source": [
        "soup=BeautifulSoup(data.text)\n",
        "links=soup.find_all('a')\n",
        "links=[l.get(\"href\") for l in links]\n",
        "links = [l for l in links if l and  'all_comps/shooting/' in l]\n",
        "data=requests.get(f\"https://fbref.com{links[0]}\")\n",
        "shooting =pd.read_html(data.text,match=\"Shooting\")[0]\n"
      ],
      "metadata": {
        "id": "ATgvQzSk_DJt"
      },
      "execution_count": null,
      "outputs": []
    },
    {
      "cell_type": "code",
      "source": [
        "shooting.columns=shooting.columns.droplevel()\n"
      ],
      "metadata": {
        "id": "hEz4j4eM_DJt"
      },
      "execution_count": null,
      "outputs": []
    },
    {
      "cell_type": "code",
      "source": [
        "team_data=matches[0].merge(shooting[[\"Date\",\"Sh\",\"SoT\",\"Dist\",\"FK\",\"PK\",\"PKatt\"]],on=\"Date\")\n",
        "team_data=team_data[team_data[\"Comp\"] == \"Premier League\"]\n",
        "team_data"
      ],
      "metadata": {
        "id": "_WuPnFGf_DJt"
      },
      "execution_count": null,
      "outputs": []
    },
    {
      "cell_type": "code",
      "execution_count": null,
      "metadata": {
        "id": "eMjGJKYp_DJt"
      },
      "outputs": [],
      "source": [
        "import requests\n",
        "standings_url=\"https://fbref.com/en/comps/9/2019-2020/2019-2020-Premier-League-Stats\"\n",
        "data=requests.get(standings_url)\n",
        "data.text\n",
        "from bs4 import BeautifulSoup\n",
        "soup=BeautifulSoup(data.text)\n",
        "standings_table=soup.select('table.stats_table')[0]\n",
        "links=standings_table.find_all('a')\n",
        "links=[l.get(\"href\") for l in links]\n",
        "links = [l for l in links if '/squads' in l]\n",
        "team_urls=[f\"https://fbref.com{l}\" for l in links]\n",
        "team_url=team_urls[14]\n",
        "data=requests.get(team_url)\n",
        "import pandas as pd\n",
        "matches=pd.read_html(data.text,match=\"Scores & Fixtures\")\n",
        "\n",
        "\n"
      ]
    },
    {
      "cell_type": "code",
      "source": [
        "soup=BeautifulSoup(data.text)\n",
        "links=soup.find_all('a')\n",
        "links=[l.get(\"href\") for l in links]\n",
        "links = [l for l in links if l and  'all_comps/shooting/' in l]\n",
        "data=requests.get(f\"https://fbref.com{links[0]}\")\n",
        "shooting =pd.read_html(data.text,match=\"Shooting\")[0]\n"
      ],
      "metadata": {
        "id": "5gnKpmwb_DJt"
      },
      "execution_count": null,
      "outputs": []
    },
    {
      "cell_type": "code",
      "source": [
        "shooting.columns=shooting.columns.droplevel()\n"
      ],
      "metadata": {
        "id": "XgqjN0Kz_DJu"
      },
      "execution_count": null,
      "outputs": []
    },
    {
      "cell_type": "code",
      "source": [
        "team_data=matches[0].merge(shooting[[\"Date\",\"Sh\",\"SoT\",\"Dist\",\"FK\",\"PK\",\"PKatt\"]],on=\"Date\")\n",
        "team_data=team_data[team_data[\"Comp\"] == \"Premier League\"]\n",
        "team_data"
      ],
      "metadata": {
        "id": "eoAlxZCm_DJu"
      },
      "execution_count": null,
      "outputs": []
    },
    {
      "cell_type": "code",
      "execution_count": null,
      "metadata": {
        "id": "CF-LZie5_DJu"
      },
      "outputs": [],
      "source": [
        "import requests\n",
        "standings_url=\"https://fbref.com/en/comps/9/2019-2020/2019-2020-Premier-League-Stats\"\n",
        "data=requests.get(standings_url)\n",
        "data.text\n",
        "from bs4 import BeautifulSoup\n",
        "soup=BeautifulSoup(data.text)\n",
        "standings_table=soup.select('table.stats_table')[0]\n",
        "links=standings_table.find_all('a')\n",
        "links=[l.get(\"href\") for l in links]\n",
        "links = [l for l in links if '/squads' in l]\n",
        "team_urls=[f\"https://fbref.com{l}\" for l in links]\n",
        "team_url=team_urls[15]\n",
        "data=requests.get(team_url)\n",
        "import pandas as pd\n",
        "matches=pd.read_html(data.text,match=\"Scores & Fixtures\")\n",
        "\n",
        "\n"
      ]
    },
    {
      "cell_type": "code",
      "source": [
        "soup=BeautifulSoup(data.text)\n",
        "links=soup.find_all('a')\n",
        "links=[l.get(\"href\") for l in links]\n",
        "links = [l for l in links if l and  'all_comps/shooting/' in l]\n",
        "data=requests.get(f\"https://fbref.com{links[0]}\")\n",
        "shooting =pd.read_html(data.text,match=\"Shooting\")[0]\n"
      ],
      "metadata": {
        "id": "WsaFTN_p_DJu"
      },
      "execution_count": null,
      "outputs": []
    },
    {
      "cell_type": "code",
      "source": [
        "shooting.columns=shooting.columns.droplevel()\n"
      ],
      "metadata": {
        "id": "SE1nNzPi_DJu"
      },
      "execution_count": null,
      "outputs": []
    },
    {
      "cell_type": "code",
      "source": [
        "team_data=matches[0].merge(shooting[[\"Date\",\"Sh\",\"SoT\",\"Dist\",\"FK\",\"PK\",\"PKatt\"]],on=\"Date\")\n",
        "team_data=team_data[team_data[\"Comp\"] == \"Premier League\"]\n",
        "team_data"
      ],
      "metadata": {
        "id": "M2bXHSZL_DJu"
      },
      "execution_count": null,
      "outputs": []
    },
    {
      "cell_type": "code",
      "execution_count": null,
      "metadata": {
        "id": "R3pSpmRT_DJv"
      },
      "outputs": [],
      "source": [
        "import requests\n",
        "standings_url=\"https://fbref.com/en/comps/9/2019-2020/2019-2020-Premier-League-Stats\"\n",
        "data=requests.get(standings_url)\n",
        "data.text\n",
        "from bs4 import BeautifulSoup\n",
        "soup=BeautifulSoup(data.text)\n",
        "standings_table=soup.select('table.stats_table')[0]\n",
        "links=standings_table.find_all('a')\n",
        "links=[l.get(\"href\") for l in links]\n",
        "links = [l for l in links if '/squads' in l]\n",
        "team_urls=[f\"https://fbref.com{l}\" for l in links]\n",
        "team_url=team_urls[16]\n",
        "data=requests.get(team_url)\n",
        "import pandas as pd\n",
        "matches=pd.read_html(data.text,match=\"Scores & Fixtures\")\n",
        "\n",
        "\n"
      ]
    },
    {
      "cell_type": "code",
      "source": [
        "soup=BeautifulSoup(data.text)\n",
        "links=soup.find_all('a')\n",
        "links=[l.get(\"href\") for l in links]\n",
        "links = [l for l in links if l and  'all_comps/shooting/' in l]\n",
        "data=requests.get(f\"https://fbref.com{links[0]}\")\n",
        "shooting =pd.read_html(data.text,match=\"Shooting\")[0]\n"
      ],
      "metadata": {
        "id": "1mr8o6mc_DJv"
      },
      "execution_count": null,
      "outputs": []
    },
    {
      "cell_type": "code",
      "source": [
        "shooting.columns=shooting.columns.droplevel()\n"
      ],
      "metadata": {
        "id": "bb3yHTKR_DJv"
      },
      "execution_count": null,
      "outputs": []
    },
    {
      "cell_type": "code",
      "source": [
        "team_data=matches[0].merge(shooting[[\"Date\",\"Sh\",\"SoT\",\"Dist\",\"FK\",\"PK\",\"PKatt\"]],on=\"Date\")\n",
        "team_data=team_data[team_data[\"Comp\"] == \"Premier League\"]\n",
        "team_data"
      ],
      "metadata": {
        "id": "dTjHJ_TR_DJv"
      },
      "execution_count": null,
      "outputs": []
    },
    {
      "cell_type": "code",
      "execution_count": null,
      "metadata": {
        "id": "7xtOHuUv_DJv"
      },
      "outputs": [],
      "source": [
        "import requests\n",
        "standings_url=\"https://fbref.com/en/comps/9/2019-2020/2019-2020-Premier-League-Stats\"\n",
        "data=requests.get(standings_url)\n",
        "data.text\n",
        "from bs4 import BeautifulSoup\n",
        "soup=BeautifulSoup(data.text)\n",
        "standings_table=soup.select('table.stats_table')[0]\n",
        "links=standings_table.find_all('a')\n",
        "links=[l.get(\"href\") for l in links]\n",
        "links = [l for l in links if '/squads' in l]\n",
        "team_urls=[f\"https://fbref.com{l}\" for l in links]\n",
        "team_url=team_urls[17]\n",
        "data=requests.get(team_url)\n",
        "import pandas as pd\n",
        "matches=pd.read_html(data.text,match=\"Scores & Fixtures\")\n",
        "\n",
        "\n"
      ]
    },
    {
      "cell_type": "code",
      "source": [
        "soup=BeautifulSoup(data.text)\n",
        "links=soup.find_all('a')\n",
        "links=[l.get(\"href\") for l in links]\n",
        "links = [l for l in links if l and  'all_comps/shooting/' in l]\n",
        "data=requests.get(f\"https://fbref.com{links[0]}\")\n",
        "shooting =pd.read_html(data.text,match=\"Shooting\")[0]\n"
      ],
      "metadata": {
        "id": "1wmJMx3U_DJv"
      },
      "execution_count": null,
      "outputs": []
    },
    {
      "cell_type": "code",
      "source": [
        "shooting.columns=shooting.columns.droplevel()\n"
      ],
      "metadata": {
        "id": "VJ4c4TtM_DJv"
      },
      "execution_count": null,
      "outputs": []
    },
    {
      "cell_type": "code",
      "source": [
        "team_data=matches[0].merge(shooting[[\"Date\",\"Sh\",\"SoT\",\"Dist\",\"FK\",\"PK\",\"PKatt\"]],on=\"Date\")\n",
        "team_data=team_data[team_data[\"Comp\"] == \"Premier League\"]\n",
        "team_data"
      ],
      "metadata": {
        "id": "U9o9s0BE_DJw"
      },
      "execution_count": null,
      "outputs": []
    },
    {
      "cell_type": "code",
      "execution_count": null,
      "metadata": {
        "id": "zJQ6twCp_DJw"
      },
      "outputs": [],
      "source": [
        "import requests\n",
        "standings_url=\"https://fbref.com/en/comps/9/2019-2020/2019-2020-Premier-League-Stats\"\n",
        "data=requests.get(standings_url)\n",
        "data.text\n",
        "from bs4 import BeautifulSoup\n",
        "soup=BeautifulSoup(data.text)\n",
        "standings_table=soup.select('table.stats_table')[0]\n",
        "links=standings_table.find_all('a')\n",
        "links=[l.get(\"href\") for l in links]\n",
        "links = [l for l in links if '/squads' in l]\n",
        "team_urls=[f\"https://fbref.com{l}\" for l in links]\n",
        "team_url=team_urls[18]\n",
        "data=requests.get(team_url)\n",
        "import pandas as pd\n",
        "matches=pd.read_html(data.text,match=\"Scores & Fixtures\")\n",
        "\n",
        "\n"
      ]
    },
    {
      "cell_type": "code",
      "source": [
        "soup=BeautifulSoup(data.text)\n",
        "links=soup.find_all('a')\n",
        "links=[l.get(\"href\") for l in links]\n",
        "links = [l for l in links if l and  'all_comps/shooting/' in l]\n",
        "data=requests.get(f\"https://fbref.com{links[0]}\")\n",
        "shooting =pd.read_html(data.text,match=\"Shooting\")[0]\n"
      ],
      "metadata": {
        "id": "mAyH-cGJ_DJw"
      },
      "execution_count": null,
      "outputs": []
    },
    {
      "cell_type": "code",
      "source": [
        "shooting.columns=shooting.columns.droplevel()\n"
      ],
      "metadata": {
        "id": "52u6BmFD_DJw"
      },
      "execution_count": null,
      "outputs": []
    },
    {
      "cell_type": "code",
      "source": [
        "team_data=matches[0].merge(shooting[[\"Date\",\"Sh\",\"SoT\",\"Dist\",\"FK\",\"PK\",\"PKatt\"]],on=\"Date\")\n",
        "team_data=team_data[team_data[\"Comp\"] == \"Premier League\"]\n",
        "team_data"
      ],
      "metadata": {
        "id": "4RcNRoAU_DJw"
      },
      "execution_count": null,
      "outputs": []
    },
    {
      "cell_type": "code",
      "source": [],
      "metadata": {
        "id": "YqFkfjZN_DJx"
      },
      "execution_count": null,
      "outputs": []
    },
    {
      "cell_type": "code",
      "execution_count": null,
      "metadata": {
        "id": "3fu2kXcn_DJx"
      },
      "outputs": [],
      "source": [
        "import requests\n",
        "standings_url=\"https://fbref.com/en/comps/9/2019-2020/2019-2020-Premier-League-Stats\"\n",
        "data=requests.get(standings_url)\n",
        "data.text\n",
        "from bs4 import BeautifulSoup\n",
        "soup=BeautifulSoup(data.text)\n",
        "standings_table=soup.select('table.stats_table')[0]\n",
        "links=standings_table.find_all('a')\n",
        "links=[l.get(\"href\") for l in links]\n",
        "links = [l for l in links if '/squads' in l]\n",
        "team_urls=[f\"https://fbref.com{l}\" for l in links]\n",
        "team_url=team_urls[19]\n",
        "data=requests.get(team_url)\n",
        "import pandas as pd\n",
        "matches=pd.read_html(data.text,match=\"Scores & Fixtures\")\n",
        "\n",
        "\n"
      ]
    },
    {
      "cell_type": "code",
      "source": [
        "soup=BeautifulSoup(data.text)\n",
        "links=soup.find_all('a')\n",
        "links=[l.get(\"href\") for l in links]\n",
        "links = [l for l in links if l and  'all_comps/shooting/' in l]\n",
        "data=requests.get(f\"https://fbref.com{links[0]}\")\n",
        "shooting =pd.read_html(data.text,match=\"Shooting\")[0]\n"
      ],
      "metadata": {
        "id": "DMeuNCnt_DJx"
      },
      "execution_count": null,
      "outputs": []
    },
    {
      "cell_type": "code",
      "source": [
        "shooting.columns=shooting.columns.droplevel()\n"
      ],
      "metadata": {
        "id": "6IaPYn_G_DJx"
      },
      "execution_count": null,
      "outputs": []
    },
    {
      "cell_type": "code",
      "source": [
        "team_data=matches[0].merge(shooting[[\"Date\",\"Sh\",\"SoT\",\"Dist\",\"FK\",\"PK\",\"PKatt\"]],on=\"Date\")\n",
        "team_data=team_data[team_data[\"Comp\"] == \"Premier League\"]\n",
        "team_data"
      ],
      "metadata": {
        "id": "6lKyhl9z_DJx"
      },
      "execution_count": null,
      "outputs": []
    },
    {
      "cell_type": "code",
      "execution_count": null,
      "metadata": {
        "id": "RuT7Sp_uArM8"
      },
      "outputs": [],
      "source": [
        "import requests\n",
        "standings_url=\"https://fbref.com/en/comps/9/2020-2021/2020-2021-Premier-League-Stats\"\n",
        "data=requests.get(standings_url)\n",
        "data.text\n",
        "from bs4 import BeautifulSoup\n",
        "soup=BeautifulSoup(data.text)\n",
        "standings_table=soup.select('table.stats_table')[0]\n",
        "links=standings_table.find_all('a')\n",
        "links=[l.get(\"href\") for l in links]\n",
        "links = [l for l in links if '/squads' in l]\n",
        "team_urls=[f\"https://fbref.com{l}\" for l in links]\n",
        "team_url=team_urls[0]\n",
        "data=requests.get(team_url)\n",
        "import pandas as pd\n",
        "matches=pd.read_html(data.text,match=\"Scores & Fixtures\")\n",
        "\n",
        "\n"
      ]
    },
    {
      "cell_type": "code",
      "source": [
        "soup=BeautifulSoup(data.text)\n",
        "links=soup.find_all('a')\n",
        "links=[l.get(\"href\") for l in links]\n",
        "links = [l for l in links if l and  'all_comps/shooting/' in l]\n",
        "data=requests.get(f\"https://fbref.com{links[0]}\")\n",
        "shooting =pd.read_html(data.text,match=\"Shooting\")[0]\n"
      ],
      "metadata": {
        "id": "hD7QaP47ArNF"
      },
      "execution_count": null,
      "outputs": []
    },
    {
      "cell_type": "code",
      "source": [
        "shooting.columns=shooting.columns.droplevel()"
      ],
      "metadata": {
        "id": "8T0r3FQwArNF"
      },
      "execution_count": null,
      "outputs": []
    },
    {
      "cell_type": "code",
      "source": [
        "team_data=matches[0].merge(shooting[[\"Date\",\"Sh\",\"SoT\",\"Dist\",\"FK\",\"PK\",\"PKatt\"]],on=\"Date\")\n",
        "team_data=team_data[team_data[\"Comp\"] == \"Premier League\"]\n",
        "team_data"
      ],
      "metadata": {
        "id": "xha0wN3xArNF"
      },
      "execution_count": null,
      "outputs": []
    },
    {
      "cell_type": "code",
      "execution_count": null,
      "metadata": {
        "id": "9GF2tIJEArNG"
      },
      "outputs": [],
      "source": [
        "standings_url=\"https://fbref.com/en/comps/9/2020-2021/2020-2021-Premier-League-Stats\"\n",
        "data=requests.get(standings_url)\n",
        "data.text\n",
        "from bs4 import BeautifulSoup\n",
        "soup=BeautifulSoup(data.text)\n",
        "standings_table=soup.select('table.stats_table')[0]\n",
        "links=standings_table.find_all('a')\n",
        "links=[l.get(\"href\") for l in links]\n",
        "links = [l for l in links if '/squads' in l]\n",
        "team_urls=[f\"https://fbref.com{l}\" for l in links]\n",
        "team_url=team_urls[1]\n",
        "data=requests.get(team_url)\n",
        "import pandas as pd\n",
        "matches=pd.read_html(data.text,match=\"Scores & Fixtures\")\n",
        "\n",
        "\n"
      ]
    },
    {
      "cell_type": "code",
      "source": [
        "soup=BeautifulSoup(data.text)\n",
        "links=soup.find_all('a')\n",
        "links=[l.get(\"href\") for l in links]\n",
        "links = [l for l in links if l and  'all_comps/shooting/' in l]\n",
        "data=requests.get(f\"https://fbref.com{links[0]}\")\n",
        "shooting =pd.read_html(data.text,match=\"Shooting\")[0]\n"
      ],
      "metadata": {
        "id": "XAOeXrthArNG"
      },
      "execution_count": null,
      "outputs": []
    },
    {
      "cell_type": "code",
      "source": [
        "shooting.columns=shooting.columns.droplevel()\n"
      ],
      "metadata": {
        "id": "WIf1Q0lvArNG"
      },
      "execution_count": null,
      "outputs": []
    },
    {
      "cell_type": "code",
      "source": [
        "team1_data=matches[0].merge(shooting[[\"Date\",\"Sh\",\"SoT\",\"Dist\",\"FK\",\"PK\",\"PKatt\"]],on=\"Date\")\n",
        "team1_data=team1_data[team1_data[\"Comp\"] == \"Premier League\"]\n",
        "team1_data"
      ],
      "metadata": {
        "id": "I599Afx7ArNG"
      },
      "execution_count": null,
      "outputs": []
    },
    {
      "cell_type": "code",
      "execution_count": null,
      "metadata": {
        "id": "dZlVTPArArNG"
      },
      "outputs": [],
      "source": [
        "import requests\n",
        "standings_url=\"https://fbref.com/en/comps/9/2020-2021/2020-2021-Premier-League-Stats\"\n",
        "data=requests.get(standings_url)\n",
        "data.text\n",
        "from bs4 import BeautifulSoup\n",
        "soup=BeautifulSoup(data.text)\n",
        "standings_table=soup.select('table.stats_table')[0]\n",
        "links=standings_table.find_all('a')\n",
        "links=[l.get(\"href\") for l in links]\n",
        "links = [l for l in links if '/squads' in l]\n",
        "team_urls=[f\"https://fbref.com{l}\" for l in links]\n",
        "team_url=team_urls[2]\n",
        "data=requests.get(team_url)\n",
        "import pandas as pd\n",
        "matches=pd.read_html(data.text,match=\"Scores & Fixtures\")\n",
        "\n",
        "\n"
      ]
    },
    {
      "cell_type": "code",
      "source": [
        "soup=BeautifulSoup(data.text)\n",
        "links=soup.find_all('a')\n",
        "links=[l.get(\"href\") for l in links]\n",
        "links = [l for l in links if l and  'all_comps/shooting/' in l]\n",
        "data=requests.get(f\"https://fbref.com{links[0]}\")\n",
        "shooting =pd.read_html(data.text,match=\"Shooting\")[0]\n"
      ],
      "metadata": {
        "id": "46suN7LtArNG"
      },
      "execution_count": null,
      "outputs": []
    },
    {
      "cell_type": "code",
      "source": [
        "shooting.columns=shooting.columns.droplevel()\n"
      ],
      "metadata": {
        "id": "zgMmL9ngArNH"
      },
      "execution_count": null,
      "outputs": []
    },
    {
      "cell_type": "code",
      "source": [
        "team2_data=matches[0].merge(shooting[[\"Date\",\"Sh\",\"SoT\",\"Dist\",\"FK\",\"PK\",\"PKatt\"]],on=\"Date\")\n",
        "team2_data=team2_data[team2_data[\"Comp\"] == \"Premier League\"]\n",
        "team2_data"
      ],
      "metadata": {
        "id": "sOVL6tljArNH"
      },
      "execution_count": null,
      "outputs": []
    },
    {
      "cell_type": "code",
      "execution_count": null,
      "metadata": {
        "id": "4vhqcd2NArNH"
      },
      "outputs": [],
      "source": [
        "import requests\n",
        "standings_url=\"https://fbref.com/en/comps/9/2020-2021/2020-2021-Premier-League-Stats\"\n",
        "data=requests.get(standings_url)\n",
        "data.text\n",
        "from bs4 import BeautifulSoup\n",
        "soup=BeautifulSoup(data.text)\n",
        "standings_table=soup.select('table.stats_table')[0]\n",
        "links=standings_table.find_all('a')\n",
        "links=[l.get(\"href\") for l in links]\n",
        "links = [l for l in links if '/squads' in l]\n",
        "team_urls=[f\"https://fbref.com{l}\" for l in links]\n",
        "team_url=team_urls[3]\n",
        "data=requests.get(team_url)\n",
        "import pandas as pd\n",
        "matches=pd.read_html(data.text,match=\"Scores & Fixtures\")\n",
        "\n",
        "\n"
      ]
    },
    {
      "cell_type": "code",
      "source": [
        "soup=BeautifulSoup(data.text)\n",
        "links=soup.find_all('a')\n",
        "links=[l.get(\"href\") for l in links]\n",
        "links = [l for l in links if l and  'all_comps/shooting/' in l]\n",
        "data=requests.get(f\"https://fbref.com{links[0]}\")\n",
        "shooting =pd.read_html(data.text,match=\"Shooting\")[0]\n"
      ],
      "metadata": {
        "id": "V1lv3b71ArNH"
      },
      "execution_count": null,
      "outputs": []
    },
    {
      "cell_type": "code",
      "source": [
        "shooting.columns=shooting.columns.droplevel()\n"
      ],
      "metadata": {
        "id": "A1Zk0D2gArNH"
      },
      "execution_count": null,
      "outputs": []
    },
    {
      "cell_type": "code",
      "source": [
        "team_data=matches[0].merge(shooting[[\"Date\",\"Sh\",\"SoT\",\"Dist\",\"FK\",\"PK\",\"PKatt\"]],on=\"Date\")\n",
        "team_data=team_data[team_data[\"Comp\"] == \"Premier League\"]\n",
        "team_data"
      ],
      "metadata": {
        "id": "-WhmqFYbArNI"
      },
      "execution_count": null,
      "outputs": []
    },
    {
      "cell_type": "code",
      "execution_count": null,
      "metadata": {
        "id": "viW2RHklArNI"
      },
      "outputs": [],
      "source": [
        "import requests\n",
        "standings_url=\"https://fbref.com/en/comps/9/2020-2021/2020-2021-Premier-League-Stats\"\n",
        "data=requests.get(standings_url)\n",
        "data.text\n",
        "from bs4 import BeautifulSoup\n",
        "soup=BeautifulSoup(data.text)\n",
        "standings_table=soup.select('table.stats_table')[0]\n",
        "links=standings_table.find_all('a')\n",
        "links=[l.get(\"href\") for l in links]\n",
        "links = [l for l in links if '/squads' in l]\n",
        "team_urls=[f\"https://fbref.com{l}\" for l in links]\n",
        "team_url=team_urls[4]\n",
        "data=requests.get(team_url)\n",
        "import pandas as pd\n",
        "matches=pd.read_html(data.text,match=\"Scores & Fixtures\")\n",
        "\n",
        "\n"
      ]
    },
    {
      "cell_type": "code",
      "source": [
        "soup=BeautifulSoup(data.text)\n",
        "links=soup.find_all('a')\n",
        "links=[l.get(\"href\") for l in links]\n",
        "links = [l for l in links if l and  'all_comps/shooting/' in l]\n",
        "data=requests.get(f\"https://fbref.com{links[0]}\")\n",
        "shooting =pd.read_html(data.text,match=\"Shooting\")[0]\n"
      ],
      "metadata": {
        "id": "fKYuKqZTArNI"
      },
      "execution_count": null,
      "outputs": []
    },
    {
      "cell_type": "code",
      "source": [
        "shooting.columns=shooting.columns.droplevel()\n"
      ],
      "metadata": {
        "id": "E0hEWppsArNI"
      },
      "execution_count": null,
      "outputs": []
    },
    {
      "cell_type": "code",
      "source": [
        "team_data=matches[0].merge(shooting[[\"Date\",\"Sh\",\"SoT\",\"Dist\",\"FK\",\"PK\",\"PKatt\"]],on=\"Date\")\n",
        "team_data=team_data[team_data[\"Comp\"] == \"Premier League\"]\n",
        "team_data"
      ],
      "metadata": {
        "id": "JFyNoks3ArNI"
      },
      "execution_count": null,
      "outputs": []
    },
    {
      "cell_type": "code",
      "execution_count": null,
      "metadata": {
        "id": "74m5jI-pArNI"
      },
      "outputs": [],
      "source": [
        "import requests\n",
        "standings_url=\"https://fbref.com/en/comps/9/2020-2021/2020-2021-Premier-League-Stats\"\n",
        "data=requests.get(standings_url)\n",
        "data.text\n",
        "from bs4 import BeautifulSoup\n",
        "soup=BeautifulSoup(data.text)\n",
        "standings_table=soup.select('table.stats_table')[0]\n",
        "links=standings_table.find_all('a')\n",
        "links=[l.get(\"href\") for l in links]\n",
        "links = [l for l in links if '/squads' in l]\n",
        "team_urls=[f\"https://fbref.com{l}\" for l in links]\n",
        "team_url=team_urls[5]\n",
        "data=requests.get(team_url)\n",
        "import pandas as pd\n",
        "matches=pd.read_html(data.text,match=\"Scores & Fixtures\")\n",
        "\n",
        "\n"
      ]
    },
    {
      "cell_type": "code",
      "source": [
        "soup=BeautifulSoup(data.text)\n",
        "links=soup.find_all('a')\n",
        "links=[l.get(\"href\") for l in links]\n",
        "links = [l for l in links if l and  'all_comps/shooting/' in l]\n",
        "data=requests.get(f\"https://fbref.com{links[0]}\")\n",
        "shooting =pd.read_html(data.text,match=\"Shooting\")[0]\n"
      ],
      "metadata": {
        "id": "wMGgWppnArNI"
      },
      "execution_count": null,
      "outputs": []
    },
    {
      "cell_type": "code",
      "source": [
        "shooting.columns=shooting.columns.droplevel()\n"
      ],
      "metadata": {
        "id": "Sja4k9VIArNJ"
      },
      "execution_count": null,
      "outputs": []
    },
    {
      "cell_type": "code",
      "source": [
        "team_data=matches[0].merge(shooting[[\"Date\",\"Sh\",\"SoT\",\"Dist\",\"FK\",\"PK\",\"PKatt\"]],on=\"Date\")\n",
        "team_data=team_data[team_data[\"Comp\"] == \"Premier League\"]\n",
        "team_data"
      ],
      "metadata": {
        "id": "SYSHlWQfArNJ"
      },
      "execution_count": null,
      "outputs": []
    },
    {
      "cell_type": "code",
      "execution_count": null,
      "metadata": {
        "id": "XEPt5yFCArNJ"
      },
      "outputs": [],
      "source": [
        "import requests\n",
        "standings_url=\"https://fbref.com/en/comps/9/2020-2021/2020-2021-Premier-League-Stats\"\n",
        "data=requests.get(standings_url)\n",
        "data.text\n",
        "from bs4 import BeautifulSoup\n",
        "soup=BeautifulSoup(data.text)\n",
        "standings_table=soup.select('table.stats_table')[0]\n",
        "links=standings_table.find_all('a')\n",
        "links=[l.get(\"href\") for l in links]\n",
        "links = [l for l in links if '/squads' in l]\n",
        "team_urls=[f\"https://fbref.com{l}\" for l in links]\n",
        "team_url=team_urls[6]\n",
        "data=requests.get(team_url)\n",
        "import pandas as pd\n",
        "matches=pd.read_html(data.text,match=\"Scores & Fixtures\")\n",
        "\n",
        "\n"
      ]
    },
    {
      "cell_type": "code",
      "source": [
        "soup=BeautifulSoup(data.text)\n",
        "links=soup.find_all('a')\n",
        "links=[l.get(\"href\") for l in links]\n",
        "links = [l for l in links if l and  'all_comps/shooting/' in l]\n",
        "data=requests.get(f\"https://fbref.com{links[0]}\")\n",
        "shooting =pd.read_html(data.text,match=\"Shooting\")[0]\n"
      ],
      "metadata": {
        "id": "5FsH5flaArNJ"
      },
      "execution_count": null,
      "outputs": []
    },
    {
      "cell_type": "code",
      "source": [
        "shooting.columns=shooting.columns.droplevel()\n"
      ],
      "metadata": {
        "id": "SIXsZMG_ArNJ"
      },
      "execution_count": null,
      "outputs": []
    },
    {
      "cell_type": "code",
      "source": [
        "team_data=matches[0].merge(shooting[[\"Date\",\"Sh\",\"SoT\",\"Dist\",\"FK\",\"PK\",\"PKatt\"]],on=\"Date\")\n",
        "team_data=team_data[team_data[\"Comp\"] == \"Premier League\"]\n",
        "team_data"
      ],
      "metadata": {
        "id": "gTdZtepDArNJ"
      },
      "execution_count": null,
      "outputs": []
    },
    {
      "cell_type": "code",
      "execution_count": null,
      "metadata": {
        "id": "WXMX7WA7ArNJ"
      },
      "outputs": [],
      "source": [
        "import requests\n",
        "standings_url=\"https://fbref.com/en/comps/9/2020-2021/2020-2021-Premier-League-Stats\"\n",
        "data=requests.get(standings_url)\n",
        "data.text\n",
        "from bs4 import BeautifulSoup\n",
        "soup=BeautifulSoup(data.text)\n",
        "standings_table=soup.select('table.stats_table')[0]\n",
        "links=standings_table.find_all('a')\n",
        "links=[l.get(\"href\") for l in links]\n",
        "links = [l for l in links if '/squads' in l]\n",
        "team_urls=[f\"https://fbref.com{l}\" for l in links]\n",
        "team_url=team_urls[7]\n",
        "data=requests.get(team_url)\n",
        "import pandas as pd\n",
        "matches=pd.read_html(data.text,match=\"Scores & Fixtures\")\n",
        "\n",
        "\n"
      ]
    },
    {
      "cell_type": "code",
      "source": [
        "soup=BeautifulSoup(data.text)\n",
        "links=soup.find_all('a')\n",
        "links=[l.get(\"href\") for l in links]\n",
        "links = [l for l in links if l and  'all_comps/shooting/' in l]\n",
        "data=requests.get(f\"https://fbref.com{links[0]}\")\n",
        "shooting =pd.read_html(data.text,match=\"Shooting\")[0]\n"
      ],
      "metadata": {
        "id": "fwkTWld3ArNK"
      },
      "execution_count": null,
      "outputs": []
    },
    {
      "cell_type": "code",
      "source": [
        "shooting.columns=shooting.columns.droplevel()\n"
      ],
      "metadata": {
        "id": "hqVgnj8wArNK"
      },
      "execution_count": null,
      "outputs": []
    },
    {
      "cell_type": "code",
      "source": [
        "team_data=matches[0].merge(shooting[[\"Date\",\"Sh\",\"SoT\",\"Dist\",\"FK\",\"PK\",\"PKatt\"]],on=\"Date\")\n",
        "team_data=team_data[team_data[\"Comp\"] == \"Premier League\"]\n",
        "team_data"
      ],
      "metadata": {
        "id": "BKVPPtjqArNK"
      },
      "execution_count": null,
      "outputs": []
    },
    {
      "cell_type": "code",
      "execution_count": null,
      "metadata": {
        "id": "XT76NadTArNL"
      },
      "outputs": [],
      "source": [
        "import requests\n",
        "standings_url=\"https://fbref.com/en/comps/9/2020-2021/2020-2021-Premier-League-Stats\"\n",
        "data=requests.get(standings_url)\n",
        "data.text\n",
        "from bs4 import BeautifulSoup\n",
        "soup=BeautifulSoup(data.text)\n",
        "standings_table=soup.select('table.stats_table')[0]\n",
        "links=standings_table.find_all('a')\n",
        "links=[l.get(\"href\") for l in links]\n",
        "links = [l for l in links if '/squads' in l]\n",
        "team_urls=[f\"https://fbref.com{l}\" for l in links]\n",
        "team_url=team_urls[8]\n",
        "data=requests.get(team_url)\n",
        "import pandas as pd\n",
        "matches=pd.read_html(data.text,match=\"Scores & Fixtures\")\n",
        "\n",
        "\n"
      ]
    },
    {
      "cell_type": "code",
      "source": [
        "soup=BeautifulSoup(data.text)\n",
        "links=soup.find_all('a')\n",
        "links=[l.get(\"href\") for l in links]\n",
        "links = [l for l in links if l and  'all_comps/shooting/' in l]\n",
        "data=requests.get(f\"https://fbref.com{links[0]}\")\n",
        "shooting =pd.read_html(data.text,match=\"Shooting\")[0]\n"
      ],
      "metadata": {
        "id": "qFXqL2KiArNM"
      },
      "execution_count": null,
      "outputs": []
    },
    {
      "cell_type": "code",
      "source": [
        "shooting.columns=shooting.columns.droplevel()\n"
      ],
      "metadata": {
        "id": "zEGltUJpArNM"
      },
      "execution_count": null,
      "outputs": []
    },
    {
      "cell_type": "code",
      "source": [
        "team_data=matches[0].merge(shooting[[\"Date\",\"Sh\",\"SoT\",\"Dist\",\"FK\",\"PK\",\"PKatt\"]],on=\"Date\")\n",
        "team_data=team_data[team_data[\"Comp\"] == \"Premier League\"]\n",
        "team_data"
      ],
      "metadata": {
        "id": "h9UqkpDBArNM"
      },
      "execution_count": null,
      "outputs": []
    },
    {
      "cell_type": "code",
      "execution_count": null,
      "metadata": {
        "id": "S6rDoZHNArNM"
      },
      "outputs": [],
      "source": [
        "import requests\n",
        "standings_url=\"https://fbref.com/en/comps/9/2020-2021/2020-2021-Premier-League-Stats\"\n",
        "data=requests.get(standings_url)\n",
        "data.text\n",
        "from bs4 import BeautifulSoup\n",
        "soup=BeautifulSoup(data.text)\n",
        "standings_table=soup.select('table.stats_table')[0]\n",
        "links=standings_table.find_all('a')\n",
        "links=[l.get(\"href\") for l in links]\n",
        "links = [l for l in links if '/squads' in l]\n",
        "team_urls=[f\"https://fbref.com{l}\" for l in links]\n",
        "team_url=team_urls[9]\n",
        "data=requests.get(team_url)\n",
        "import pandas as pd\n",
        "matches=pd.read_html(data.text,match=\"Scores & Fixtures\")\n",
        "\n",
        "\n"
      ]
    },
    {
      "cell_type": "code",
      "source": [
        "soup=BeautifulSoup(data.text)\n",
        "links=soup.find_all('a')\n",
        "links=[l.get(\"href\") for l in links]\n",
        "links = [l for l in links if l and  'all_comps/shooting/' in l]\n",
        "data=requests.get(f\"https://fbref.com{links[0]}\")\n",
        "shooting =pd.read_html(data.text,match=\"Shooting\")[0]\n"
      ],
      "metadata": {
        "id": "TOoEk11GArNM"
      },
      "execution_count": null,
      "outputs": []
    },
    {
      "cell_type": "code",
      "source": [
        "shooting.columns=shooting.columns.droplevel()\n"
      ],
      "metadata": {
        "id": "NVFPXSeWArNN"
      },
      "execution_count": null,
      "outputs": []
    },
    {
      "cell_type": "code",
      "source": [
        "team_data=matches[0].merge(shooting[[\"Date\",\"Sh\",\"SoT\",\"Dist\",\"FK\",\"PK\",\"PKatt\"]],on=\"Date\")\n",
        "team_data=team_data[team_data[\"Comp\"] == \"Premier League\"]\n",
        "team_data"
      ],
      "metadata": {
        "id": "Bc7rKJysArNN"
      },
      "execution_count": null,
      "outputs": []
    },
    {
      "cell_type": "code",
      "execution_count": null,
      "metadata": {
        "id": "2yaBmRghArNN"
      },
      "outputs": [],
      "source": [
        "import requests\n",
        "standings_url=\"https://fbref.com/en/comps/9/2020-2021/2020-2021-Premier-League-Stats\"\n",
        "data=requests.get(standings_url)\n",
        "data.text\n",
        "from bs4 import BeautifulSoup\n",
        "soup=BeautifulSoup(data.text)\n",
        "standings_table=soup.select('table.stats_table')[0]\n",
        "links=standings_table.find_all('a')\n",
        "links=[l.get(\"href\") for l in links]\n",
        "links = [l for l in links if '/squads' in l]\n",
        "team_urls=[f\"https://fbref.com{l}\" for l in links]\n",
        "team_url=team_urls[10]\n",
        "data=requests.get(team_url)\n",
        "import pandas as pd\n",
        "matches=pd.read_html(data.text,match=\"Scores & Fixtures\")\n",
        "\n",
        "\n"
      ]
    },
    {
      "cell_type": "code",
      "source": [
        "soup=BeautifulSoup(data.text)\n",
        "links=soup.find_all('a')\n",
        "links=[l.get(\"href\") for l in links]\n",
        "links = [l for l in links if l and  'all_comps/shooting/' in l]\n",
        "data=requests.get(f\"https://fbref.com{links[0]}\")\n",
        "shooting =pd.read_html(data.text,match=\"Shooting\")[0]\n"
      ],
      "metadata": {
        "id": "Cm9DMkzlArNN"
      },
      "execution_count": null,
      "outputs": []
    },
    {
      "cell_type": "code",
      "source": [
        "shooting.columns=shooting.columns.droplevel()\n"
      ],
      "metadata": {
        "id": "-Zmf-6S4ArNN"
      },
      "execution_count": null,
      "outputs": []
    },
    {
      "cell_type": "code",
      "source": [
        "team_data=matches[0].merge(shooting[[\"Date\",\"Sh\",\"SoT\",\"Dist\",\"FK\",\"PK\",\"PKatt\"]],on=\"Date\")\n",
        "team_data=team_data[team_data[\"Comp\"] == \"Premier League\"]\n",
        "team_data"
      ],
      "metadata": {
        "id": "Mywvd1QUArNN"
      },
      "execution_count": null,
      "outputs": []
    },
    {
      "cell_type": "code",
      "execution_count": null,
      "metadata": {
        "id": "FWZAXM7LArNO"
      },
      "outputs": [],
      "source": [
        "import requests\n",
        "standings_url=\"https://fbref.com/en/comps/9/2020-2021/2020-2021-Premier-League-Stats\"\n",
        "data=requests.get(standings_url)\n",
        "data.text\n",
        "from bs4 import BeautifulSoup\n",
        "soup=BeautifulSoup(data.text)\n",
        "standings_table=soup.select('table.stats_table')[0]\n",
        "links=standings_table.find_all('a')\n",
        "links=[l.get(\"href\") for l in links]\n",
        "links = [l for l in links if '/squads' in l]\n",
        "team_urls=[f\"https://fbref.com{l}\" for l in links]\n",
        "team_url=team_urls[11]\n",
        "data=requests.get(team_url)\n",
        "import pandas as pd\n",
        "matches=pd.read_html(data.text,match=\"Scores & Fixtures\")\n",
        "\n",
        "\n"
      ]
    },
    {
      "cell_type": "code",
      "source": [
        "soup=BeautifulSoup(data.text)\n",
        "links=soup.find_all('a')\n",
        "links=[l.get(\"href\") for l in links]\n",
        "links = [l for l in links if l and  'all_comps/shooting/' in l]\n",
        "data=requests.get(f\"https://fbref.com{links[0]}\")\n",
        "shooting =pd.read_html(data.text,match=\"Shooting\")[0]\n"
      ],
      "metadata": {
        "id": "Z4cbVNfwArNO"
      },
      "execution_count": null,
      "outputs": []
    },
    {
      "cell_type": "code",
      "source": [
        "shooting.columns=shooting.columns.droplevel()\n"
      ],
      "metadata": {
        "id": "zPYJUhFlArNO"
      },
      "execution_count": null,
      "outputs": []
    },
    {
      "cell_type": "code",
      "source": [
        "team_data=matches[0].merge(shooting[[\"Date\",\"Sh\",\"SoT\",\"Dist\",\"FK\",\"PK\",\"PKatt\"]],on=\"Date\")\n",
        "team_data=team_data[team_data[\"Comp\"] == \"Premier League\"]\n",
        "team_data"
      ],
      "metadata": {
        "id": "qBnVoPGIArNO"
      },
      "execution_count": null,
      "outputs": []
    },
    {
      "cell_type": "code",
      "execution_count": null,
      "metadata": {
        "id": "VamgzEyCArNO"
      },
      "outputs": [],
      "source": [
        "import requests\n",
        "standings_url=\"https://fbref.com/en/comps/9/2020-2021/2020-2021-Premier-League-Stats\"\n",
        "data=requests.get(standings_url)\n",
        "data.text\n",
        "from bs4 import BeautifulSoup\n",
        "soup=BeautifulSoup(data.text)\n",
        "standings_table=soup.select('table.stats_table')[0]\n",
        "links=standings_table.find_all('a')\n",
        "links=[l.get(\"href\") for l in links]\n",
        "links = [l for l in links if '/squads' in l]\n",
        "team_urls=[f\"https://fbref.com{l}\" for l in links]\n",
        "team_url=team_urls[12]\n",
        "data=requests.get(team_url)\n",
        "import pandas as pd\n",
        "matches=pd.read_html(data.text,match=\"Scores & Fixtures\")\n",
        "\n",
        "\n"
      ]
    },
    {
      "cell_type": "code",
      "source": [
        "soup=BeautifulSoup(data.text)\n",
        "links=soup.find_all('a')\n",
        "links=[l.get(\"href\") for l in links]\n",
        "links = [l for l in links if l and  'all_comps/shooting/' in l]\n",
        "data=requests.get(f\"https://fbref.com{links[0]}\")\n",
        "shooting =pd.read_html(data.text,match=\"Shooting\")[0]\n"
      ],
      "metadata": {
        "id": "qmxNQlJIArNP"
      },
      "execution_count": null,
      "outputs": []
    },
    {
      "cell_type": "code",
      "source": [
        "shooting.columns=shooting.columns.droplevel()\n"
      ],
      "metadata": {
        "id": "EviPrQhZArNP"
      },
      "execution_count": null,
      "outputs": []
    },
    {
      "cell_type": "code",
      "source": [
        "team_data=matches[0].merge(shooting[[\"Date\",\"Sh\",\"SoT\",\"Dist\",\"FK\",\"PK\",\"PKatt\"]],on=\"Date\")\n",
        "team_data=team_data[team_data[\"Comp\"] == \"Premier League\"]\n",
        "team_data"
      ],
      "metadata": {
        "id": "_bBiG2IAArNP"
      },
      "execution_count": null,
      "outputs": []
    },
    {
      "cell_type": "code",
      "execution_count": null,
      "metadata": {
        "id": "ARs41k8PArNP"
      },
      "outputs": [],
      "source": [
        "import requests\n",
        "standings_url=\"https://fbref.com/en/comps/9/2020-2021/2020-2021-Premier-League-Stats\"\n",
        "data=requests.get(standings_url)\n",
        "data.text\n",
        "from bs4 import BeautifulSoup\n",
        "soup=BeautifulSoup(data.text)\n",
        "standings_table=soup.select('table.stats_table')[0]\n",
        "links=standings_table.find_all('a')\n",
        "links=[l.get(\"href\") for l in links]\n",
        "links = [l for l in links if '/squads' in l]\n",
        "team_urls=[f\"https://fbref.com{l}\" for l in links]\n",
        "team_url=team_urls[13]\n",
        "data=requests.get(team_url)\n",
        "import pandas as pd\n",
        "matches=pd.read_html(data.text,match=\"Scores & Fixtures\")\n",
        "\n",
        "\n"
      ]
    },
    {
      "cell_type": "markdown",
      "source": [
        "# New Section"
      ],
      "metadata": {
        "id": "lAWVrWKp8UU5"
      }
    },
    {
      "cell_type": "code",
      "source": [
        "soup=BeautifulSoup(data.text)\n",
        "links=soup.find_all('a')\n",
        "links=[l.get(\"href\") for l in links]\n",
        "links = [l for l in links if l and  'all_comps/shooting/' in l]\n",
        "data=requests.get(f\"https://fbref.com{links[0]}\")\n",
        "shooting =pd.read_html(data.text,match=\"Shooting\")[0]\n"
      ],
      "metadata": {
        "id": "PHT3KYMzArNP"
      },
      "execution_count": null,
      "outputs": []
    },
    {
      "cell_type": "code",
      "source": [
        "shooting.columns=shooting.columns.droplevel()\n"
      ],
      "metadata": {
        "id": "JZJ0Z9q5ArNQ"
      },
      "execution_count": null,
      "outputs": []
    },
    {
      "cell_type": "code",
      "source": [
        "team_data=matches[0].merge(shooting[[\"Date\",\"Sh\",\"SoT\",\"Dist\",\"FK\",\"PK\",\"PKatt\"]],on=\"Date\")\n",
        "team_data=team_data[team_data[\"Comp\"] == \"Premier League\"]\n",
        "team_data"
      ],
      "metadata": {
        "id": "dOhe8n9qArNQ"
      },
      "execution_count": null,
      "outputs": []
    },
    {
      "cell_type": "code",
      "execution_count": null,
      "metadata": {
        "id": "0l7ot6ihArNQ"
      },
      "outputs": [],
      "source": [
        "import requests\n",
        "standings_url=\"https://fbref.com/en/comps/9/2020-2021/2020-2021-Premier-League-Stats\"\n",
        "data=requests.get(standings_url)\n",
        "data.text\n",
        "from bs4 import BeautifulSoup\n",
        "soup=BeautifulSoup(data.text)\n",
        "standings_table=soup.select('table.stats_table')[0]\n",
        "links=standings_table.find_all('a')\n",
        "links=[l.get(\"href\") for l in links]\n",
        "links = [l for l in links if '/squads' in l]\n",
        "team_urls=[f\"https://fbref.com{l}\" for l in links]\n",
        "team_url=team_urls[14]\n",
        "data=requests.get(team_url)\n",
        "import pandas as pd\n",
        "matches=pd.read_html(data.text,match=\"Scores & Fixtures\")\n",
        "\n",
        "\n"
      ]
    },
    {
      "cell_type": "code",
      "source": [
        "soup=BeautifulSoup(data.text)\n",
        "links=soup.find_all('a')\n",
        "links=[l.get(\"href\") for l in links]\n",
        "links = [l for l in links if l and  'all_comps/shooting/' in l]\n",
        "data=requests.get(f\"https://fbref.com{links[0]}\")\n",
        "shooting =pd.read_html(data.text,match=\"Shooting\")[0]\n"
      ],
      "metadata": {
        "id": "aE1gg1VsArNQ"
      },
      "execution_count": null,
      "outputs": []
    },
    {
      "cell_type": "code",
      "source": [
        "shooting.columns=shooting.columns.droplevel()\n"
      ],
      "metadata": {
        "id": "vFJxTwCiArNQ"
      },
      "execution_count": null,
      "outputs": []
    },
    {
      "cell_type": "code",
      "source": [
        "team_data=matches[0].merge(shooting[[\"Date\",\"Sh\",\"SoT\",\"Dist\",\"FK\",\"PK\",\"PKatt\"]],on=\"Date\")\n",
        "team_data=team_data[team_data[\"Comp\"] == \"Premier League\"]\n",
        "team_data"
      ],
      "metadata": {
        "id": "94YVqTYrArNQ"
      },
      "execution_count": null,
      "outputs": []
    },
    {
      "cell_type": "code",
      "execution_count": null,
      "metadata": {
        "id": "ZxYTs4bSArNR"
      },
      "outputs": [],
      "source": [
        "import requests\n",
        "standings_url=\"https://fbref.com/en/comps/9/2020-2021/2020-2021-Premier-League-Stats\"\n",
        "data=requests.get(standings_url)\n",
        "data.text\n",
        "from bs4 import BeautifulSoup\n",
        "soup=BeautifulSoup(data.text)\n",
        "standings_table=soup.select('table.stats_table')[0]\n",
        "links=standings_table.find_all('a')\n",
        "links=[l.get(\"href\") for l in links]\n",
        "links = [l for l in links if '/squads' in l]\n",
        "team_urls=[f\"https://fbref.com{l}\" for l in links]\n",
        "team_url=team_urls[15]\n",
        "data=requests.get(team_url)\n",
        "import pandas as pd\n",
        "matches=pd.read_html(data.text,match=\"Scores & Fixtures\")\n",
        "\n",
        "\n"
      ]
    },
    {
      "cell_type": "code",
      "source": [
        "soup=BeautifulSoup(data.text)\n",
        "links=soup.find_all('a')\n",
        "links=[l.get(\"href\") for l in links]\n",
        "links = [l for l in links if l and  'all_comps/shooting/' in l]\n",
        "data=requests.get(f\"https://fbref.com{links[0]}\")\n",
        "shooting =pd.read_html(data.text,match=\"Shooting\")[0]\n"
      ],
      "metadata": {
        "id": "lIMykUqzArNR"
      },
      "execution_count": null,
      "outputs": []
    },
    {
      "cell_type": "code",
      "source": [
        "shooting.columns=shooting.columns.droplevel()\n"
      ],
      "metadata": {
        "id": "d2l96BMOArNR"
      },
      "execution_count": null,
      "outputs": []
    },
    {
      "cell_type": "code",
      "source": [
        "team_data=matches[0].merge(shooting[[\"Date\",\"Sh\",\"SoT\",\"Dist\",\"FK\",\"PK\",\"PKatt\"]],on=\"Date\")\n",
        "team_data=team_data[team_data[\"Comp\"] == \"Premier League\"]\n",
        "team_data"
      ],
      "metadata": {
        "id": "xxjvKNp0ArNR"
      },
      "execution_count": null,
      "outputs": []
    },
    {
      "cell_type": "code",
      "execution_count": null,
      "metadata": {
        "id": "rywGTjkQArNR"
      },
      "outputs": [],
      "source": [
        "import requests\n",
        "standings_url=\"https://fbref.com/en/comps/9/2020-2021/2020-2021-Premier-League-Stats\"\n",
        "data=requests.get(standings_url)\n",
        "data.text\n",
        "from bs4 import BeautifulSoup\n",
        "soup=BeautifulSoup(data.text)\n",
        "standings_table=soup.select('table.stats_table')[0]\n",
        "links=standings_table.find_all('a')\n",
        "links=[l.get(\"href\") for l in links]\n",
        "links = [l for l in links if '/squads' in l]\n",
        "team_urls=[f\"https://fbref.com{l}\" for l in links]\n",
        "team_url=team_urls[16]\n",
        "data=requests.get(team_url)\n",
        "import pandas as pd\n",
        "matches=pd.read_html(data.text,match=\"Scores & Fixtures\")\n",
        "\n",
        "\n"
      ]
    },
    {
      "cell_type": "code",
      "source": [
        "soup=BeautifulSoup(data.text)\n",
        "links=soup.find_all('a')\n",
        "links=[l.get(\"href\") for l in links]\n",
        "links = [l for l in links if l and  'all_comps/shooting/' in l]\n",
        "data=requests.get(f\"https://fbref.com{links[0]}\")\n",
        "shooting =pd.read_html(data.text,match=\"Shooting\")[0]\n"
      ],
      "metadata": {
        "id": "5EPsQgb9ArNR"
      },
      "execution_count": null,
      "outputs": []
    },
    {
      "cell_type": "code",
      "source": [
        "shooting.columns=shooting.columns.droplevel()\n"
      ],
      "metadata": {
        "id": "FSeRl-VIArNS"
      },
      "execution_count": null,
      "outputs": []
    },
    {
      "cell_type": "code",
      "source": [
        "team_data=matches[0].merge(shooting[[\"Date\",\"Sh\",\"SoT\",\"Dist\",\"FK\",\"PK\",\"PKatt\"]],on=\"Date\")\n",
        "team_data=team_data[team_data[\"Comp\"] == \"Premier League\"]\n",
        "team_data"
      ],
      "metadata": {
        "id": "sx_yJRDDArNS"
      },
      "execution_count": null,
      "outputs": []
    },
    {
      "cell_type": "code",
      "execution_count": null,
      "metadata": {
        "id": "Nx9MTwizArNS"
      },
      "outputs": [],
      "source": [
        "import requests\n",
        "standings_url=\"https://fbref.com/en/comps/9/2020-2021/2020-2021-Premier-League-Stats\"\n",
        "data=requests.get(standings_url)\n",
        "data.text\n",
        "from bs4 import BeautifulSoup\n",
        "soup=BeautifulSoup(data.text)\n",
        "standings_table=soup.select('table.stats_table')[0]\n",
        "links=standings_table.find_all('a')\n",
        "links=[l.get(\"href\") for l in links]\n",
        "links = [l for l in links if '/squads' in l]\n",
        "team_urls=[f\"https://fbref.com{l}\" for l in links]\n",
        "team_url=team_urls[17]\n",
        "data=requests.get(team_url)\n",
        "import pandas as pd\n",
        "matches=pd.read_html(data.text,match=\"Scores & Fixtures\")\n",
        "\n",
        "\n"
      ]
    },
    {
      "cell_type": "code",
      "source": [
        "soup=BeautifulSoup(data.text)\n",
        "links=soup.find_all('a')\n",
        "links=[l.get(\"href\") for l in links]\n",
        "links = [l for l in links if l and  'all_comps/shooting/' in l]\n",
        "data=requests.get(f\"https://fbref.com{links[0]}\")\n",
        "shooting =pd.read_html(data.text,match=\"Shooting\")[0]\n"
      ],
      "metadata": {
        "id": "MYZRp73vArNS"
      },
      "execution_count": null,
      "outputs": []
    },
    {
      "cell_type": "code",
      "source": [
        "shooting.columns=shooting.columns.droplevel()\n"
      ],
      "metadata": {
        "id": "_60LxntCArNS"
      },
      "execution_count": null,
      "outputs": []
    },
    {
      "cell_type": "code",
      "source": [
        "team_data=matches[0].merge(shooting[[\"Date\",\"Sh\",\"SoT\",\"Dist\",\"FK\",\"PK\",\"PKatt\"]],on=\"Date\")\n",
        "team_data=team_data[team_data[\"Comp\"] == \"Premier League\"]\n",
        "team_data"
      ],
      "metadata": {
        "id": "Ir9SjkSaArNS"
      },
      "execution_count": null,
      "outputs": []
    },
    {
      "cell_type": "code",
      "execution_count": null,
      "metadata": {
        "id": "NSA9UB4yArNS"
      },
      "outputs": [],
      "source": [
        "import requests\n",
        "standings_url=\"https://fbref.com/en/comps/9/2020-2021/2020-2021-Premier-League-Stats\"\n",
        "data=requests.get(standings_url)\n",
        "data.text\n",
        "from bs4 import BeautifulSoup\n",
        "soup=BeautifulSoup(data.text)\n",
        "standings_table=soup.select('table.stats_table')[0]\n",
        "links=standings_table.find_all('a')\n",
        "links=[l.get(\"href\") for l in links]\n",
        "links = [l for l in links if '/squads' in l]\n",
        "team_urls=[f\"https://fbref.com{l}\" for l in links]\n",
        "team_url=team_urls[18]\n",
        "data=requests.get(team_url)\n",
        "import pandas as pd\n",
        "matches=pd.read_html(data.text,match=\"Scores & Fixtures\")\n",
        "\n",
        "\n"
      ]
    },
    {
      "cell_type": "code",
      "source": [
        "soup=BeautifulSoup(data.text)\n",
        "links=soup.find_all('a')\n",
        "links=[l.get(\"href\") for l in links]\n",
        "links = [l for l in links if l and  'all_comps/shooting/' in l]\n",
        "data=requests.get(f\"https://fbref.com{links[0]}\")\n",
        "shooting =pd.read_html(data.text,match=\"Shooting\")[0]\n"
      ],
      "metadata": {
        "id": "0eiPbtaQArNT"
      },
      "execution_count": null,
      "outputs": []
    },
    {
      "cell_type": "code",
      "source": [
        "shooting.columns=shooting.columns.droplevel()\n"
      ],
      "metadata": {
        "id": "EXDqJ5QuArNT"
      },
      "execution_count": null,
      "outputs": []
    },
    {
      "cell_type": "code",
      "source": [
        "team_data=matches[0].merge(shooting[[\"Date\",\"Sh\",\"SoT\",\"Dist\",\"FK\",\"PK\",\"PKatt\"]],on=\"Date\")\n",
        "team_data=team_data[team_data[\"Comp\"] == \"Premier League\"]\n",
        "team_data"
      ],
      "metadata": {
        "id": "KRsFBkPsArNT"
      },
      "execution_count": null,
      "outputs": []
    },
    {
      "cell_type": "code",
      "source": [],
      "metadata": {
        "id": "_1mVQQmTArNT"
      },
      "execution_count": null,
      "outputs": []
    },
    {
      "cell_type": "code",
      "execution_count": null,
      "metadata": {
        "id": "bXCjgaP3ArNU"
      },
      "outputs": [],
      "source": [
        "import requests\n",
        "standings_url=\"https://fbref.com/en/comps/9/2020-2021/2020-2021-Premier-League-Stats\"\n",
        "data=requests.get(standings_url)\n",
        "data.text\n",
        "from bs4 import BeautifulSoup\n",
        "soup=BeautifulSoup(data.text)\n",
        "standings_table=soup.select('table.stats_table')[0]\n",
        "links=standings_table.find_all('a')\n",
        "links=[l.get(\"href\") for l in links]\n",
        "links = [l for l in links if '/squads' in l]\n",
        "team_urls=[f\"https://fbref.com{l}\" for l in links]\n",
        "team_url=team_urls[19]\n",
        "data=requests.get(team_url)\n",
        "import pandas as pd\n",
        "matches=pd.read_html(data.text,match=\"Scores & Fixtures\")\n",
        "\n",
        "\n"
      ]
    },
    {
      "cell_type": "code",
      "source": [
        "soup=BeautifulSoup(data.text)\n",
        "links=soup.find_all('a')\n",
        "links=[l.get(\"href\") for l in links]\n",
        "links = [l for l in links if l and  'all_comps/shooting/' in l]\n",
        "data=requests.get(f\"https://fbref.com{links[0]}\")\n",
        "shooting =pd.read_html(data.text,match=\"Shooting\")[0]\n"
      ],
      "metadata": {
        "id": "v8q_rhN2ArNU"
      },
      "execution_count": null,
      "outputs": []
    },
    {
      "cell_type": "code",
      "source": [
        "shooting.columns=shooting.columns.droplevel()\n"
      ],
      "metadata": {
        "id": "Wg1PbNbRArNV"
      },
      "execution_count": null,
      "outputs": []
    },
    {
      "cell_type": "code",
      "source": [
        "team_data=matches[0].merge(shooting[[\"Date\",\"Sh\",\"SoT\",\"Dist\",\"FK\",\"PK\",\"PKatt\"]],on=\"Date\")\n",
        "team_data=team_data[team_data[\"Comp\"] == \"Premier League\"]\n",
        "team_data"
      ],
      "metadata": {
        "id": "9Wv-1EWLArNW"
      },
      "execution_count": null,
      "outputs": []
    },
    {
      "cell_type": "code",
      "execution_count": null,
      "metadata": {
        "id": "zoJurrDvBDEm"
      },
      "outputs": [],
      "source": [
        "import requests\n",
        "standings_url=\"https://fbref.com/en/comps/9/2021-2022/2021-2022-Premier-League-Stats\"\n",
        "data=requests.get(standings_url)\n",
        "data.text\n",
        "from bs4 import BeautifulSoup\n",
        "soup=BeautifulSoup(data.text)\n",
        "standings_table=soup.select('table.stats_table')[0]\n",
        "links=standings_table.find_all('a')\n",
        "links=[l.get(\"href\") for l in links]\n",
        "links = [l for l in links if '/squads' in l]\n",
        "team_urls=[f\"https://fbref.com{l}\" for l in links]\n",
        "team_url=team_urls[0]\n",
        "data=requests.get(team_url)\n",
        "import pandas as pd\n",
        "matches=pd.read_html(data.text,match=\"Scores & Fixtures\")\n",
        "\n",
        "\n"
      ]
    },
    {
      "cell_type": "code",
      "source": [],
      "metadata": {
        "id": "ie9cJIud_Qrz"
      },
      "execution_count": null,
      "outputs": []
    },
    {
      "cell_type": "code",
      "source": [
        "soup=BeautifulSoup(data.text)\n",
        "links=soup.find_all('a')\n",
        "links=[l.get(\"href\") for l in links]\n",
        "links = [l for l in links if l and  'all_comps/shooting/' in l]\n",
        "data=requests.get(f\"https://fbref.com{links[0]}\")\n",
        "shooting =pd.read_html(data.text,match=\"Shooting\")[0]\n"
      ],
      "metadata": {
        "id": "EtOPaFBpBDEu"
      },
      "execution_count": null,
      "outputs": []
    },
    {
      "cell_type": "code",
      "source": [
        "shooting.columns=shooting.columns.droplevel()"
      ],
      "metadata": {
        "id": "Pao7hb5bBDEv"
      },
      "execution_count": null,
      "outputs": []
    },
    {
      "cell_type": "code",
      "source": [
        "team_data=matches[0].merge(shooting[[\"Date\",\"Sh\",\"SoT\",\"Dist\",\"FK\",\"PK\",\"PKatt\"]],on=\"Date\")\n",
        "team_data=team_data[team_data[\"Comp\"] == \"Premier League\"]\n",
        "team_data"
      ],
      "metadata": {
        "id": "vy_YQy7-BDEv"
      },
      "execution_count": null,
      "outputs": []
    },
    {
      "cell_type": "code",
      "execution_count": null,
      "metadata": {
        "id": "DNPBO8XmBDEv"
      },
      "outputs": [],
      "source": [
        "standings_url=\"https://fbref.com/en/comps/9/2021-2022/2021-2022-Premier-League-Stats\"\n",
        "data=requests.get(standings_url)\n",
        "data.text\n",
        "from bs4 import BeautifulSoup\n",
        "soup=BeautifulSoup(data.text)\n",
        "standings_table=soup.select('table.stats_table')[0]\n",
        "links=standings_table.find_all('a')\n",
        "links=[l.get(\"href\") for l in links]\n",
        "links = [l for l in links if '/squads' in l]\n",
        "team_urls=[f\"https://fbref.com{l}\" for l in links]\n",
        "team_url=team_urls[1]\n",
        "data=requests.get(team_url)\n",
        "import pandas as pd\n",
        "matches=pd.read_html(data.text,match=\"Scores & Fixtures\")\n",
        "\n",
        "\n"
      ]
    },
    {
      "cell_type": "code",
      "source": [
        "soup=BeautifulSoup(data.text)\n",
        "links=soup.find_all('a')\n",
        "links=[l.get(\"href\") for l in links]\n",
        "links = [l for l in links if l and  'all_comps/shooting/' in l]\n",
        "data=requests.get(f\"https://fbref.com{links[0]}\")\n",
        "shooting =pd.read_html(data.text,match=\"Shooting\")[0]\n"
      ],
      "metadata": {
        "id": "AxefpXIaBDEv"
      },
      "execution_count": null,
      "outputs": []
    },
    {
      "cell_type": "code",
      "source": [
        "shooting.columns=shooting.columns.droplevel()\n"
      ],
      "metadata": {
        "id": "Kn_F4D4YBDEv"
      },
      "execution_count": null,
      "outputs": []
    },
    {
      "cell_type": "code",
      "source": [
        "team1_data=matches[0].merge(shooting[[\"Date\",\"Sh\",\"SoT\",\"Dist\",\"FK\",\"PK\",\"PKatt\"]],on=\"Date\")\n",
        "team1_data=team1_data[team1_data[\"Comp\"] == \"Premier League\"]\n",
        "team1_data"
      ],
      "metadata": {
        "id": "2poAUm0zBDEw"
      },
      "execution_count": null,
      "outputs": []
    },
    {
      "cell_type": "code",
      "execution_count": null,
      "metadata": {
        "id": "ZFvbNM0fBDEz"
      },
      "outputs": [],
      "source": [
        "import requests\n",
        "standings_url=\"https://fbref.com/en/comps/9/2021-2022/2021-2022-Premier-League-Stats\"\n",
        "data=requests.get(standings_url)\n",
        "data.text\n",
        "from bs4 import BeautifulSoup\n",
        "soup=BeautifulSoup(data.text)\n",
        "standings_table=soup.select('table.stats_table')[0]\n",
        "links=standings_table.find_all('a')\n",
        "links=[l.get(\"href\") for l in links]\n",
        "links = [l for l in links if '/squads' in l]\n",
        "team_urls=[f\"https://fbref.com{l}\" for l in links]\n",
        "team_url=team_urls[2]\n",
        "data=requests.get(team_url)\n",
        "import pandas as pd\n",
        "matches=pd.read_html(data.text,match=\"Scores & Fixtures\")\n",
        "\n",
        "\n"
      ]
    },
    {
      "cell_type": "code",
      "source": [
        "soup=BeautifulSoup(data.text)\n",
        "links=soup.find_all('a')\n",
        "links=[l.get(\"href\") for l in links]\n",
        "links = [l for l in links if l and  'all_comps/shooting/' in l]\n",
        "data=requests.get(f\"https://fbref.com{links[0]}\")\n",
        "shooting =pd.read_html(data.text,match=\"Shooting\")[0]\n"
      ],
      "metadata": {
        "id": "rxEjn-DjBDE0"
      },
      "execution_count": null,
      "outputs": []
    },
    {
      "cell_type": "code",
      "source": [
        "shooting.columns=shooting.columns.droplevel()\n"
      ],
      "metadata": {
        "id": "t3YYY1yKBDE0"
      },
      "execution_count": null,
      "outputs": []
    },
    {
      "cell_type": "code",
      "source": [
        "team2_data=matches[0].merge(shooting[[\"Date\",\"Sh\",\"SoT\",\"Dist\",\"FK\",\"PK\",\"PKatt\"]],on=\"Date\")\n",
        "team2_data=team2_data[team2_data[\"Comp\"] == \"Premier League\"]\n",
        "team2_data"
      ],
      "metadata": {
        "id": "LSiPtLGIBDE0"
      },
      "execution_count": null,
      "outputs": []
    },
    {
      "cell_type": "code",
      "execution_count": null,
      "metadata": {
        "id": "k_hgu035BDE1"
      },
      "outputs": [],
      "source": [
        "import requests\n",
        "standings_url=\"https://fbref.com/en/comps/9/2021-2022/2021-2022-Premier-League-Stats\"\n",
        "data=requests.get(standings_url)\n",
        "data.text\n",
        "from bs4 import BeautifulSoup\n",
        "soup=BeautifulSoup(data.text)\n",
        "standings_table=soup.select('table.stats_table')[0]\n",
        "links=standings_table.find_all('a')\n",
        "links=[l.get(\"href\") for l in links]\n",
        "links = [l for l in links if '/squads' in l]\n",
        "team_urls=[f\"https://fbref.com{l}\" for l in links]\n",
        "team_url=team_urls[3]\n",
        "data=requests.get(team_url)\n",
        "import pandas as pd\n",
        "matches=pd.read_html(data.text,match=\"Scores & Fixtures\")\n",
        "\n",
        "\n"
      ]
    },
    {
      "cell_type": "code",
      "source": [
        "soup=BeautifulSoup(data.text)\n",
        "links=soup.find_all('a')\n",
        "links=[l.get(\"href\") for l in links]\n",
        "links = [l for l in links if l and  'all_comps/shooting/' in l]\n",
        "data=requests.get(f\"https://fbref.com{links[0]}\")\n",
        "shooting =pd.read_html(data.text,match=\"Shooting\")[0]\n"
      ],
      "metadata": {
        "id": "oEwwTvNCBDE1"
      },
      "execution_count": null,
      "outputs": []
    },
    {
      "cell_type": "code",
      "source": [
        "shooting.columns=shooting.columns.droplevel()\n"
      ],
      "metadata": {
        "id": "7fH_vUC4BDE1"
      },
      "execution_count": null,
      "outputs": []
    },
    {
      "cell_type": "code",
      "source": [
        "team_data=matches[0].merge(shooting[[\"Date\",\"Sh\",\"SoT\",\"Dist\",\"FK\",\"PK\",\"PKatt\"]],on=\"Date\")\n",
        "team_data=team_data[team_data[\"Comp\"] == \"Premier League\"]\n",
        "team_data"
      ],
      "metadata": {
        "id": "ph01UJ3HBDE1"
      },
      "execution_count": null,
      "outputs": []
    },
    {
      "cell_type": "code",
      "execution_count": null,
      "metadata": {
        "id": "k2ee_G1dBDE1"
      },
      "outputs": [],
      "source": [
        "import requests\n",
        "standings_url=\"https://fbref.com/en/comps/9/2021-2022/2021-2022-Premier-League-Stats\"\n",
        "data=requests.get(standings_url)\n",
        "data.text\n",
        "from bs4 import BeautifulSoup\n",
        "soup=BeautifulSoup(data.text)\n",
        "standings_table=soup.select('table.stats_table')[0]\n",
        "links=standings_table.find_all('a')\n",
        "links=[l.get(\"href\") for l in links]\n",
        "links = [l for l in links if '/squads' in l]\n",
        "team_urls=[f\"https://fbref.com{l}\" for l in links]\n",
        "team_url=team_urls[4]\n",
        "data=requests.get(team_url)\n",
        "import pandas as pd\n",
        "matches=pd.read_html(data.text,match=\"Scores & Fixtures\")\n",
        "\n",
        "\n"
      ]
    },
    {
      "cell_type": "code",
      "source": [
        "soup=BeautifulSoup(data.text)\n",
        "links=soup.find_all('a')\n",
        "links=[l.get(\"href\") for l in links]\n",
        "links = [l for l in links if l and  'all_comps/shooting/' in l]\n",
        "data=requests.get(f\"https://fbref.com{links[0]}\")\n",
        "shooting =pd.read_html(data.text,match=\"Shooting\")[0]\n"
      ],
      "metadata": {
        "id": "qm1TRlRUBDE2"
      },
      "execution_count": null,
      "outputs": []
    },
    {
      "cell_type": "code",
      "source": [
        "shooting.columns=shooting.columns.droplevel()\n"
      ],
      "metadata": {
        "id": "42Yu1d-YBDE2"
      },
      "execution_count": null,
      "outputs": []
    },
    {
      "cell_type": "code",
      "source": [
        "team_data=matches[0].merge(shooting[[\"Date\",\"Sh\",\"SoT\",\"Dist\",\"FK\",\"PK\",\"PKatt\"]],on=\"Date\")\n",
        "team_data=team_data[team_data[\"Comp\"] == \"Premier League\"]\n",
        "team_data"
      ],
      "metadata": {
        "id": "WhmHhsx6BDE2"
      },
      "execution_count": null,
      "outputs": []
    },
    {
      "cell_type": "code",
      "execution_count": null,
      "metadata": {
        "id": "0XgRKa9OBDE2"
      },
      "outputs": [],
      "source": [
        "import requests\n",
        "standings_url=\"https://fbref.com/en/comps/9/2021-2022/2021-2022-Premier-League-Stats\"\n",
        "data=requests.get(standings_url)\n",
        "data.text\n",
        "from bs4 import BeautifulSoup\n",
        "soup=BeautifulSoup(data.text)\n",
        "standings_table=soup.select('table.stats_table')[0]\n",
        "links=standings_table.find_all('a')\n",
        "links=[l.get(\"href\") for l in links]\n",
        "links = [l for l in links if '/squads' in l]\n",
        "team_urls=[f\"https://fbref.com{l}\" for l in links]\n",
        "team_url=team_urls[5]\n",
        "data=requests.get(team_url)\n",
        "import pandas as pd\n",
        "matches=pd.read_html(data.text,match=\"Scores & Fixtures\")\n",
        "\n",
        "\n"
      ]
    },
    {
      "cell_type": "code",
      "source": [
        "soup=BeautifulSoup(data.text)\n",
        "links=soup.find_all('a')\n",
        "links=[l.get(\"href\") for l in links]\n",
        "links = [l for l in links if l and  'all_comps/shooting/' in l]\n",
        "data=requests.get(f\"https://fbref.com{links[0]}\")\n",
        "shooting =pd.read_html(data.text,match=\"Shooting\")[0]\n"
      ],
      "metadata": {
        "id": "fP6PoL-uBDE2"
      },
      "execution_count": null,
      "outputs": []
    },
    {
      "cell_type": "code",
      "source": [
        "shooting.columns=shooting.columns.droplevel()\n"
      ],
      "metadata": {
        "id": "6zhI-xMEBDE3"
      },
      "execution_count": null,
      "outputs": []
    },
    {
      "cell_type": "code",
      "source": [
        "team_data=matches[0].merge(shooting[[\"Date\",\"Sh\",\"SoT\",\"Dist\",\"FK\",\"PK\",\"PKatt\"]],on=\"Date\")\n",
        "team_data=team_data[team_data[\"Comp\"] == \"Premier League\"]\n",
        "team_data"
      ],
      "metadata": {
        "id": "3w1-0B0OBDE3"
      },
      "execution_count": null,
      "outputs": []
    },
    {
      "cell_type": "code",
      "execution_count": null,
      "metadata": {
        "id": "6Se8G8ZCBDE3"
      },
      "outputs": [],
      "source": [
        "import requests\n",
        "standings_url=\"https://fbref.com/en/comps/9/2021-2022/2021-2022-Premier-League-Stats\"\n",
        "data=requests.get(standings_url)\n",
        "data.text\n",
        "from bs4 import BeautifulSoup\n",
        "soup=BeautifulSoup(data.text)\n",
        "standings_table=soup.select('table.stats_table')[0]\n",
        "links=standings_table.find_all('a')\n",
        "links=[l.get(\"href\") for l in links]\n",
        "links = [l for l in links if '/squads' in l]\n",
        "team_urls=[f\"https://fbref.com{l}\" for l in links]\n",
        "team_url=team_urls[6]\n",
        "data=requests.get(team_url)\n",
        "import pandas as pd\n",
        "matches=pd.read_html(data.text,match=\"Scores & Fixtures\")\n",
        "\n",
        "\n"
      ]
    },
    {
      "cell_type": "code",
      "source": [
        "soup=BeautifulSoup(data.text)\n",
        "links=soup.find_all('a')\n",
        "links=[l.get(\"href\") for l in links]\n",
        "links = [l for l in links if l and  'all_comps/shooting/' in l]\n",
        "data=requests.get(f\"https://fbref.com{links[0]}\")\n",
        "shooting =pd.read_html(data.text,match=\"Shooting\")[0]\n"
      ],
      "metadata": {
        "id": "H4Us2CsTBDE4"
      },
      "execution_count": null,
      "outputs": []
    },
    {
      "cell_type": "code",
      "source": [
        "shooting.columns=shooting.columns.droplevel()\n"
      ],
      "metadata": {
        "id": "kUV7RLfMBDE4"
      },
      "execution_count": null,
      "outputs": []
    },
    {
      "cell_type": "code",
      "source": [
        "team_data=matches[0].merge(shooting[[\"Date\",\"Sh\",\"SoT\",\"Dist\",\"FK\",\"PK\",\"PKatt\"]],on=\"Date\")\n",
        "team_data=team_data[team_data[\"Comp\"] == \"Premier League\"]\n",
        "team_data"
      ],
      "metadata": {
        "id": "-FQWDKK8BDE4"
      },
      "execution_count": null,
      "outputs": []
    },
    {
      "cell_type": "code",
      "execution_count": null,
      "metadata": {
        "id": "lGUbYku_BDE4"
      },
      "outputs": [],
      "source": [
        "import requests\n",
        "standings_url=\"https://fbref.com/en/comps/9/2021-2022/2021-2022-Premier-League-Stats\"\n",
        "data=requests.get(standings_url)\n",
        "data.text\n",
        "from bs4 import BeautifulSoup\n",
        "soup=BeautifulSoup(data.text)\n",
        "standings_table=soup.select('table.stats_table')[0]\n",
        "links=standings_table.find_all('a')\n",
        "links=[l.get(\"href\") for l in links]\n",
        "links = [l for l in links if '/squads' in l]\n",
        "team_urls=[f\"https://fbref.com{l}\" for l in links]\n",
        "team_url=team_urls[7]\n",
        "data=requests.get(team_url)\n",
        "import pandas as pd\n",
        "matches=pd.read_html(data.text,match=\"Scores & Fixtures\")\n",
        "\n",
        "\n"
      ]
    },
    {
      "cell_type": "code",
      "source": [
        "soup=BeautifulSoup(data.text)\n",
        "links=soup.find_all('a')\n",
        "links=[l.get(\"href\") for l in links]\n",
        "links = [l for l in links if l and  'all_comps/shooting/' in l]\n",
        "data=requests.get(f\"https://fbref.com{links[0]}\")\n",
        "shooting =pd.read_html(data.text,match=\"Shooting\")[0]\n"
      ],
      "metadata": {
        "id": "Z0EfuvpBBDE4"
      },
      "execution_count": null,
      "outputs": []
    },
    {
      "cell_type": "code",
      "source": [
        "shooting.columns=shooting.columns.droplevel()\n"
      ],
      "metadata": {
        "id": "QuLcVdXQBDE4"
      },
      "execution_count": null,
      "outputs": []
    },
    {
      "cell_type": "code",
      "source": [
        "team_data=matches[0].merge(shooting[[\"Date\",\"Sh\",\"SoT\",\"Dist\",\"FK\",\"PK\",\"PKatt\"]],on=\"Date\")\n",
        "team_data=team_data[team_data[\"Comp\"] == \"Premier League\"]\n",
        "team_data"
      ],
      "metadata": {
        "id": "N-vjtHt7BDE5"
      },
      "execution_count": null,
      "outputs": []
    },
    {
      "cell_type": "code",
      "execution_count": null,
      "metadata": {
        "id": "qiY1N-iJBDE5"
      },
      "outputs": [],
      "source": [
        "import requests\n",
        "standings_url=\"https://fbref.com/en/comps/9/2021-2022/2021-2022-Premier-League-Stats\"\n",
        "data=requests.get(standings_url)\n",
        "data.text\n",
        "from bs4 import BeautifulSoup\n",
        "soup=BeautifulSoup(data.text)\n",
        "standings_table=soup.select('table.stats_table')[0]\n",
        "links=standings_table.find_all('a')\n",
        "links=[l.get(\"href\") for l in links]\n",
        "links = [l for l in links if '/squads' in l]\n",
        "team_urls=[f\"https://fbref.com{l}\" for l in links]\n",
        "team_url=team_urls[8]\n",
        "data=requests.get(team_url)\n",
        "import pandas as pd\n",
        "matches=pd.read_html(data.text,match=\"Scores & Fixtures\")\n",
        "\n",
        "\n"
      ]
    },
    {
      "cell_type": "code",
      "source": [
        "soup=BeautifulSoup(data.text)\n",
        "links=soup.find_all('a')\n",
        "links=[l.get(\"href\") for l in links]\n",
        "links = [l for l in links if l and  'all_comps/shooting/' in l]\n",
        "data=requests.get(f\"https://fbref.com{links[0]}\")\n",
        "shooting =pd.read_html(data.text,match=\"Shooting\")[0]\n"
      ],
      "metadata": {
        "id": "5OAeiSQPBDE5"
      },
      "execution_count": null,
      "outputs": []
    },
    {
      "cell_type": "code",
      "source": [
        "shooting.columns=shooting.columns.droplevel()\n"
      ],
      "metadata": {
        "id": "gGqID0uGBDE5"
      },
      "execution_count": null,
      "outputs": []
    },
    {
      "cell_type": "code",
      "source": [
        "team_data=matches[0].merge(shooting[[\"Date\",\"Sh\",\"SoT\",\"Dist\",\"FK\",\"PK\",\"PKatt\"]],on=\"Date\")\n",
        "team_data=team_data[team_data[\"Comp\"] == \"Premier League\"]\n",
        "team_data"
      ],
      "metadata": {
        "id": "I4JkoZ75BDE5"
      },
      "execution_count": null,
      "outputs": []
    },
    {
      "cell_type": "code",
      "execution_count": null,
      "metadata": {
        "id": "U_s8ktIYBDE5"
      },
      "outputs": [],
      "source": [
        "import requests\n",
        "standings_url=\"https://fbref.com/en/comps/9/2021-2022/2021-2022-Premier-League-Stats\"\n",
        "data=requests.get(standings_url)\n",
        "data.text\n",
        "from bs4 import BeautifulSoup\n",
        "soup=BeautifulSoup(data.text)\n",
        "standings_table=soup.select('table.stats_table')[0]\n",
        "links=standings_table.find_all('a')\n",
        "links=[l.get(\"href\") for l in links]\n",
        "links = [l for l in links if '/squads' in l]\n",
        "team_urls=[f\"https://fbref.com{l}\" for l in links]\n",
        "team_url=team_urls[9]\n",
        "data=requests.get(team_url)\n",
        "import pandas as pd\n",
        "matches=pd.read_html(data.text,match=\"Scores & Fixtures\")\n",
        "\n",
        "\n"
      ]
    },
    {
      "cell_type": "code",
      "source": [
        "soup=BeautifulSoup(data.text)\n",
        "links=soup.find_all('a')\n",
        "links=[l.get(\"href\") for l in links]\n",
        "links = [l for l in links if l and  'all_comps/shooting/' in l]\n",
        "data=requests.get(f\"https://fbref.com{links[0]}\")\n",
        "shooting =pd.read_html(data.text,match=\"Shooting\")[0]\n"
      ],
      "metadata": {
        "id": "R4vV18z0BDE6"
      },
      "execution_count": null,
      "outputs": []
    },
    {
      "cell_type": "code",
      "source": [
        "shooting.columns=shooting.columns.droplevel()\n"
      ],
      "metadata": {
        "id": "FZRbF7b2BDE8"
      },
      "execution_count": null,
      "outputs": []
    },
    {
      "cell_type": "code",
      "source": [
        "team_data=matches[0].merge(shooting[[\"Date\",\"Sh\",\"SoT\",\"Dist\",\"FK\",\"PK\",\"PKatt\"]],on=\"Date\")\n",
        "team_data=team_data[team_data[\"Comp\"] == \"Premier League\"]\n",
        "team_data"
      ],
      "metadata": {
        "id": "u0yIUtOuBDE8"
      },
      "execution_count": null,
      "outputs": []
    },
    {
      "cell_type": "code",
      "execution_count": null,
      "metadata": {
        "id": "LcEYv9uCBDE8"
      },
      "outputs": [],
      "source": [
        "import requests\n",
        "standings_url=\"https://fbref.com/en/comps/9/2021-2022/2021-2022-Premier-League-Stats\"\n",
        "data=requests.get(standings_url)\n",
        "data.text\n",
        "from bs4 import BeautifulSoup\n",
        "soup=BeautifulSoup(data.text)\n",
        "standings_table=soup.select('table.stats_table')[0]\n",
        "links=standings_table.find_all('a')\n",
        "links=[l.get(\"href\") for l in links]\n",
        "links = [l for l in links if '/squads' in l]\n",
        "team_urls=[f\"https://fbref.com{l}\" for l in links]\n",
        "team_url=team_urls[10]\n",
        "data=requests.get(team_url)\n",
        "import pandas as pd\n",
        "matches=pd.read_html(data.text,match=\"Scores & Fixtures\")\n",
        "\n",
        "\n"
      ]
    },
    {
      "cell_type": "code",
      "source": [
        "soup=BeautifulSoup(data.text)\n",
        "links=soup.find_all('a')\n",
        "links=[l.get(\"href\") for l in links]\n",
        "links = [l for l in links if l and  'all_comps/shooting/' in l]\n",
        "data=requests.get(f\"https://fbref.com{links[0]}\")\n",
        "shooting =pd.read_html(data.text,match=\"Shooting\")[0]\n"
      ],
      "metadata": {
        "id": "CjS2G3yIBDE8"
      },
      "execution_count": null,
      "outputs": []
    },
    {
      "cell_type": "code",
      "source": [
        "shooting.columns=shooting.columns.droplevel()\n"
      ],
      "metadata": {
        "colab": {
          "base_uri": "https://localhost:8080/",
          "height": 321
        },
        "id": "-YarDi23BDE8",
        "outputId": "7ffbed10-05c8-4d85-ef68-836e490a9d0c"
      },
      "execution_count": 130,
      "outputs": [
        {
          "output_type": "error",
          "ename": "ValueError",
          "evalue": "ignored",
          "traceback": [
            "\u001b[0;31m---------------------------------------------------------------------------\u001b[0m",
            "\u001b[0;31mValueError\u001b[0m                                Traceback (most recent call last)",
            "\u001b[0;32m<ipython-input-130-83db27dfafeb>\u001b[0m in \u001b[0;36m<cell line: 1>\u001b[0;34m()\u001b[0m\n\u001b[0;32m----> 1\u001b[0;31m \u001b[0mshooting\u001b[0m\u001b[0;34m.\u001b[0m\u001b[0mcolumns\u001b[0m\u001b[0;34m=\u001b[0m\u001b[0mshooting\u001b[0m\u001b[0;34m.\u001b[0m\u001b[0mcolumns\u001b[0m\u001b[0;34m.\u001b[0m\u001b[0mdroplevel\u001b[0m\u001b[0;34m(\u001b[0m\u001b[0;34m)\u001b[0m\u001b[0;34m\u001b[0m\u001b[0;34m\u001b[0m\u001b[0m\n\u001b[0m",
            "\u001b[0;32m/usr/local/lib/python3.10/dist-packages/pandas/core/indexes/base.py\u001b[0m in \u001b[0;36mdroplevel\u001b[0;34m(self, level)\u001b[0m\n\u001b[1;32m   2180\u001b[0m         \u001b[0mlevnums\u001b[0m \u001b[0;34m=\u001b[0m \u001b[0msorted\u001b[0m\u001b[0;34m(\u001b[0m\u001b[0mself\u001b[0m\u001b[0;34m.\u001b[0m\u001b[0m_get_level_number\u001b[0m\u001b[0;34m(\u001b[0m\u001b[0mlev\u001b[0m\u001b[0;34m)\u001b[0m \u001b[0;32mfor\u001b[0m \u001b[0mlev\u001b[0m \u001b[0;32min\u001b[0m \u001b[0mlevel\u001b[0m\u001b[0;34m)\u001b[0m\u001b[0;34m[\u001b[0m\u001b[0;34m:\u001b[0m\u001b[0;34m:\u001b[0m\u001b[0;34m-\u001b[0m\u001b[0;36m1\u001b[0m\u001b[0;34m]\u001b[0m\u001b[0;34m\u001b[0m\u001b[0;34m\u001b[0m\u001b[0m\n\u001b[1;32m   2181\u001b[0m \u001b[0;34m\u001b[0m\u001b[0m\n\u001b[0;32m-> 2182\u001b[0;31m         \u001b[0;32mreturn\u001b[0m \u001b[0mself\u001b[0m\u001b[0;34m.\u001b[0m\u001b[0m_drop_level_numbers\u001b[0m\u001b[0;34m(\u001b[0m\u001b[0mlevnums\u001b[0m\u001b[0;34m)\u001b[0m\u001b[0;34m\u001b[0m\u001b[0;34m\u001b[0m\u001b[0m\n\u001b[0m\u001b[1;32m   2183\u001b[0m \u001b[0;34m\u001b[0m\u001b[0m\n\u001b[1;32m   2184\u001b[0m     \u001b[0;34m@\u001b[0m\u001b[0mfinal\u001b[0m\u001b[0;34m\u001b[0m\u001b[0;34m\u001b[0m\u001b[0m\n",
            "\u001b[0;32m/usr/local/lib/python3.10/dist-packages/pandas/core/indexes/base.py\u001b[0m in \u001b[0;36m_drop_level_numbers\u001b[0;34m(self, levnums)\u001b[0m\n\u001b[1;32m   2191\u001b[0m             \u001b[0;32mreturn\u001b[0m \u001b[0mself\u001b[0m\u001b[0;34m\u001b[0m\u001b[0;34m\u001b[0m\u001b[0m\n\u001b[1;32m   2192\u001b[0m         \u001b[0;32mif\u001b[0m \u001b[0mlen\u001b[0m\u001b[0;34m(\u001b[0m\u001b[0mlevnums\u001b[0m\u001b[0;34m)\u001b[0m \u001b[0;34m>=\u001b[0m \u001b[0mself\u001b[0m\u001b[0;34m.\u001b[0m\u001b[0mnlevels\u001b[0m\u001b[0;34m:\u001b[0m\u001b[0;34m\u001b[0m\u001b[0;34m\u001b[0m\u001b[0m\n\u001b[0;32m-> 2193\u001b[0;31m             raise ValueError(\n\u001b[0m\u001b[1;32m   2194\u001b[0m                 \u001b[0;34mf\"Cannot remove {len(levnums)} levels from an index with \"\u001b[0m\u001b[0;34m\u001b[0m\u001b[0;34m\u001b[0m\u001b[0m\n\u001b[1;32m   2195\u001b[0m                 \u001b[0;34mf\"{self.nlevels} levels: at least one level must be left.\"\u001b[0m\u001b[0;34m\u001b[0m\u001b[0;34m\u001b[0m\u001b[0m\n",
            "\u001b[0;31mValueError\u001b[0m: Cannot remove 1 levels from an index with 1 levels: at least one level must be left."
          ]
        }
      ]
    },
    {
      "cell_type": "code",
      "source": [
        "team_data=matches[0].merge(shooting[[\"Date\",\"Sh\",\"SoT\",\"Dist\",\"FK\",\"PK\",\"PKatt\"]],on=\"Date\")\n",
        "team_data=team_data[team_data[\"Comp\"] == \"Premier League\"]\n",
        "team_data"
      ],
      "metadata": {
        "id": "ZcJ014ZEBDE9"
      },
      "execution_count": null,
      "outputs": []
    },
    {
      "cell_type": "code",
      "execution_count": null,
      "metadata": {
        "id": "z37aS3FVBDE9"
      },
      "outputs": [],
      "source": [
        "import requests\n",
        "standings_url=\"https://fbref.com/en/comps/9/2021-2022/2021-2022-Premier-League-Stats\"\n",
        "data=requests.get(standings_url)\n",
        "data.text\n",
        "from bs4 import BeautifulSoup\n",
        "soup=BeautifulSoup(data.text)\n",
        "standings_table=soup.select('table.stats_table')[0]\n",
        "links=standings_table.find_all('a')\n",
        "links=[l.get(\"href\") for l in links]\n",
        "links = [l for l in links if '/squads' in l]\n",
        "team_urls=[f\"https://fbref.com{l}\" for l in links]\n",
        "team_url=team_urls[11]\n",
        "data=requests.get(team_url)\n",
        "import pandas as pd\n",
        "matches=pd.read_html(data.text,match=\"Scores & Fixtures\")\n",
        "\n",
        "\n"
      ]
    },
    {
      "cell_type": "code",
      "source": [
        "soup=BeautifulSoup(data.text)\n",
        "links=soup.find_all('a')\n",
        "links=[l.get(\"href\") for l in links]\n",
        "links = [l for l in links if l and  'all_comps/shooting/' in l]\n",
        "data=requests.get(f\"https://fbref.com{links[0]}\")\n",
        "shooting =pd.read_html(data.text,match=\"Shooting\")[0]\n"
      ],
      "metadata": {
        "id": "x-5HPgNzBDE9"
      },
      "execution_count": null,
      "outputs": []
    },
    {
      "cell_type": "code",
      "source": [
        "shooting.columns=shooting.columns.droplevel()\n"
      ],
      "metadata": {
        "id": "aPnrHmvMBDE9"
      },
      "execution_count": null,
      "outputs": []
    },
    {
      "cell_type": "code",
      "source": [
        "team_data=matches[0].merge(shooting[[\"Date\",\"Sh\",\"SoT\",\"Dist\",\"FK\",\"PK\",\"PKatt\"]],on=\"Date\")\n",
        "team_data=team_data[team_data[\"Comp\"] == \"Premier League\"]\n",
        "team_data"
      ],
      "metadata": {
        "id": "0HEoF-JMBDE9"
      },
      "execution_count": null,
      "outputs": []
    },
    {
      "cell_type": "code",
      "execution_count": null,
      "metadata": {
        "id": "YJSG0bXgBDE-"
      },
      "outputs": [],
      "source": [
        "import requests\n",
        "standings_url=\"https://fbref.com/en/comps/9/2021-2022/2021-2022-Premier-League-Stats\"\n",
        "data=requests.get(standings_url)\n",
        "data.text\n",
        "from bs4 import BeautifulSoup\n",
        "soup=BeautifulSoup(data.text)\n",
        "standings_table=soup.select('table.stats_table')[0]\n",
        "links=standings_table.find_all('a')\n",
        "links=[l.get(\"href\") for l in links]\n",
        "links = [l for l in links if '/squads' in l]\n",
        "team_urls=[f\"https://fbref.com{l}\" for l in links]\n",
        "team_url=team_urls[12]\n",
        "data=requests.get(team_url)\n",
        "import pandas as pd\n",
        "matches=pd.read_html(data.text,match=\"Scores & Fixtures\")\n",
        "\n",
        "\n"
      ]
    },
    {
      "cell_type": "code",
      "source": [
        "soup=BeautifulSoup(data.text)\n",
        "links=soup.find_all('a')\n",
        "links=[l.get(\"href\") for l in links]\n",
        "links = [l for l in links if l and  'all_comps/shooting/' in l]\n",
        "data=requests.get(f\"https://fbref.com{links[0]}\")\n",
        "shooting =pd.read_html(data.text,match=\"Shooting\")[0]\n"
      ],
      "metadata": {
        "id": "myfYUZr8BDE-"
      },
      "execution_count": null,
      "outputs": []
    },
    {
      "cell_type": "code",
      "source": [
        "shooting.columns=shooting.columns.droplevel()\n"
      ],
      "metadata": {
        "id": "VrCMY_pKBDE-"
      },
      "execution_count": null,
      "outputs": []
    },
    {
      "cell_type": "code",
      "source": [
        "team_data=matches[0].merge(shooting[[\"Date\",\"Sh\",\"SoT\",\"Dist\",\"FK\",\"PK\",\"PKatt\"]],on=\"Date\")\n",
        "team_data=team_data[team_data[\"Comp\"] == \"Premier League\"]\n",
        "team_data"
      ],
      "metadata": {
        "id": "gbcNkJv-BDE-"
      },
      "execution_count": null,
      "outputs": []
    },
    {
      "cell_type": "code",
      "execution_count": null,
      "metadata": {
        "id": "dcqvTFvdBDE-"
      },
      "outputs": [],
      "source": [
        "import requests\n",
        "standings_url=\"https://fbref.com/en/comps/9/2021-2022/2021-2022-Premier-League-Stats\"\n",
        "data=requests.get(standings_url)\n",
        "data.text\n",
        "from bs4 import BeautifulSoup\n",
        "soup=BeautifulSoup(data.text)\n",
        "standings_table=soup.select('table.stats_table')[0]\n",
        "links=standings_table.find_all('a')\n",
        "links=[l.get(\"href\") for l in links]\n",
        "links = [l for l in links if '/squads' in l]\n",
        "team_urls=[f\"https://fbref.com{l}\" for l in links]\n",
        "team_url=team_urls[13]\n",
        "data=requests.get(team_url)\n",
        "import pandas as pd\n",
        "matches=pd.read_html(data.text,match=\"Scores & Fixtures\")\n",
        "\n",
        "\n"
      ]
    },
    {
      "cell_type": "code",
      "source": [
        "soup=BeautifulSoup(data.text)\n",
        "links=soup.find_all('a')\n",
        "links=[l.get(\"href\") for l in links]\n",
        "links = [l for l in links if l and  'all_comps/shooting/' in l]\n",
        "data=requests.get(f\"https://fbref.com{links[0]}\")\n",
        "shooting =pd.read_html(data.text,match=\"Shooting\")[0]\n"
      ],
      "metadata": {
        "id": "VPPYV-n2BDE_"
      },
      "execution_count": null,
      "outputs": []
    },
    {
      "cell_type": "code",
      "source": [
        "shooting.columns=shooting.columns.droplevel()\n"
      ],
      "metadata": {
        "id": "jZ6_8WaOBDE_"
      },
      "execution_count": null,
      "outputs": []
    },
    {
      "cell_type": "code",
      "source": [
        "team_data=matches[0].merge(shooting[[\"Date\",\"Sh\",\"SoT\",\"Dist\",\"FK\",\"PK\",\"PKatt\"]],on=\"Date\")\n",
        "team_data=team_data[team_data[\"Comp\"] == \"Premier League\"]\n",
        "team_data"
      ],
      "metadata": {
        "id": "yfmYYO6jBDE_"
      },
      "execution_count": null,
      "outputs": []
    },
    {
      "cell_type": "code",
      "execution_count": null,
      "metadata": {
        "id": "HzQ07E_xBDE_"
      },
      "outputs": [],
      "source": [
        "import requests\n",
        "standings_url=\"https://fbref.com/en/comps/9/2021-2022/2021-2022-Premier-League-Stats\"\n",
        "data=requests.get(standings_url)\n",
        "data.text\n",
        "from bs4 import BeautifulSoup\n",
        "soup=BeautifulSoup(data.text)\n",
        "standings_table=soup.select('table.stats_table')[0]\n",
        "links=standings_table.find_all('a')\n",
        "links=[l.get(\"href\") for l in links]\n",
        "links = [l for l in links if '/squads' in l]\n",
        "team_urls=[f\"https://fbref.com{l}\" for l in links]\n",
        "team_url=team_urls[14]\n",
        "data=requests.get(team_url)\n",
        "import pandas as pd\n",
        "matches=pd.read_html(data.text,match=\"Scores & Fixtures\")\n",
        "\n",
        "\n"
      ]
    },
    {
      "cell_type": "code",
      "source": [
        "soup=BeautifulSoup(data.text)\n",
        "links=soup.find_all('a')\n",
        "links=[l.get(\"href\") for l in links]\n",
        "links = [l for l in links if l and  'all_comps/shooting/' in l]\n",
        "data=requests.get(f\"https://fbref.com{links[0]}\")\n",
        "shooting =pd.read_html(data.text,match=\"Shooting\")[0]\n"
      ],
      "metadata": {
        "id": "TpOfquB9BDE_"
      },
      "execution_count": null,
      "outputs": []
    },
    {
      "cell_type": "code",
      "source": [
        "shooting.columns=shooting.columns.droplevel()\n"
      ],
      "metadata": {
        "id": "VO01cgXLBDE_"
      },
      "execution_count": null,
      "outputs": []
    },
    {
      "cell_type": "code",
      "source": [
        "team_data=matches[0].merge(shooting[[\"Date\",\"Sh\",\"SoT\",\"Dist\",\"FK\",\"PK\",\"PKatt\"]],on=\"Date\")\n",
        "team_data=team_data[team_data[\"Comp\"] == \"Premier League\"]\n",
        "team_data"
      ],
      "metadata": {
        "id": "Wuuhr5f3BDFA"
      },
      "execution_count": null,
      "outputs": []
    },
    {
      "cell_type": "code",
      "execution_count": null,
      "metadata": {
        "id": "Y719G_iBBDFA"
      },
      "outputs": [],
      "source": [
        "import requests\n",
        "standings_url=\"https://fbref.com/en/comps/9/2021-2022/2021-2022-Premier-League-Stats\"\n",
        "data=requests.get(standings_url)\n",
        "data.text\n",
        "from bs4 import BeautifulSoup\n",
        "soup=BeautifulSoup(data.text)\n",
        "standings_table=soup.select('table.stats_table')[0]\n",
        "links=standings_table.find_all('a')\n",
        "links=[l.get(\"href\") for l in links]\n",
        "links = [l for l in links if '/squads' in l]\n",
        "team_urls=[f\"https://fbref.com{l}\" for l in links]\n",
        "team_url=team_urls[15]\n",
        "data=requests.get(team_url)\n",
        "import pandas as pd\n",
        "matches=pd.read_html(data.text,match=\"Scores & Fixtures\")\n",
        "\n",
        "\n"
      ]
    },
    {
      "cell_type": "code",
      "source": [
        "soup=BeautifulSoup(data.text)\n",
        "links=soup.find_all('a')\n",
        "links=[l.get(\"href\") for l in links]\n",
        "links = [l for l in links if l and  'all_comps/shooting/' in l]\n",
        "data=requests.get(f\"https://fbref.com{links[0]}\")\n",
        "shooting =pd.read_html(data.text,match=\"Shooting\")[0]\n"
      ],
      "metadata": {
        "id": "v_Uey93KBDFA"
      },
      "execution_count": null,
      "outputs": []
    },
    {
      "cell_type": "code",
      "source": [
        "shooting.columns=shooting.columns.droplevel()\n"
      ],
      "metadata": {
        "id": "TS5lc94sBDFA"
      },
      "execution_count": null,
      "outputs": []
    },
    {
      "cell_type": "code",
      "source": [
        "team_data=matches[0].merge(shooting[[\"Date\",\"Sh\",\"SoT\",\"Dist\",\"FK\",\"PK\",\"PKatt\"]],on=\"Date\")\n",
        "team_data=team_data[team_data[\"Comp\"] == \"Premier League\"]\n",
        "team_data"
      ],
      "metadata": {
        "id": "M5y_hL1HBDFA"
      },
      "execution_count": null,
      "outputs": []
    },
    {
      "cell_type": "code",
      "execution_count": null,
      "metadata": {
        "id": "-HBF1T2pBDFA"
      },
      "outputs": [],
      "source": [
        "import requests\n",
        "standings_url=\"https://fbref.com/en/comps/9/2021-2022/2021-2022-Premier-League-Stats\"\n",
        "data=requests.get(standings_url)\n",
        "data.text\n",
        "from bs4 import BeautifulSoup\n",
        "soup=BeautifulSoup(data.text)\n",
        "standings_table=soup.select('table.stats_table')[0]\n",
        "links=standings_table.find_all('a')\n",
        "links=[l.get(\"href\") for l in links]\n",
        "links = [l for l in links if '/squads' in l]\n",
        "team_urls=[f\"https://fbref.com{l}\" for l in links]\n",
        "team_url=team_urls[16]\n",
        "data=requests.get(team_url)\n",
        "import pandas as pd\n",
        "matches=pd.read_html(data.text,match=\"Scores & Fixtures\")\n",
        "\n",
        "\n"
      ]
    },
    {
      "cell_type": "code",
      "source": [
        "soup=BeautifulSoup(data.text)\n",
        "links=soup.find_all('a')\n",
        "links=[l.get(\"href\") for l in links]\n",
        "links = [l for l in links if l and  'all_comps/shooting/' in l]\n",
        "data=requests.get(f\"https://fbref.com{links[0]}\")\n",
        "shooting =pd.read_html(data.text,match=\"Shooting\")[0]\n"
      ],
      "metadata": {
        "id": "N9ilIYZOBDFB"
      },
      "execution_count": null,
      "outputs": []
    },
    {
      "cell_type": "code",
      "source": [
        "shooting.columns=shooting.columns.droplevel()\n"
      ],
      "metadata": {
        "id": "0E-JSElNBDFB"
      },
      "execution_count": null,
      "outputs": []
    },
    {
      "cell_type": "code",
      "source": [
        "team_data=matches[0].merge(shooting[[\"Date\",\"Sh\",\"SoT\",\"Dist\",\"FK\",\"PK\",\"PKatt\"]],on=\"Date\")\n",
        "team_data=team_data[team_data[\"Comp\"] == \"Premier League\"]\n",
        "team_data"
      ],
      "metadata": {
        "id": "u_Ho_NSrBDFB"
      },
      "execution_count": null,
      "outputs": []
    },
    {
      "cell_type": "code",
      "execution_count": null,
      "metadata": {
        "id": "7dJsmW_MBDFB"
      },
      "outputs": [],
      "source": [
        "import requests\n",
        "standings_url=\"https://fbref.com/en/comps/9/2021-2022/2021-2022-Premier-League-Stats\"\n",
        "data=requests.get(standings_url)\n",
        "data.text\n",
        "from bs4 import BeautifulSoup\n",
        "soup=BeautifulSoup(data.text)\n",
        "standings_table=soup.select('table.stats_table')[0]\n",
        "links=standings_table.find_all('a')\n",
        "links=[l.get(\"href\") for l in links]\n",
        "links = [l for l in links if '/squads' in l]\n",
        "team_urls=[f\"https://fbref.com{l}\" for l in links]\n",
        "team_url=team_urls[17]\n",
        "data=requests.get(team_url)\n",
        "import pandas as pd\n",
        "matches=pd.read_html(data.text,match=\"Scores & Fixtures\")\n",
        "\n",
        "\n"
      ]
    },
    {
      "cell_type": "code",
      "source": [
        "soup=BeautifulSoup(data.text)\n",
        "links=soup.find_all('a')\n",
        "links=[l.get(\"href\") for l in links]\n",
        "links = [l for l in links if l and  'all_comps/shooting/' in l]\n",
        "data=requests.get(f\"https://fbref.com{links[0]}\")\n",
        "shooting =pd.read_html(data.text,match=\"Shooting\")[0]\n"
      ],
      "metadata": {
        "id": "SwGgUG5zBDFB"
      },
      "execution_count": null,
      "outputs": []
    },
    {
      "cell_type": "code",
      "source": [
        "shooting.columns=shooting.columns.droplevel()\n"
      ],
      "metadata": {
        "id": "P47xQJMtBDFB"
      },
      "execution_count": null,
      "outputs": []
    },
    {
      "cell_type": "code",
      "source": [
        "team_data=matches[0].merge(shooting[[\"Date\",\"Sh\",\"SoT\",\"Dist\",\"FK\",\"PK\",\"PKatt\"]],on=\"Date\")\n",
        "team_data=team_data[team_data[\"Comp\"] == \"Premier League\"]\n",
        "team_data"
      ],
      "metadata": {
        "id": "o1O9wpinBDFB"
      },
      "execution_count": null,
      "outputs": []
    },
    {
      "cell_type": "code",
      "execution_count": null,
      "metadata": {
        "id": "llVkfhSuBDFC"
      },
      "outputs": [],
      "source": [
        "import requests\n",
        "standings_url=\"https://fbref.com/en/comps/9/2021-2022/2021-2022-Premier-League-Stats\"\n",
        "data=requests.get(standings_url)\n",
        "data.text\n",
        "from bs4 import BeautifulSoup\n",
        "soup=BeautifulSoup(data.text)\n",
        "standings_table=soup.select('table.stats_table')[0]\n",
        "links=standings_table.find_all('a')\n",
        "links=[l.get(\"href\") for l in links]\n",
        "links = [l for l in links if '/squads' in l]\n",
        "team_urls=[f\"https://fbref.com{l}\" for l in links]\n",
        "team_url=team_urls[18]\n",
        "data=requests.get(team_url)\n",
        "import pandas as pd\n",
        "matches=pd.read_html(data.text,match=\"Scores & Fixtures\")\n",
        "\n",
        "\n"
      ]
    },
    {
      "cell_type": "code",
      "source": [
        "soup=BeautifulSoup(data.text)\n",
        "links=soup.find_all('a')\n",
        "links=[l.get(\"href\") for l in links]\n",
        "links = [l for l in links if l and  'all_comps/shooting/' in l]\n",
        "data=requests.get(f\"https://fbref.com{links[0]}\")\n",
        "shooting =pd.read_html(data.text,match=\"Shooting\")[0]\n"
      ],
      "metadata": {
        "id": "9f9Ye28hBDFC"
      },
      "execution_count": null,
      "outputs": []
    },
    {
      "cell_type": "code",
      "source": [
        "shooting.columns=shooting.columns.droplevel()\n"
      ],
      "metadata": {
        "id": "MoPG42hBBDFC"
      },
      "execution_count": null,
      "outputs": []
    },
    {
      "cell_type": "code",
      "source": [
        "team_data=matches[0].merge(shooting[[\"Date\",\"Sh\",\"SoT\",\"Dist\",\"FK\",\"PK\",\"PKatt\"]],on=\"Date\")\n",
        "team_data=team_data[team_data[\"Comp\"] == \"Premier League\"]\n",
        "team_data"
      ],
      "metadata": {
        "id": "n10PuhPaBDFC"
      },
      "execution_count": null,
      "outputs": []
    },
    {
      "cell_type": "code",
      "source": [],
      "metadata": {
        "id": "IAvdjL1hBDFC"
      },
      "execution_count": null,
      "outputs": []
    },
    {
      "cell_type": "code",
      "execution_count": null,
      "metadata": {
        "id": "3mTHueR7BDFC"
      },
      "outputs": [],
      "source": [
        "import requests\n",
        "standings_url=\"https://fbref.com/en/comps/9/2021-2022/2021-2022-Premier-League-Stats\"\n",
        "data=requests.get(standings_url)\n",
        "data.text\n",
        "from bs4 import BeautifulSoup\n",
        "soup=BeautifulSoup(data.text)\n",
        "standings_table=soup.select('table.stats_table')[0]\n",
        "links=standings_table.find_all('a')\n",
        "links=[l.get(\"href\") for l in links]\n",
        "links = [l for l in links if '/squads' in l]\n",
        "team_urls=[f\"https://fbref.com{l}\" for l in links]\n",
        "team_url=team_urls[19]\n",
        "data=requests.get(team_url)\n",
        "import pandas as pd\n",
        "matches=pd.read_html(data.text,match=\"Scores & Fixtures\")\n",
        "\n",
        "\n"
      ]
    },
    {
      "cell_type": "code",
      "source": [
        "soup=BeautifulSoup(data.text)\n",
        "links=soup.find_all('a')\n",
        "links=[l.get(\"href\") for l in links]\n",
        "links = [l for l in links if l and  'all_comps/shooting/' in l]\n",
        "data=requests.get(f\"https://fbref.com{links[0]}\")\n",
        "shooting =pd.read_html(data.text,match=\"Shooting\")[0]\n"
      ],
      "metadata": {
        "id": "MJszYZ4_BDFC"
      },
      "execution_count": null,
      "outputs": []
    },
    {
      "cell_type": "code",
      "source": [
        "shooting.columns=shooting.columns.droplevel()\n"
      ],
      "metadata": {
        "id": "vC8pi_mZBDFD"
      },
      "execution_count": null,
      "outputs": []
    },
    {
      "cell_type": "code",
      "source": [
        "team_data=matches[0].merge(shooting[[\"Date\",\"Sh\",\"SoT\",\"Dist\",\"FK\",\"PK\",\"PKatt\"]],on=\"Date\")\n",
        "team_data=team_data[team_data[\"Comp\"] == \"Premier League\"]\n",
        "team_data"
      ],
      "metadata": {
        "id": "6xqB79TUBDFD"
      },
      "execution_count": null,
      "outputs": []
    },
    {
      "cell_type": "code",
      "execution_count": null,
      "metadata": {
        "id": "qBKiGMInBYLE"
      },
      "outputs": [],
      "source": [
        "import requests\n",
        "standings_url=\"https://fbref.com/en/comps/9/2022-2023/2022-2023-Premier-League-Stats\"\n",
        "data=requests.get(standings_url)\n",
        "data.text\n",
        "from bs4 import BeautifulSoup\n",
        "soup=BeautifulSoup(data.text)\n",
        "standings_table=soup.select('table.stats_table')[0]\n",
        "links=standings_table.find_all('a')\n",
        "links=[l.get(\"href\") for l in links]\n",
        "links = [l for l in links if '/squads' in l]\n",
        "team_urls=[f\"https://fbref.com{l}\" for l in links]\n",
        "team_url=team_urls[0]\n",
        "data=requests.get(team_url)\n",
        "import pandas as pd\n",
        "matches=pd.read_html(data.text,match=\"Scores & Fixtures\")\n",
        "\n",
        "\n"
      ]
    },
    {
      "cell_type": "code",
      "source": [],
      "metadata": {
        "id": "vrWQZ82kBYLU"
      },
      "execution_count": null,
      "outputs": []
    },
    {
      "cell_type": "code",
      "source": [
        "soup=BeautifulSoup(data.text)\n",
        "links=soup.find_all('a')\n",
        "links=[l.get(\"href\") for l in links]\n",
        "links = [l for l in links if l and  'all_comps/shooting/' in l]\n",
        "data=requests.get(f\"https://fbref.com{links[0]}\")\n",
        "shooting =pd.read_html(data.text,match=\"Shooting\")[0]\n"
      ],
      "metadata": {
        "id": "3i1f6iVLBYLV"
      },
      "execution_count": null,
      "outputs": []
    },
    {
      "cell_type": "code",
      "source": [
        "shooting.columns=shooting.columns.droplevel()"
      ],
      "metadata": {
        "id": "5llMSOjUBYLV"
      },
      "execution_count": null,
      "outputs": []
    },
    {
      "cell_type": "code",
      "source": [
        "team_data=matches[0].merge(shooting[[\"Date\",\"Sh\",\"SoT\",\"Dist\",\"FK\",\"PK\",\"PKatt\"]],on=\"Date\")\n",
        "team_data=team_data[team_data[\"Comp\"] == \"Premier League\"]\n",
        "team_data"
      ],
      "metadata": {
        "id": "HK6AgxJoBYLV"
      },
      "execution_count": null,
      "outputs": []
    },
    {
      "cell_type": "code",
      "execution_count": null,
      "metadata": {
        "id": "nvZEwSaYBYLV"
      },
      "outputs": [],
      "source": [
        "standings_url=\"https://fbref.com/en/comps/9/2022-2023/2022-2023-Premier-League-Stats\"\n",
        "data=requests.get(standings_url)\n",
        "data.text\n",
        "from bs4 import BeautifulSoup\n",
        "soup=BeautifulSoup(data.text)\n",
        "standings_table=soup.select('table.stats_table')[0]\n",
        "links=standings_table.find_all('a')\n",
        "links=[l.get(\"href\") for l in links]\n",
        "links = [l for l in links if '/squads' in l]\n",
        "team_urls=[f\"https://fbref.com{l}\" for l in links]\n",
        "team_url=team_urls[1]\n",
        "data=requests.get(team_url)\n",
        "import pandas as pd\n",
        "matches=pd.read_html(data.text,match=\"Scores & Fixtures\")\n",
        "\n",
        "\n"
      ]
    },
    {
      "cell_type": "code",
      "source": [
        "soup=BeautifulSoup(data.text)\n",
        "links=soup.find_all('a')\n",
        "links=[l.get(\"href\") for l in links]\n",
        "links = [l for l in links if l and  'all_comps/shooting/' in l]\n",
        "data=requests.get(f\"https://fbref.com{links[0]}\")\n",
        "shooting =pd.read_html(data.text,match=\"Shooting\")[0]\n"
      ],
      "metadata": {
        "id": "ynGMlFQ3BYLW"
      },
      "execution_count": null,
      "outputs": []
    },
    {
      "cell_type": "code",
      "source": [
        "shooting.columns=shooting.columns.droplevel()\n"
      ],
      "metadata": {
        "id": "pKb2LoPFBYLW"
      },
      "execution_count": null,
      "outputs": []
    },
    {
      "cell_type": "code",
      "source": [
        "team1_data=matches[0].merge(shooting[[\"Date\",\"Sh\",\"SoT\",\"Dist\",\"FK\",\"PK\",\"PKatt\"]],on=\"Date\")\n",
        "team1_data=team1_data[team1_data[\"Comp\"] == \"Premier League\"]\n",
        "team1_data"
      ],
      "metadata": {
        "id": "x3OJa11LBYLW"
      },
      "execution_count": null,
      "outputs": []
    },
    {
      "cell_type": "code",
      "execution_count": null,
      "metadata": {
        "id": "12cJJxYVBYLW"
      },
      "outputs": [],
      "source": [
        "import requests\n",
        "standings_url=\"https://fbref.com/en/comps/9/2022-2023/2022-2023-Premier-League-Stats\"\n",
        "data=requests.get(standings_url)\n",
        "data.text\n",
        "from bs4 import BeautifulSoup\n",
        "soup=BeautifulSoup(data.text)\n",
        "standings_table=soup.select('table.stats_table')[0]\n",
        "links=standings_table.find_all('a')\n",
        "links=[l.get(\"href\") for l in links]\n",
        "links = [l for l in links if '/squads' in l]\n",
        "team_urls=[f\"https://fbref.com{l}\" for l in links]\n",
        "team_url=team_urls[2]\n",
        "data=requests.get(team_url)\n",
        "import pandas as pd\n",
        "matches=pd.read_html(data.text,match=\"Scores & Fixtures\")\n",
        "\n",
        "\n"
      ]
    },
    {
      "cell_type": "code",
      "source": [
        "soup=BeautifulSoup(data.text)\n",
        "links=soup.find_all('a')\n",
        "links=[l.get(\"href\") for l in links]\n",
        "links = [l for l in links if l and  'all_comps/shooting/' in l]\n",
        "data=requests.get(f\"https://fbref.com{links[0]}\")\n",
        "shooting =pd.read_html(data.text,match=\"Shooting\")[0]\n"
      ],
      "metadata": {
        "id": "zItuHM_7BYLX"
      },
      "execution_count": null,
      "outputs": []
    },
    {
      "cell_type": "code",
      "source": [
        "shooting.columns=shooting.columns.droplevel()\n"
      ],
      "metadata": {
        "id": "M2a4y8ZnBYLX"
      },
      "execution_count": null,
      "outputs": []
    },
    {
      "cell_type": "code",
      "source": [
        "team2_data=matches[0].merge(shooting[[\"Date\",\"Sh\",\"SoT\",\"Dist\",\"FK\",\"PK\",\"PKatt\"]],on=\"Date\")\n",
        "team2_data=team2_data[team2_data[\"Comp\"] == \"Premier League\"]\n",
        "team2_data"
      ],
      "metadata": {
        "id": "ra_zb1eEBYLX"
      },
      "execution_count": null,
      "outputs": []
    },
    {
      "cell_type": "code",
      "execution_count": null,
      "metadata": {
        "id": "ZlPdgNxzBYLX"
      },
      "outputs": [],
      "source": [
        "import requests\n",
        "standings_url=\"https://fbref.com/en/comps/9/2022-2023/2022-2023-Premier-League-Stats\"\n",
        "data=requests.get(standings_url)\n",
        "data.text\n",
        "from bs4 import BeautifulSoup\n",
        "soup=BeautifulSoup(data.text)\n",
        "standings_table=soup.select('table.stats_table')[0]\n",
        "links=standings_table.find_all('a')\n",
        "links=[l.get(\"href\") for l in links]\n",
        "links = [l for l in links if '/squads' in l]\n",
        "team_urls=[f\"https://fbref.com{l}\" for l in links]\n",
        "team_url=team_urls[3]\n",
        "data=requests.get(team_url)\n",
        "import pandas as pd\n",
        "matches=pd.read_html(data.text,match=\"Scores & Fixtures\")\n",
        "\n",
        "\n"
      ]
    },
    {
      "cell_type": "code",
      "source": [
        "soup=BeautifulSoup(data.text)\n",
        "links=soup.find_all('a')\n",
        "links=[l.get(\"href\") for l in links]\n",
        "links = [l for l in links if l and  'all_comps/shooting/' in l]\n",
        "data=requests.get(f\"https://fbref.com{links[0]}\")\n",
        "shooting =pd.read_html(data.text,match=\"Shooting\")[0]\n"
      ],
      "metadata": {
        "id": "A9PNmYBBBYLY"
      },
      "execution_count": null,
      "outputs": []
    },
    {
      "cell_type": "code",
      "source": [
        "shooting.columns=shooting.columns.droplevel()\n"
      ],
      "metadata": {
        "id": "C56IJ4RNBYLY"
      },
      "execution_count": null,
      "outputs": []
    },
    {
      "cell_type": "code",
      "source": [
        "team_data=matches[0].merge(shooting[[\"Date\",\"Sh\",\"SoT\",\"Dist\",\"FK\",\"PK\",\"PKatt\"]],on=\"Date\")\n",
        "team_data=team_data[team_data[\"Comp\"] == \"Premier League\"]\n",
        "team_data"
      ],
      "metadata": {
        "id": "vEEvoB-LBYLY"
      },
      "execution_count": null,
      "outputs": []
    },
    {
      "cell_type": "code",
      "execution_count": null,
      "metadata": {
        "id": "gg2Z2sxjBYLY"
      },
      "outputs": [],
      "source": [
        "import requests\n",
        "standings_url=\"https://fbref.com/en/comps/9/2022-2023/2022-2023-Premier-League-Stats\"\n",
        "data=requests.get(standings_url)\n",
        "data.text\n",
        "from bs4 import BeautifulSoup\n",
        "soup=BeautifulSoup(data.text)\n",
        "standings_table=soup.select('table.stats_table')[0]\n",
        "links=standings_table.find_all('a')\n",
        "links=[l.get(\"href\") for l in links]\n",
        "links = [l for l in links if '/squads' in l]\n",
        "team_urls=[f\"https://fbref.com{l}\" for l in links]\n",
        "team_url=team_urls[4]\n",
        "data=requests.get(team_url)\n",
        "import pandas as pd\n",
        "matches=pd.read_html(data.text,match=\"Scores & Fixtures\")\n",
        "\n",
        "\n"
      ]
    },
    {
      "cell_type": "code",
      "source": [
        "soup=BeautifulSoup(data.text)\n",
        "links=soup.find_all('a')\n",
        "links=[l.get(\"href\") for l in links]\n",
        "links = [l for l in links if l and  'all_comps/shooting/' in l]\n",
        "data=requests.get(f\"https://fbref.com{links[0]}\")\n",
        "shooting =pd.read_html(data.text,match=\"Shooting\")[0]\n"
      ],
      "metadata": {
        "id": "b6e3aGvLBYLY"
      },
      "execution_count": null,
      "outputs": []
    },
    {
      "cell_type": "code",
      "source": [
        "shooting.columns=shooting.columns.droplevel()\n"
      ],
      "metadata": {
        "id": "MxqU5_X2BYLY"
      },
      "execution_count": null,
      "outputs": []
    },
    {
      "cell_type": "code",
      "source": [
        "team_data=matches[0].merge(shooting[[\"Date\",\"Sh\",\"SoT\",\"Dist\",\"FK\",\"PK\",\"PKatt\"]],on=\"Date\")\n",
        "team_data=team_data[team_data[\"Comp\"] == \"Premier League\"]\n",
        "team_data"
      ],
      "metadata": {
        "id": "07OCtlJsBYLZ"
      },
      "execution_count": null,
      "outputs": []
    },
    {
      "cell_type": "code",
      "execution_count": null,
      "metadata": {
        "id": "3_uRDsoRBYLZ"
      },
      "outputs": [],
      "source": [
        "import requests\n",
        "standings_url=\"https://fbref.com/en/comps/9/2022-2023/2022-2023-Premier-League-Stats\"\n",
        "data=requests.get(standings_url)\n",
        "data.text\n",
        "from bs4 import BeautifulSoup\n",
        "soup=BeautifulSoup(data.text)\n",
        "standings_table=soup.select('table.stats_table')[0]\n",
        "links=standings_table.find_all('a')\n",
        "links=[l.get(\"href\") for l in links]\n",
        "links = [l for l in links if '/squads' in l]\n",
        "team_urls=[f\"https://fbref.com{l}\" for l in links]\n",
        "team_url=team_urls[5]\n",
        "data=requests.get(team_url)\n",
        "import pandas as pd\n",
        "matches=pd.read_html(data.text,match=\"Scores & Fixtures\")\n",
        "\n",
        "\n"
      ]
    },
    {
      "cell_type": "code",
      "source": [
        "soup=BeautifulSoup(data.text)\n",
        "links=soup.find_all('a')\n",
        "links=[l.get(\"href\") for l in links]\n",
        "links = [l for l in links if l and  'all_comps/shooting/' in l]\n",
        "data=requests.get(f\"https://fbref.com{links[0]}\")\n",
        "shooting =pd.read_html(data.text,match=\"Shooting\")[0]\n"
      ],
      "metadata": {
        "id": "DCexyUKiBYLZ"
      },
      "execution_count": null,
      "outputs": []
    },
    {
      "cell_type": "code",
      "source": [
        "shooting.columns=shooting.columns.droplevel()\n"
      ],
      "metadata": {
        "id": "zXA3MO86BYLZ"
      },
      "execution_count": null,
      "outputs": []
    },
    {
      "cell_type": "code",
      "source": [
        "team_data=matches[0].merge(shooting[[\"Date\",\"Sh\",\"SoT\",\"Dist\",\"FK\",\"PK\",\"PKatt\"]],on=\"Date\")\n",
        "team_data=team_data[team_data[\"Comp\"] == \"Premier League\"]\n",
        "team_data"
      ],
      "metadata": {
        "id": "OmuilZHHBYLZ"
      },
      "execution_count": null,
      "outputs": []
    },
    {
      "cell_type": "code",
      "execution_count": null,
      "metadata": {
        "id": "0iFxt8sIBYLZ"
      },
      "outputs": [],
      "source": [
        "import requests\n",
        "standings_url=\"https://fbref.com/en/comps/9/2022-2023/2022-2023-Premier-League-Stats\"\n",
        "data=requests.get(standings_url)\n",
        "data.text\n",
        "from bs4 import BeautifulSoup\n",
        "soup=BeautifulSoup(data.text)\n",
        "standings_table=soup.select('table.stats_table')[0]\n",
        "links=standings_table.find_all('a')\n",
        "links=[l.get(\"href\") for l in links]\n",
        "links = [l for l in links if '/squads' in l]\n",
        "team_urls=[f\"https://fbref.com{l}\" for l in links]\n",
        "team_url=team_urls[6]\n",
        "data=requests.get(team_url)\n",
        "import pandas as pd\n",
        "matches=pd.read_html(data.text,match=\"Scores & Fixtures\")\n",
        "\n",
        "\n"
      ]
    },
    {
      "cell_type": "code",
      "source": [
        "soup=BeautifulSoup(data.text)\n",
        "links=soup.find_all('a')\n",
        "links=[l.get(\"href\") for l in links]\n",
        "links = [l for l in links if l and  'all_comps/shooting/' in l]\n",
        "data=requests.get(f\"https://fbref.com{links[0]}\")\n",
        "shooting =pd.read_html(data.text,match=\"Shooting\")[0]\n"
      ],
      "metadata": {
        "id": "DiC5jR5PBYLa"
      },
      "execution_count": null,
      "outputs": []
    },
    {
      "cell_type": "code",
      "source": [
        "shooting.columns=shooting.columns.droplevel()\n"
      ],
      "metadata": {
        "id": "7c_km3xZBYLa"
      },
      "execution_count": null,
      "outputs": []
    },
    {
      "cell_type": "code",
      "source": [
        "team_data=matches[0].merge(shooting[[\"Date\",\"Sh\",\"SoT\",\"Dist\",\"FK\",\"PK\",\"PKatt\"]],on=\"Date\")\n",
        "team_data=team_data[team_data[\"Comp\"] == \"Premier League\"]\n",
        "team_data"
      ],
      "metadata": {
        "id": "gKR6ZYOeBYLa"
      },
      "execution_count": null,
      "outputs": []
    },
    {
      "cell_type": "code",
      "execution_count": null,
      "metadata": {
        "id": "PirUdZFeBYLa"
      },
      "outputs": [],
      "source": [
        "import requests\n",
        "standings_url=\"https://fbref.com/en/comps/9/2022-2023/2022-2023-Premier-League-Stats\"\n",
        "data=requests.get(standings_url)\n",
        "data.text\n",
        "from bs4 import BeautifulSoup\n",
        "soup=BeautifulSoup(data.text)\n",
        "standings_table=soup.select('table.stats_table')[0]\n",
        "links=standings_table.find_all('a')\n",
        "links=[l.get(\"href\") for l in links]\n",
        "links = [l for l in links if '/squads' in l]\n",
        "team_urls=[f\"https://fbref.com{l}\" for l in links]\n",
        "team_url=team_urls[7]\n",
        "data=requests.get(team_url)\n",
        "import pandas as pd\n",
        "matches=pd.read_html(data.text,match=\"Scores & Fixtures\")\n",
        "\n",
        "\n"
      ]
    },
    {
      "cell_type": "code",
      "source": [
        "soup=BeautifulSoup(data.text)\n",
        "links=soup.find_all('a')\n",
        "links=[l.get(\"href\") for l in links]\n",
        "links = [l for l in links if l and  'all_comps/shooting/' in l]\n",
        "data=requests.get(f\"https://fbref.com{links[0]}\")\n",
        "shooting =pd.read_html(data.text,match=\"Shooting\")[0]\n"
      ],
      "metadata": {
        "id": "eIOGAxDyBYLa"
      },
      "execution_count": null,
      "outputs": []
    },
    {
      "cell_type": "code",
      "source": [
        "shooting.columns=shooting.columns.droplevel()\n"
      ],
      "metadata": {
        "id": "eMUK4saZBYLa"
      },
      "execution_count": null,
      "outputs": []
    },
    {
      "cell_type": "code",
      "source": [
        "team_data=matches[0].merge(shooting[[\"Date\",\"Sh\",\"SoT\",\"Dist\",\"FK\",\"PK\",\"PKatt\"]],on=\"Date\")\n",
        "team_data=team_data[team_data[\"Comp\"] == \"Premier League\"]\n",
        "team_data"
      ],
      "metadata": {
        "id": "8ZoLrknFBYLa"
      },
      "execution_count": null,
      "outputs": []
    },
    {
      "cell_type": "code",
      "execution_count": null,
      "metadata": {
        "id": "noEOf-KsBYLb"
      },
      "outputs": [],
      "source": [
        "import requests\n",
        "standings_url=\"https://fbref.com/en/comps/9/2022-2023/2022-2023-Premier-League-Stats\"\n",
        "data=requests.get(standings_url)\n",
        "data.text\n",
        "from bs4 import BeautifulSoup\n",
        "soup=BeautifulSoup(data.text)\n",
        "standings_table=soup.select('table.stats_table')[0]\n",
        "links=standings_table.find_all('a')\n",
        "links=[l.get(\"href\") for l in links]\n",
        "links = [l for l in links if '/squads' in l]\n",
        "team_urls=[f\"https://fbref.com{l}\" for l in links]\n",
        "team_url=team_urls[8]\n",
        "data=requests.get(team_url)\n",
        "import pandas as pd\n",
        "matches=pd.read_html(data.text,match=\"Scores & Fixtures\")\n",
        "\n",
        "\n"
      ]
    },
    {
      "cell_type": "code",
      "source": [
        "soup=BeautifulSoup(data.text)\n",
        "links=soup.find_all('a')\n",
        "links=[l.get(\"href\") for l in links]\n",
        "links = [l for l in links if l and  'all_comps/shooting/' in l]\n",
        "data=requests.get(f\"https://fbref.com{links[0]}\")\n",
        "shooting =pd.read_html(data.text,match=\"Shooting\")[0]\n"
      ],
      "metadata": {
        "id": "Xw3Te388BYLb"
      },
      "execution_count": null,
      "outputs": []
    },
    {
      "cell_type": "code",
      "source": [
        "shooting.columns=shooting.columns.droplevel()\n"
      ],
      "metadata": {
        "id": "Fz_EK53GBYLb"
      },
      "execution_count": null,
      "outputs": []
    },
    {
      "cell_type": "code",
      "source": [
        "team_data=matches[0].merge(shooting[[\"Date\",\"Sh\",\"SoT\",\"Dist\",\"FK\",\"PK\",\"PKatt\"]],on=\"Date\")\n",
        "team_data=team_data[team_data[\"Comp\"] == \"Premier League\"]\n",
        "team_data"
      ],
      "metadata": {
        "id": "y250GdZ3BYLb"
      },
      "execution_count": null,
      "outputs": []
    },
    {
      "cell_type": "code",
      "execution_count": null,
      "metadata": {
        "id": "uLObhzijBYLb"
      },
      "outputs": [],
      "source": [
        "import requests\n",
        "standings_url=\"https://fbref.com/en/comps/9/2022-2023/2022-2023-Premier-League-Stats\"\n",
        "data=requests.get(standings_url)\n",
        "data.text\n",
        "from bs4 import BeautifulSoup\n",
        "soup=BeautifulSoup(data.text)\n",
        "standings_table=soup.select('table.stats_table')[0]\n",
        "links=standings_table.find_all('a')\n",
        "links=[l.get(\"href\") for l in links]\n",
        "links = [l for l in links if '/squads' in l]\n",
        "team_urls=[f\"https://fbref.com{l}\" for l in links]\n",
        "team_url=team_urls[9]\n",
        "data=requests.get(team_url)\n",
        "import pandas as pd\n",
        "matches=pd.read_html(data.text,match=\"Scores & Fixtures\")\n",
        "\n",
        "\n"
      ]
    },
    {
      "cell_type": "code",
      "source": [
        "soup=BeautifulSoup(data.text)\n",
        "links=soup.find_all('a')\n",
        "links=[l.get(\"href\") for l in links]\n",
        "links = [l for l in links if l and  'all_comps/shooting/' in l]\n",
        "data=requests.get(f\"https://fbref.com{links[0]}\")\n",
        "shooting =pd.read_html(data.text,match=\"Shooting\")[0]\n"
      ],
      "metadata": {
        "id": "ceJQ4jHwBYLb"
      },
      "execution_count": null,
      "outputs": []
    },
    {
      "cell_type": "code",
      "source": [
        "shooting.columns=shooting.columns.droplevel()\n"
      ],
      "metadata": {
        "id": "SRFMl02UBYLb"
      },
      "execution_count": null,
      "outputs": []
    },
    {
      "cell_type": "code",
      "source": [
        "team_data=matches[0].merge(shooting[[\"Date\",\"Sh\",\"SoT\",\"Dist\",\"FK\",\"PK\",\"PKatt\"]],on=\"Date\")\n",
        "team_data=team_data[team_data[\"Comp\"] == \"Premier League\"]\n",
        "team_data"
      ],
      "metadata": {
        "id": "vcb92lmZBYLb"
      },
      "execution_count": null,
      "outputs": []
    },
    {
      "cell_type": "code",
      "execution_count": null,
      "metadata": {
        "id": "ThXHFO-RBYLc"
      },
      "outputs": [],
      "source": [
        "import requests\n",
        "standings_url=\"https://fbref.com/en/comps/9/2022-2023/2022-2023-Premier-League-Stats\"\n",
        "data=requests.get(standings_url)\n",
        "data.text\n",
        "from bs4 import BeautifulSoup\n",
        "soup=BeautifulSoup(data.text)\n",
        "standings_table=soup.select('table.stats_table')[0]\n",
        "links=standings_table.find_all('a')\n",
        "links=[l.get(\"href\") for l in links]\n",
        "links = [l for l in links if '/squads' in l]\n",
        "team_urls=[f\"https://fbref.com{l}\" for l in links]\n",
        "team_url=team_urls[10]\n",
        "data=requests.get(team_url)\n",
        "import pandas as pd\n",
        "matches=pd.read_html(data.text,match=\"Scores & Fixtures\")\n",
        "\n",
        "\n"
      ]
    },
    {
      "cell_type": "code",
      "source": [
        "soup=BeautifulSoup(data.text)\n",
        "links=soup.find_all('a')\n",
        "links=[l.get(\"href\") for l in links]\n",
        "links = [l for l in links if l and  'all_comps/shooting/' in l]\n",
        "data=requests.get(f\"https://fbref.com{links[0]}\")\n",
        "shooting =pd.read_html(data.text,match=\"Shooting\")[0]\n"
      ],
      "metadata": {
        "id": "7UVarKOtBYLc"
      },
      "execution_count": null,
      "outputs": []
    },
    {
      "cell_type": "code",
      "source": [
        "shooting.columns=shooting.columns.droplevel()\n"
      ],
      "metadata": {
        "id": "33bCsl9dBYLc"
      },
      "execution_count": null,
      "outputs": []
    },
    {
      "cell_type": "code",
      "source": [
        "team_data=matches[0].merge(shooting[[\"Date\",\"Sh\",\"SoT\",\"Dist\",\"FK\",\"PK\",\"PKatt\"]],on=\"Date\")\n",
        "team_data=team_data[team_data[\"Comp\"] == \"Premier League\"]\n",
        "team_data"
      ],
      "metadata": {
        "id": "2MCCNjaeBYLc"
      },
      "execution_count": null,
      "outputs": []
    },
    {
      "cell_type": "code",
      "execution_count": null,
      "metadata": {
        "id": "eFsVBSAFBYLc"
      },
      "outputs": [],
      "source": [
        "import requests\n",
        "standings_url=\"https://fbref.com/en/comps/9/2022-2023/2022-2023-Premier-League-Stats\"\n",
        "data=requests.get(standings_url)\n",
        "data.text\n",
        "from bs4 import BeautifulSoup\n",
        "soup=BeautifulSoup(data.text)\n",
        "standings_table=soup.select('table.stats_table')[0]\n",
        "links=standings_table.find_all('a')\n",
        "links=[l.get(\"href\") for l in links]\n",
        "links = [l for l in links if '/squads' in l]\n",
        "team_urls=[f\"https://fbref.com{l}\" for l in links]\n",
        "team_url=team_urls[11]\n",
        "data=requests.get(team_url)\n",
        "import pandas as pd\n",
        "matches=pd.read_html(data.text,match=\"Scores & Fixtures\")\n",
        "\n",
        "\n"
      ]
    },
    {
      "cell_type": "code",
      "source": [
        "soup=BeautifulSoup(data.text)\n",
        "links=soup.find_all('a')\n",
        "links=[l.get(\"href\") for l in links]\n",
        "links = [l for l in links if l and  'all_comps/shooting/' in l]\n",
        "data=requests.get(f\"https://fbref.com{links[0]}\")\n",
        "shooting =pd.read_html(data.text,match=\"Shooting\")[0]\n"
      ],
      "metadata": {
        "id": "oKFiWDCcBYLd"
      },
      "execution_count": null,
      "outputs": []
    },
    {
      "cell_type": "code",
      "source": [
        "shooting.columns=shooting.columns.droplevel()\n"
      ],
      "metadata": {
        "id": "RQ_UazpvBYLd"
      },
      "execution_count": null,
      "outputs": []
    },
    {
      "cell_type": "code",
      "source": [
        "team_data=matches[0].merge(shooting[[\"Date\",\"Sh\",\"SoT\",\"Dist\",\"FK\",\"PK\",\"PKatt\"]],on=\"Date\")\n",
        "team_data=team_data[team_data[\"Comp\"] == \"Premier League\"]\n",
        "team_data"
      ],
      "metadata": {
        "id": "7veWW-8FBYLd"
      },
      "execution_count": null,
      "outputs": []
    },
    {
      "cell_type": "code",
      "execution_count": null,
      "metadata": {
        "id": "HzLDFVaiBYLd"
      },
      "outputs": [],
      "source": [
        "import requests\n",
        "standings_url=\"https://fbref.com/en/comps/9/2022-2023/2022-2023-Premier-League-Stats\"\n",
        "data=requests.get(standings_url)\n",
        "data.text\n",
        "from bs4 import BeautifulSoup\n",
        "soup=BeautifulSoup(data.text)\n",
        "standings_table=soup.select('table.stats_table')[0]\n",
        "links=standings_table.find_all('a')\n",
        "links=[l.get(\"href\") for l in links]\n",
        "links = [l for l in links if '/squads' in l]\n",
        "team_urls=[f\"https://fbref.com{l}\" for l in links]\n",
        "team_url=team_urls[12]\n",
        "data=requests.get(team_url)\n",
        "import pandas as pd\n",
        "matches=pd.read_html(data.text,match=\"Scores & Fixtures\")\n",
        "\n",
        "\n"
      ]
    },
    {
      "cell_type": "code",
      "source": [
        "soup=BeautifulSoup(data.text)\n",
        "links=soup.find_all('a')\n",
        "links=[l.get(\"href\") for l in links]\n",
        "links = [l for l in links if l and  'all_comps/shooting/' in l]\n",
        "data=requests.get(f\"https://fbref.com{links[0]}\")\n",
        "shooting =pd.read_html(data.text,match=\"Shooting\")[0]\n"
      ],
      "metadata": {
        "id": "bvnltQ6BBYLd"
      },
      "execution_count": null,
      "outputs": []
    },
    {
      "cell_type": "code",
      "source": [
        "shooting.columns=shooting.columns.droplevel()\n"
      ],
      "metadata": {
        "id": "J0sKGQlMBYLd"
      },
      "execution_count": null,
      "outputs": []
    },
    {
      "cell_type": "code",
      "source": [
        "team_data=matches[0].merge(shooting[[\"Date\",\"Sh\",\"SoT\",\"Dist\",\"FK\",\"PK\",\"PKatt\"]],on=\"Date\")\n",
        "team_data=team_data[team_data[\"Comp\"] == \"Premier League\"]\n",
        "team_data"
      ],
      "metadata": {
        "id": "P1lEN9xIBYLd"
      },
      "execution_count": null,
      "outputs": []
    },
    {
      "cell_type": "code",
      "execution_count": null,
      "metadata": {
        "id": "3P7p389eBYLe"
      },
      "outputs": [],
      "source": [
        "import requests\n",
        "standings_url=\"https://fbref.com/en/comps/9/2022-2023/2022-2023-Premier-League-Stats\"\n",
        "data=requests.get(standings_url)\n",
        "data.text\n",
        "from bs4 import BeautifulSoup\n",
        "soup=BeautifulSoup(data.text)\n",
        "standings_table=soup.select('table.stats_table')[0]\n",
        "links=standings_table.find_all('a')\n",
        "links=[l.get(\"href\") for l in links]\n",
        "links = [l for l in links if '/squads' in l]\n",
        "team_urls=[f\"https://fbref.com{l}\" for l in links]\n",
        "team_url=team_urls[13]\n",
        "data=requests.get(team_url)\n",
        "import pandas as pd\n",
        "matches=pd.read_html(data.text,match=\"Scores & Fixtures\")\n",
        "\n",
        "\n"
      ]
    },
    {
      "cell_type": "code",
      "source": [
        "soup=BeautifulSoup(data.text)\n",
        "links=soup.find_all('a')\n",
        "links=[l.get(\"href\") for l in links]\n",
        "links = [l for l in links if l and  'all_comps/shooting/' in l]\n",
        "data=requests.get(f\"https://fbref.com{links[0]}\")\n",
        "shooting =pd.read_html(data.text,match=\"Shooting\")[0]\n"
      ],
      "metadata": {
        "id": "b-PsYNKSBYLe"
      },
      "execution_count": null,
      "outputs": []
    },
    {
      "cell_type": "code",
      "source": [
        "shooting.columns=shooting.columns.droplevel()\n"
      ],
      "metadata": {
        "id": "0K1xKWVSBYLe"
      },
      "execution_count": null,
      "outputs": []
    },
    {
      "cell_type": "code",
      "source": [
        "team_data=matches[0].merge(shooting[[\"Date\",\"Sh\",\"SoT\",\"Dist\",\"FK\",\"PK\",\"PKatt\"]],on=\"Date\")\n",
        "team_data=team_data[team_data[\"Comp\"] == \"Premier League\"]\n",
        "team_data"
      ],
      "metadata": {
        "id": "jvY-HhFEBYLe"
      },
      "execution_count": null,
      "outputs": []
    },
    {
      "cell_type": "code",
      "execution_count": null,
      "metadata": {
        "id": "H0OWD4V2BYLe"
      },
      "outputs": [],
      "source": [
        "import requests\n",
        "standings_url=\"https://fbref.com/en/comps/9/2022-2023/2022-2023-Premier-League-Stats\"\n",
        "data=requests.get(standings_url)\n",
        "data.text\n",
        "from bs4 import BeautifulSoup\n",
        "soup=BeautifulSoup(data.text)\n",
        "standings_table=soup.select('table.stats_table')[0]\n",
        "links=standings_table.find_all('a')\n",
        "links=[l.get(\"href\") for l in links]\n",
        "links = [l for l in links if '/squads' in l]\n",
        "team_urls=[f\"https://fbref.com{l}\" for l in links]\n",
        "team_url=team_urls[14]\n",
        "data=requests.get(team_url)\n",
        "import pandas as pd\n",
        "matches=pd.read_html(data.text,match=\"Scores & Fixtures\")\n",
        "\n",
        "\n"
      ]
    },
    {
      "cell_type": "code",
      "source": [
        "soup=BeautifulSoup(data.text)\n",
        "links=soup.find_all('a')\n",
        "links=[l.get(\"href\") for l in links]\n",
        "links = [l for l in links if l and  'all_comps/shooting/' in l]\n",
        "data=requests.get(f\"https://fbref.com{links[0]}\")\n",
        "shooting =pd.read_html(data.text,match=\"Shooting\")[0]\n"
      ],
      "metadata": {
        "id": "4E6snoMiBYLe"
      },
      "execution_count": null,
      "outputs": []
    },
    {
      "cell_type": "code",
      "source": [
        "shooting.columns=shooting.columns.droplevel()\n"
      ],
      "metadata": {
        "id": "NChy_kH2BYLe"
      },
      "execution_count": null,
      "outputs": []
    },
    {
      "cell_type": "code",
      "source": [
        "team_data=matches[0].merge(shooting[[\"Date\",\"Sh\",\"SoT\",\"Dist\",\"FK\",\"PK\",\"PKatt\"]],on=\"Date\")\n",
        "team_data=team_data[team_data[\"Comp\"] == \"Premier League\"]\n",
        "team_data"
      ],
      "metadata": {
        "id": "fUwmzi7nBYLf"
      },
      "execution_count": null,
      "outputs": []
    },
    {
      "cell_type": "code",
      "execution_count": null,
      "metadata": {
        "id": "r-u1EsfjBYLf"
      },
      "outputs": [],
      "source": [
        "import requests\n",
        "standings_url=\"https://fbref.com/en/comps/9/2022-2023/2022-2023-Premier-League-Stats\"\n",
        "data=requests.get(standings_url)\n",
        "data.text\n",
        "from bs4 import BeautifulSoup\n",
        "soup=BeautifulSoup(data.text)\n",
        "standings_table=soup.select('table.stats_table')[0]\n",
        "links=standings_table.find_all('a')\n",
        "links=[l.get(\"href\") for l in links]\n",
        "links = [l for l in links if '/squads' in l]\n",
        "team_urls=[f\"https://fbref.com{l}\" for l in links]\n",
        "team_url=team_urls[15]\n",
        "data=requests.get(team_url)\n",
        "import pandas as pd\n",
        "matches=pd.read_html(data.text,match=\"Scores & Fixtures\")\n",
        "\n",
        "\n"
      ]
    },
    {
      "cell_type": "code",
      "source": [
        "soup=BeautifulSoup(data.text)\n",
        "links=soup.find_all('a')\n",
        "links=[l.get(\"href\") for l in links]\n",
        "links = [l for l in links if l and  'all_comps/shooting/' in l]\n",
        "data=requests.get(f\"https://fbref.com{links[0]}\")\n",
        "shooting =pd.read_html(data.text,match=\"Shooting\")[0]\n"
      ],
      "metadata": {
        "id": "jRpsLgUvBYLf"
      },
      "execution_count": null,
      "outputs": []
    },
    {
      "cell_type": "code",
      "source": [
        "shooting.columns=shooting.columns.droplevel()\n"
      ],
      "metadata": {
        "id": "TMpRjcxLBYLf"
      },
      "execution_count": null,
      "outputs": []
    },
    {
      "cell_type": "code",
      "source": [
        "team_data=matches[0].merge(shooting[[\"Date\",\"Sh\",\"SoT\",\"Dist\",\"FK\",\"PK\",\"PKatt\"]],on=\"Date\")\n",
        "team_data=team_data[team_data[\"Comp\"] == \"Premier League\"]\n",
        "team_data"
      ],
      "metadata": {
        "id": "UoJkerKBBYLf"
      },
      "execution_count": null,
      "outputs": []
    },
    {
      "cell_type": "code",
      "execution_count": null,
      "metadata": {
        "id": "uo5B8xrhBYLf"
      },
      "outputs": [],
      "source": [
        "import requests\n",
        "standings_url=\"https://fbref.com/en/comps/9/2022-2023/2022-2023-Premier-League-Stats\"\n",
        "data=requests.get(standings_url)\n",
        "data.text\n",
        "from bs4 import BeautifulSoup\n",
        "soup=BeautifulSoup(data.text)\n",
        "standings_table=soup.select('table.stats_table')[0]\n",
        "links=standings_table.find_all('a')\n",
        "links=[l.get(\"href\") for l in links]\n",
        "links = [l for l in links if '/squads' in l]\n",
        "team_urls=[f\"https://fbref.com{l}\" for l in links]\n",
        "team_url=team_urls[16]\n",
        "data=requests.get(team_url)\n",
        "import pandas as pd\n",
        "matches=pd.read_html(data.text,match=\"Scores & Fixtures\")\n",
        "\n",
        "\n"
      ]
    },
    {
      "cell_type": "code",
      "source": [
        "soup=BeautifulSoup(data.text)\n",
        "links=soup.find_all('a')\n",
        "links=[l.get(\"href\") for l in links]\n",
        "links = [l for l in links if l and  'all_comps/shooting/' in l]\n",
        "data=requests.get(f\"https://fbref.com{links[0]}\")\n",
        "shooting =pd.read_html(data.text,match=\"Shooting\")[0]\n"
      ],
      "metadata": {
        "id": "Vud_QIE-BYLg"
      },
      "execution_count": null,
      "outputs": []
    },
    {
      "cell_type": "code",
      "source": [
        "shooting.columns=shooting.columns.droplevel()\n"
      ],
      "metadata": {
        "id": "9hxOFT2HBYLg"
      },
      "execution_count": null,
      "outputs": []
    },
    {
      "cell_type": "code",
      "source": [
        "team_data=matches[0].merge(shooting[[\"Date\",\"Sh\",\"SoT\",\"Dist\",\"FK\",\"PK\",\"PKatt\"]],on=\"Date\")\n",
        "team_data=team_data[team_data[\"Comp\"] == \"Premier League\"]\n",
        "team_data"
      ],
      "metadata": {
        "id": "dZav_QdHBYLg"
      },
      "execution_count": null,
      "outputs": []
    },
    {
      "cell_type": "code",
      "execution_count": null,
      "metadata": {
        "id": "8t0kdBVcBYLg"
      },
      "outputs": [],
      "source": [
        "import requests\n",
        "standings_url=\"https://fbref.com/en/comps/9/2022-2023/2022-2023-Premier-League-Stats\"\n",
        "data=requests.get(standings_url)\n",
        "data.text\n",
        "from bs4 import BeautifulSoup\n",
        "soup=BeautifulSoup(data.text)\n",
        "standings_table=soup.select('table.stats_table')[0]\n",
        "links=standings_table.find_all('a')\n",
        "links=[l.get(\"href\") for l in links]\n",
        "links = [l for l in links if '/squads' in l]\n",
        "team_urls=[f\"https://fbref.com{l}\" for l in links]\n",
        "team_url=team_urls[17]\n",
        "data=requests.get(team_url)\n",
        "import pandas as pd\n",
        "matches=pd.read_html(data.text,match=\"Scores & Fixtures\")\n",
        "\n",
        "\n"
      ]
    },
    {
      "cell_type": "code",
      "source": [
        "soup=BeautifulSoup(data.text)\n",
        "links=soup.find_all('a')\n",
        "links=[l.get(\"href\") for l in links]\n",
        "links = [l for l in links if l and  'all_comps/shooting/' in l]\n",
        "data=requests.get(f\"https://fbref.com{links[0]}\")\n",
        "shooting =pd.read_html(data.text,match=\"Shooting\")[0]\n"
      ],
      "metadata": {
        "id": "2FdSFLFzBYLg"
      },
      "execution_count": null,
      "outputs": []
    },
    {
      "cell_type": "code",
      "source": [
        "shooting.columns=shooting.columns.droplevel()\n"
      ],
      "metadata": {
        "id": "L3uIZaS3BYLg"
      },
      "execution_count": null,
      "outputs": []
    },
    {
      "cell_type": "code",
      "source": [
        "team_data=matches[0].merge(shooting[[\"Date\",\"Sh\",\"SoT\",\"Dist\",\"FK\",\"PK\",\"PKatt\"]],on=\"Date\")\n",
        "team_data=team_data[team_data[\"Comp\"] == \"Premier League\"]\n",
        "team_data"
      ],
      "metadata": {
        "id": "AtyCzcPbBYLh"
      },
      "execution_count": null,
      "outputs": []
    },
    {
      "cell_type": "code",
      "execution_count": null,
      "metadata": {
        "id": "jcAtYU5oBYLh"
      },
      "outputs": [],
      "source": [
        "import requests\n",
        "standings_url=\"https://fbref.com/en/comps/9/2022-2023/2022-2023-Premier-League-Stats\"\n",
        "data=requests.get(standings_url)\n",
        "data.text\n",
        "from bs4 import BeautifulSoup\n",
        "soup=BeautifulSoup(data.text)\n",
        "standings_table=soup.select('table.stats_table')[0]\n",
        "links=standings_table.find_all('a')\n",
        "links=[l.get(\"href\") for l in links]\n",
        "links = [l for l in links if '/squads' in l]\n",
        "team_urls=[f\"https://fbref.com{l}\" for l in links]\n",
        "team_url=team_urls[18]\n",
        "data=requests.get(team_url)\n",
        "import pandas as pd\n",
        "matches=pd.read_html(data.text,match=\"Scores & Fixtures\")\n",
        "\n",
        "\n"
      ]
    },
    {
      "cell_type": "code",
      "source": [
        "soup=BeautifulSoup(data.text)\n",
        "links=soup.find_all('a')\n",
        "links=[l.get(\"href\") for l in links]\n",
        "links = [l for l in links if l and  'all_comps/shooting/' in l]\n",
        "data=requests.get(f\"https://fbref.com{links[0]}\")\n",
        "shooting =pd.read_html(data.text,match=\"Shooting\")[0]\n"
      ],
      "metadata": {
        "id": "Qt6qDrJEBYLh"
      },
      "execution_count": null,
      "outputs": []
    },
    {
      "cell_type": "code",
      "source": [
        "shooting.columns=shooting.columns.droplevel()\n"
      ],
      "metadata": {
        "id": "kP6HjLD2BYLh"
      },
      "execution_count": null,
      "outputs": []
    },
    {
      "cell_type": "code",
      "source": [
        "team_data=matches[0].merge(shooting[[\"Date\",\"Sh\",\"SoT\",\"Dist\",\"FK\",\"PK\",\"PKatt\"]],on=\"Date\")\n",
        "team_data=team_data[team_data[\"Comp\"] == \"Premier League\"]\n",
        "team_data"
      ],
      "metadata": {
        "id": "sgRLeMQRBYLh"
      },
      "execution_count": null,
      "outputs": []
    },
    {
      "cell_type": "code",
      "execution_count": null,
      "metadata": {
        "id": "KSYGO4SBBYLh"
      },
      "outputs": [],
      "source": [
        "import requests\n",
        "standings_url=\"https://fbref.com/en/comps/9/2022-2023/2022-2023-Premier-League-Stats\"\n",
        "data=requests.get(standings_url)\n",
        "data.text\n",
        "from bs4 import BeautifulSoup\n",
        "soup=BeautifulSoup(data.text)\n",
        "standings_table=soup.select('table.stats_table')[0]\n",
        "links=standings_table.find_all('a')\n",
        "links=[l.get(\"href\") for l in links]\n",
        "links = [l for l in links if '/squads' in l]\n",
        "team_urls=[f\"https://fbref.com{l}\" for l in links]\n",
        "team_url=team_urls[19]\n",
        "data=requests.get(team_url)\n",
        "import pandas as pd\n",
        "matches=pd.read_html(data.text,match=\"Scores & Fixtures\")\n",
        "\n",
        "\n"
      ]
    },
    {
      "cell_type": "code",
      "source": [
        "soup=BeautifulSoup(data.text)\n",
        "links=soup.find_all('a')\n",
        "links=[l.get(\"href\") for l in links]\n",
        "links = [l for l in links if l and  'all_comps/shooting/' in l]\n",
        "data=requests.get(f\"https://fbref.com{links[0]}\")\n",
        "shooting =pd.read_html(data.text,match=\"Shooting\")[0]\n"
      ],
      "metadata": {
        "id": "H3GCSAHOBYLi"
      },
      "execution_count": null,
      "outputs": []
    },
    {
      "cell_type": "code",
      "source": [
        "shooting.columns=shooting.columns.droplevel()\n"
      ],
      "metadata": {
        "id": "aI2leh3eBYLi"
      },
      "execution_count": null,
      "outputs": []
    },
    {
      "cell_type": "code",
      "source": [
        "team_data=matches[0].merge(shooting[[\"Date\",\"Sh\",\"SoT\",\"Dist\",\"FK\",\"PK\",\"PKatt\"]],on=\"Date\")\n",
        "team_data=team_data[team_data[\"Comp\"] == \"Premier League\"]\n",
        "team_data"
      ],
      "metadata": {
        "id": "IKi-658yBYLi"
      },
      "execution_count": null,
      "outputs": []
    }
  ]
}